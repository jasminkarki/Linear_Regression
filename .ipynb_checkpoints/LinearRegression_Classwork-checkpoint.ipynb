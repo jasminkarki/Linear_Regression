{
 "cells": [
  {
   "cell_type": "code",
   "execution_count": 1,
   "metadata": {},
   "outputs": [],
   "source": [
    "import numpy as np\n",
    "import pandas as pd\n",
    "import matplotlib.pyplot as plt\n",
    "%matplotlib inline\n",
    "\n",
    "df = pd.read_csv('Price.csv')"
   ]
  },
  {
   "cell_type": "code",
   "execution_count": 2,
   "metadata": {},
   "outputs": [],
   "source": [
    "#Renaming title of columns\n",
    "df = df.rename(columns ={'कृषि उपज':'Name','ईकाइ':'Quantity','न्यूनतम':'Min','अधिकतम':'Max','औसत':'Avg'})\n",
    "\n",
    "#Converting column containing nepali numbers into int\n",
    "df['Avg']=df['Avg'].apply(lambda x: int(x))"
   ]
  },
  {
   "cell_type": "code",
   "execution_count": 3,
   "metadata": {},
   "outputs": [
    {
     "name": "stdout",
     "output_type": "stream",
     "text": [
      "Name                 object\n",
      "Quantity             object\n",
      "Min                  object\n",
      "Max                  object\n",
      "Avg                   int64\n",
      "cdate        datetime64[ns]\n",
      "pricetype            object\n",
      "dtype: object\n"
     ]
    }
   ],
   "source": [
    "#Converting date column to date\n",
    "import datetime\n",
    "df['cdate']=pd.to_datetime(df['cdate'])\n",
    "print(df.dtypes)      #Data types of the columns in df"
   ]
  },
  {
   "cell_type": "code",
   "execution_count": 4,
   "metadata": {},
   "outputs": [
    {
     "data": {
      "text/plain": [
       "केरा                1436\n",
       "भुर्इ कटहर          1436\n",
       "अदुवा               1436\n",
       "मूला सेतो(लोकल)     1436\n",
       "खु्र्सानी सुकेको    1436\n",
       "                    ... \n",
       "अम्बा                 44\n",
       "सजिवन                 32\n",
       "अंगुर(कालो)           32\n",
       "लीच्ची(भारतीय)        28\n",
       "परवर(तराई)            16\n",
       "Name: Name, Length: 120, dtype: int64"
      ]
     },
     "execution_count": 4,
     "metadata": {},
     "output_type": "execute_result"
    }
   ],
   "source": [
    "df['Name'].value_counts()"
   ]
  },
  {
   "cell_type": "code",
   "execution_count": 5,
   "metadata": {},
   "outputs": [
    {
     "data": {
      "text/html": [
       "<div>\n",
       "<style scoped>\n",
       "    .dataframe tbody tr th:only-of-type {\n",
       "        vertical-align: middle;\n",
       "    }\n",
       "\n",
       "    .dataframe tbody tr th {\n",
       "        vertical-align: top;\n",
       "    }\n",
       "\n",
       "    .dataframe thead th {\n",
       "        text-align: right;\n",
       "    }\n",
       "</style>\n",
       "<table border=\"1\" class=\"dataframe\">\n",
       "  <thead>\n",
       "    <tr style=\"text-align: right;\">\n",
       "      <th></th>\n",
       "      <th>Name</th>\n",
       "      <th>Quantity</th>\n",
       "      <th>Min</th>\n",
       "      <th>Max</th>\n",
       "      <th>Avg</th>\n",
       "      <th>cdate</th>\n",
       "      <th>pricetype</th>\n",
       "    </tr>\n",
       "  </thead>\n",
       "  <tbody>\n",
       "    <tr>\n",
       "      <th>0</th>\n",
       "      <td>गोलभेडा ठूलो(नेपाली)</td>\n",
       "      <td>के.जी.</td>\n",
       "      <td>३०</td>\n",
       "      <td>३५</td>\n",
       "      <td>33</td>\n",
       "      <td>2018-02-25</td>\n",
       "      <td>W</td>\n",
       "    </tr>\n",
       "    <tr>\n",
       "      <th>1</th>\n",
       "      <td>गोलभेडा सानो</td>\n",
       "      <td>के.जी.</td>\n",
       "      <td>२५</td>\n",
       "      <td>३०</td>\n",
       "      <td>28</td>\n",
       "      <td>2018-02-25</td>\n",
       "      <td>W</td>\n",
       "    </tr>\n",
       "    <tr>\n",
       "      <th>2</th>\n",
       "      <td>अालु रातो</td>\n",
       "      <td>के.जी.</td>\n",
       "      <td>२०</td>\n",
       "      <td>२३</td>\n",
       "      <td>22</td>\n",
       "      <td>2018-02-25</td>\n",
       "      <td>W</td>\n",
       "    </tr>\n",
       "    <tr>\n",
       "      <th>3</th>\n",
       "      <td>अालु सेतो</td>\n",
       "      <td>के.जी.</td>\n",
       "      <td>१८</td>\n",
       "      <td>२०</td>\n",
       "      <td>19</td>\n",
       "      <td>2018-02-25</td>\n",
       "      <td>W</td>\n",
       "    </tr>\n",
       "    <tr>\n",
       "      <th>4</th>\n",
       "      <td>प्याज सुकेको भारतीय</td>\n",
       "      <td>के.जी.</td>\n",
       "      <td>४४</td>\n",
       "      <td>४६</td>\n",
       "      <td>45</td>\n",
       "      <td>2018-02-25</td>\n",
       "      <td>W</td>\n",
       "    </tr>\n",
       "    <tr>\n",
       "      <th>5</th>\n",
       "      <td>गाजर(लोकल)</td>\n",
       "      <td>के.जी.</td>\n",
       "      <td>२५</td>\n",
       "      <td>३०</td>\n",
       "      <td>28</td>\n",
       "      <td>2018-02-25</td>\n",
       "      <td>W</td>\n",
       "    </tr>\n",
       "    <tr>\n",
       "      <th>6</th>\n",
       "      <td>बन्दा(लोकल)</td>\n",
       "      <td>के.जी.</td>\n",
       "      <td>२२</td>\n",
       "      <td>२८</td>\n",
       "      <td>25</td>\n",
       "      <td>2018-02-25</td>\n",
       "      <td>W</td>\n",
       "    </tr>\n",
       "    <tr>\n",
       "      <th>7</th>\n",
       "      <td>काउली स्थानिय</td>\n",
       "      <td>के.जी.</td>\n",
       "      <td>२५</td>\n",
       "      <td>३०</td>\n",
       "      <td>28</td>\n",
       "      <td>2018-02-25</td>\n",
       "      <td>W</td>\n",
       "    </tr>\n",
       "    <tr>\n",
       "      <th>8</th>\n",
       "      <td>काउली तरार्इ</td>\n",
       "      <td>के.जी.</td>\n",
       "      <td>२०</td>\n",
       "      <td>२५</td>\n",
       "      <td>23</td>\n",
       "      <td>2018-02-25</td>\n",
       "      <td>W</td>\n",
       "    </tr>\n",
       "    <tr>\n",
       "      <th>9</th>\n",
       "      <td>मूला रातो</td>\n",
       "      <td>के.जी.</td>\n",
       "      <td>३०</td>\n",
       "      <td>३५</td>\n",
       "      <td>33</td>\n",
       "      <td>2018-02-25</td>\n",
       "      <td>W</td>\n",
       "    </tr>\n",
       "  </tbody>\n",
       "</table>\n",
       "</div>"
      ],
      "text/plain": [
       "                   Name Quantity Min Max  Avg      cdate pricetype\n",
       "0  गोलभेडा ठूलो(नेपाली)   के.जी.  ३०  ३५   33 2018-02-25         W\n",
       "1          गोलभेडा सानो   के.जी.  २५  ३०   28 2018-02-25         W\n",
       "2             अालु रातो   के.जी.  २०  २३   22 2018-02-25         W\n",
       "3             अालु सेतो   के.जी.  १८  २०   19 2018-02-25         W\n",
       "4   प्याज सुकेको भारतीय   के.जी.  ४४  ४६   45 2018-02-25         W\n",
       "5            गाजर(लोकल)   के.जी.  २५  ३०   28 2018-02-25         W\n",
       "6           बन्दा(लोकल)   के.जी.  २२  २८   25 2018-02-25         W\n",
       "7         काउली स्थानिय   के.जी.  २५  ३०   28 2018-02-25         W\n",
       "8          काउली तरार्इ   के.जी.  २०  २५   23 2018-02-25         W\n",
       "9             मूला रातो   के.जी.  ३०  ३५   33 2018-02-25         W"
      ]
     },
     "execution_count": 5,
     "metadata": {},
     "output_type": "execute_result"
    }
   ],
   "source": [
    "df.head(10)"
   ]
  },
  {
   "cell_type": "markdown",
   "metadata": {},
   "source": [
    "### Adding two features: \n",
    "#### Price of yesterday and the day before yesterday"
   ]
  },
  {
   "cell_type": "code",
   "execution_count": 6,
   "metadata": {},
   "outputs": [],
   "source": [
    "vegetable = set(df['Name'].values)      #Creating a set of vegetable i.e taking all the unique vegetables\n",
    "len(vegetable)\n",
    "\n",
    "feature_df = []                         # Empty list for future use\n",
    "\n",
    "for v in vegetable:\n",
    "    for p_type in ['W','R']:\n",
    "\n",
    "        df_v = df[(df['Name'] == v) & (df['pricetype']== p_type)] #taking a vegetable of only one pricetype\n",
    "        df_v = df_v.sort_values(by = ['cdate'], ascending = False) #sorting in descending order based on date. Recent date will be at first.\n",
    "\n",
    "        if p_type == 'W':\n",
    "            df_v['type'] = 1\n",
    "        else:\n",
    "            df_v['type'] = 0\n",
    "\n",
    "\n",
    "        df_v['t_1'] = df_v.shift(-1)['Avg']\n",
    "        df_v['t_2'] = df_v.shift(-2)['Avg']\n",
    "#         df_v['t_7'] = df_v.shift(-7)['Avg']     #Could be a feature but data size decreases drastically\n",
    "\n",
    "        feature_df.append(df_v)\n"
   ]
  },
  {
   "cell_type": "code",
   "execution_count": 7,
   "metadata": {},
   "outputs": [],
   "source": [
    "feature_df = pd.concat(feature_df)"
   ]
  },
  {
   "cell_type": "code",
   "execution_count": 8,
   "metadata": {},
   "outputs": [
    {
     "data": {
      "text/html": [
       "<div>\n",
       "<style scoped>\n",
       "    .dataframe tbody tr th:only-of-type {\n",
       "        vertical-align: middle;\n",
       "    }\n",
       "\n",
       "    .dataframe tbody tr th {\n",
       "        vertical-align: top;\n",
       "    }\n",
       "\n",
       "    .dataframe thead th {\n",
       "        text-align: right;\n",
       "    }\n",
       "</style>\n",
       "<table border=\"1\" class=\"dataframe\">\n",
       "  <thead>\n",
       "    <tr style=\"text-align: right;\">\n",
       "      <th></th>\n",
       "      <th>Name</th>\n",
       "      <th>Quantity</th>\n",
       "      <th>Min</th>\n",
       "      <th>Max</th>\n",
       "      <th>Avg</th>\n",
       "      <th>cdate</th>\n",
       "      <th>pricetype</th>\n",
       "      <th>type</th>\n",
       "      <th>t_1</th>\n",
       "      <th>t_2</th>\n",
       "    </tr>\n",
       "  </thead>\n",
       "  <tbody>\n",
       "    <tr>\n",
       "      <th>70392</th>\n",
       "      <td>नासपाती(चाइनिज)</td>\n",
       "      <td>केजी</td>\n",
       "      <td>२४०</td>\n",
       "      <td>२५०</td>\n",
       "      <td>245</td>\n",
       "      <td>2019-08-12</td>\n",
       "      <td>R</td>\n",
       "      <td>0</td>\n",
       "      <td>240.0</td>\n",
       "      <td>255.0</td>\n",
       "    </tr>\n",
       "    <tr>\n",
       "      <th>70241</th>\n",
       "      <td>नासपाती(चाइनिज)</td>\n",
       "      <td>केजी</td>\n",
       "      <td>२३०</td>\n",
       "      <td>२५०</td>\n",
       "      <td>240</td>\n",
       "      <td>2019-08-11</td>\n",
       "      <td>R</td>\n",
       "      <td>0</td>\n",
       "      <td>255.0</td>\n",
       "      <td>190.0</td>\n",
       "    </tr>\n",
       "    <tr>\n",
       "      <th>70090</th>\n",
       "      <td>नासपाती(चाइनिज)</td>\n",
       "      <td>केजी</td>\n",
       "      <td>२५०</td>\n",
       "      <td>२६०</td>\n",
       "      <td>255</td>\n",
       "      <td>2019-08-10</td>\n",
       "      <td>R</td>\n",
       "      <td>0</td>\n",
       "      <td>190.0</td>\n",
       "      <td>240.0</td>\n",
       "    </tr>\n",
       "    <tr>\n",
       "      <th>69937</th>\n",
       "      <td>नासपाती(चाइनिज)</td>\n",
       "      <td>केजी</td>\n",
       "      <td>१८०</td>\n",
       "      <td>२००</td>\n",
       "      <td>190</td>\n",
       "      <td>2019-08-09</td>\n",
       "      <td>R</td>\n",
       "      <td>0</td>\n",
       "      <td>240.0</td>\n",
       "      <td>205.0</td>\n",
       "    </tr>\n",
       "    <tr>\n",
       "      <th>69785</th>\n",
       "      <td>नासपाती(चाइनिज)</td>\n",
       "      <td>केजी</td>\n",
       "      <td>२३०</td>\n",
       "      <td>२५०</td>\n",
       "      <td>240</td>\n",
       "      <td>2019-08-08</td>\n",
       "      <td>R</td>\n",
       "      <td>0</td>\n",
       "      <td>205.0</td>\n",
       "      <td>215.0</td>\n",
       "    </tr>\n",
       "  </tbody>\n",
       "</table>\n",
       "</div>"
      ],
      "text/plain": [
       "                  Name Quantity  Min  Max  Avg      cdate pricetype  type  \\\n",
       "70392  नासपाती(चाइनिज)     केजी  २४०  २५०  245 2019-08-12         R     0   \n",
       "70241  नासपाती(चाइनिज)     केजी  २३०  २५०  240 2019-08-11         R     0   \n",
       "70090  नासपाती(चाइनिज)     केजी  २५०  २६०  255 2019-08-10         R     0   \n",
       "69937  नासपाती(चाइनिज)     केजी  १८०  २००  190 2019-08-09         R     0   \n",
       "69785  नासपाती(चाइनिज)     केजी  २३०  २५०  240 2019-08-08         R     0   \n",
       "\n",
       "         t_1    t_2  \n",
       "70392  240.0  255.0  \n",
       "70241  255.0  190.0  \n",
       "70090  190.0  240.0  \n",
       "69937  240.0  205.0  \n",
       "69785  205.0  215.0  "
      ]
     },
     "execution_count": 8,
     "metadata": {},
     "output_type": "execute_result"
    }
   ],
   "source": [
    "feature_df.dropna(inplace=True)\n",
    "feature_df.tail()"
   ]
  },
  {
   "cell_type": "code",
   "execution_count": 9,
   "metadata": {},
   "outputs": [],
   "source": [
    "feature_df = feature_df.sample(frac = 1, random_state= 1)"
   ]
  },
  {
   "cell_type": "code",
   "execution_count": 10,
   "metadata": {},
   "outputs": [
    {
     "data": {
      "text/plain": [
       "array([[  0., 115., 115.],\n",
       "       [  1., 190., 190.],\n",
       "       [  1.,  95.,  95.],\n",
       "       ...,\n",
       "       [  1., 215., 215.],\n",
       "       [  0.,  53.,  48.],\n",
       "       [  1., 125., 125.]])"
      ]
     },
     "execution_count": 10,
     "metadata": {},
     "output_type": "execute_result"
    }
   ],
   "source": [
    "X = feature_df[['type','t_1', 't_2']].values #getting feature matrix\n",
    "X"
   ]
  },
  {
   "cell_type": "code",
   "execution_count": 11,
   "metadata": {},
   "outputs": [
    {
     "data": {
      "text/plain": [
       "(98822, 3)"
      ]
     },
     "execution_count": 11,
     "metadata": {},
     "output_type": "execute_result"
    }
   ],
   "source": [
    "X.shape"
   ]
  },
  {
   "cell_type": "code",
   "execution_count": 12,
   "metadata": {},
   "outputs": [
    {
     "data": {
      "text/plain": [
       "array([[  1.,   0., 115., 115.],\n",
       "       [  1.,   1., 190., 190.],\n",
       "       [  1.,   1.,  95.,  95.],\n",
       "       ...,\n",
       "       [  1.,   1., 215., 215.],\n",
       "       [  1.,   0.,  53.,  48.],\n",
       "       [  1.,   1., 125., 125.]])"
      ]
     },
     "execution_count": 12,
     "metadata": {},
     "output_type": "execute_result"
    }
   ],
   "source": [
    "X = np.insert(X, 0, values=1, axis = 1) #adding bias or intercept term\n",
    "X"
   ]
  },
  {
   "cell_type": "code",
   "execution_count": 13,
   "metadata": {},
   "outputs": [
    {
     "name": "stdout",
     "output_type": "stream",
     "text": [
      "(98822,)\n"
     ]
    }
   ],
   "source": [
    "y = feature_df['Avg'].values\n",
    "print(y.shape)"
   ]
  },
  {
   "cell_type": "markdown",
   "metadata": {},
   "source": [
    "## Dividing into train, test and validation datas\n",
    "\n",
    "### 60% Train 20% Validation and Test each"
   ]
  },
  {
   "cell_type": "code",
   "execution_count": 14,
   "metadata": {},
   "outputs": [
    {
     "name": "stdout",
     "output_type": "stream",
     "text": [
      "59293 19764 19765\n"
     ]
    }
   ],
   "source": [
    "total = len(X)\n",
    "train = int(0.6 * total)\n",
    "val = int(0.2*total)\n",
    "\n",
    "X_train = X[:train]\n",
    "y_train = y[:train].reshape(-1,1)\n",
    "\n",
    "X_val = X[train:train + val]\n",
    "y_val = y[train:train +val].reshape(-1,1)\n",
    "\n",
    "X_test = X[train + val:]\n",
    "y_test = y[train + val:].reshape(-1,1)\n",
    "\n",
    "print(len(X_train), len(X_val),len(X_test))"
   ]
  },
  {
   "cell_type": "markdown",
   "metadata": {},
   "source": [
    "### Normalization\n",
    "####  Min-max"
   ]
  },
  {
   "cell_type": "code",
   "execution_count": 56,
   "metadata": {},
   "outputs": [
    {
     "data": {
      "text/plain": [
       "array([[0.00061538, 0.        , 0.07076923, 0.07076923],\n",
       "       [0.00061538, 0.00061538, 0.11692308, 0.11692308],\n",
       "       [0.00061538, 0.00061538, 0.05846154, 0.05846154],\n",
       "       ...,\n",
       "       [0.00061538, 0.        , 0.07692308, 0.07692308],\n",
       "       [0.00061538, 0.00061538, 0.01169231, 0.01107692],\n",
       "       [0.00061538, 0.        , 0.16923077, 0.13846154]])"
      ]
     },
     "execution_count": 56,
     "metadata": {},
     "output_type": "execute_result"
    }
   ],
   "source": [
    "#To cope with convergence problem during gradient descent, we take all our features into same range. \n",
    "X_train "
   ]
  },
  {
   "cell_type": "code",
   "execution_count": 16,
   "metadata": {},
   "outputs": [],
   "source": [
    "price_X = X_train[:, 1:]\n",
    "\n",
    "min_v = np.min(price_X)\n",
    "max_v = np.max(price_X)\n",
    "diff = max_v - min_v"
   ]
  },
  {
   "cell_type": "code",
   "execution_count": 17,
   "metadata": {},
   "outputs": [
    {
     "data": {
      "text/plain": [
       "array([[  0., 115., 115.],\n",
       "       [  1., 190., 190.],\n",
       "       [  1.,  95.,  95.],\n",
       "       ...,\n",
       "       [  0., 125., 125.],\n",
       "       [  1.,  19.,  18.],\n",
       "       [  0., 275., 225.]])"
      ]
     },
     "execution_count": 17,
     "metadata": {},
     "output_type": "execute_result"
    }
   ],
   "source": [
    "price_X"
   ]
  },
  {
   "cell_type": "code",
   "execution_count": 18,
   "metadata": {},
   "outputs": [],
   "source": [
    "def min_max_normalization(dataset):\n",
    "    for i in range(0, dataset.shape[0]):\n",
    "        for j in range(0, dataset.shape[1]):\n",
    "            dataset[i][j] = (dataset[i][j]-min_v)/diff\n",
    "\n",
    "min_max_normalization(X_train)\n",
    "min_max_normalization(X_val)\n",
    "min_max_normalization(X_test)"
   ]
  },
  {
   "cell_type": "markdown",
   "metadata": {},
   "source": [
    "### Hyperparameter Tuning"
   ]
  },
  {
   "cell_type": "code",
   "execution_count": 24,
   "metadata": {},
   "outputs": [],
   "source": [
    "np.random.seed(42)\n",
    "#HyperParameter\n",
    "#Beautify Code by creating dictionary containing all hyperparameters\n",
    "\n",
    "train_error=[]\n",
    "\n",
    "param={\n",
    "    'num_of_iteration':1000,\n",
    "    'learning_rate':0.1,\n",
    "#     'regularization':0.1\n",
    "}\n",
    "\n",
    "grid_param={\n",
    "    'num_of_iteration':[2000,5000],\n",
    "    'learning_rate':[0.1,0.9],\n",
    "#     'regularization':[0.1,0.01,0.001]\n",
    "}\n",
    "\n",
    "def MSE(h,y):\n",
    "    return 0.5*np.average((h-y)**2)"
   ]
  },
  {
   "cell_type": "code",
   "execution_count": 57,
   "metadata": {},
   "outputs": [
    {
     "name": "stdout",
     "output_type": "stream",
     "text": [
      "[(2000, 0.1), (2000, 0.9), (5000, 0.1), (5000, 0.9)]\n"
     ]
    }
   ],
   "source": [
    "#Now a grid is to be created which contains the combination of num_of_iteration and learning_rate. \n",
    "#Hyper Parameter Tuning\n",
    "#This combination is fed to the function and the combination with the best result is our final value of hyperparameters\n",
    "\n",
    "import itertools\n",
    "grid=list(itertools.product(grid_param['num_of_iteration'],grid_param['learning_rate']))\n",
    "print(grid)"
   ]
  },
  {
   "cell_type": "code",
   "execution_count": 58,
   "metadata": {},
   "outputs": [],
   "source": [
    "def train_model(X_train,y_train,X_val,y_val,param):\n",
    "    np.random.seed(42)\n",
    "    W=np.random.rand(X_train.shape[1]).reshape(-1,1)    #We reshape the row vector(1*4) to column vector(4*1)\n",
    "    \n",
    "    train_error=[]\n",
    "    val_error=[]\n",
    "    \n",
    "    #Run the loop num_of_iteration times \n",
    "    for i in range(1,param['num_of_iteration']):\n",
    "        h_train=np.matmul(X_train,W)        #h_train is matrix mul of X_train and W\n",
    "        train_loss=MSE(h_train,y_train)\n",
    "        train_error.append(train_loss)      \n",
    "        \n",
    "        #Gradient-- Code form of the formula. shape[0] gives the number of rows\n",
    "        gradient=(np.matmul(np.transpose(h_train-y_train),X_train)/X_train.shape[0]).reshape(-1,1)  \n",
    "\n",
    "\n",
    "        #W is the updated weight\n",
    "        W=W-param['learning_rate']*gradient\n",
    "    \n",
    "    #Once training is done. We have to use Val set to tune hyper parameter. \n",
    "    #The p(combination) that gives least error is our final value for hyperparameters.\n",
    "    h_val=np.matmul(X_val,W)\n",
    "    val_loss=MSE(h_val,y_val)\n",
    "    val_error.append(val_loss)\n",
    "    return W, train_error, val_error\n"
   ]
  },
  {
   "cell_type": "code",
   "execution_count": 29,
   "metadata": {},
   "outputs": [
    {
     "name": "stdout",
     "output_type": "stream",
     "text": [
      "{'num_of_iteration': 2000, 'learning_rate': 0.1}\n",
      "[4469.045542199259]\n"
     ]
    },
    {
     "data": {
      "image/png": "[encoded data removed]",
      "text/plain": [
       "<Figure size 432x288 with 1 Axes>"
      ]
     },
     "metadata": {
      "needs_background": "light"
     },
     "output_type": "display_data"
    },
    {
     "name": "stdout",
     "output_type": "stream",
     "text": [
      "{'num_of_iteration': 2000, 'learning_rate': 0.9}\n",
      "[4544.639504536424]\n"
     ]
    },
    {
     "data": {
      "image/png": "[encoded data removed]",
      "text/plain": [
       "<Figure size 432x288 with 1 Axes>"
      ]
     },
     "metadata": {
      "needs_background": "light"
     },
     "output_type": "display_data"
    },
    {
     "name": "stdout",
     "output_type": "stream",
     "text": [
      "{'num_of_iteration': 5000, 'learning_rate': 0.1}\n",
      "[4453.5959458165835]\n"
     ]
    },
    {
     "data": {
      "image/png": "[encoded data removed]",
      "text/plain": [
       "<Figure size 432x288 with 1 Axes>"
      ]
     },
     "metadata": {
      "needs_background": "light"
     },
     "output_type": "display_data"
    },
    {
     "name": "stdout",
     "output_type": "stream",
     "text": [
      "{'num_of_iteration': 5000, 'learning_rate': 0.9}\n",
      "[6095.867309394288]\n"
     ]
    },
    {
     "data": {
      "image/png": "[encoded data removed]",
      "text/plain": [
       "<Figure size 432x288 with 1 Axes>"
      ]
     },
     "metadata": {
      "needs_background": "light"
     },
     "output_type": "display_data"
    }
   ],
   "source": [
    "for g in grid:\n",
    "    p={\n",
    "    'num_of_iteration':g[0],\n",
    "    'learning_rate':g[1],\n",
    "    }\n",
    "    print(p)\n",
    "    Weights,train_error,val_error=train_model(X_train,y_train,X_val,y_val,p)\n",
    "    print(val_error)\n",
    "    plt.plot(np.arange(len(train_error)),train_error)\n",
    "    plt.xlabel(\"No. of iterations\")\n",
    "    plt.ylabel(\"Training Error\")   \n",
    "    plt.show()"
   ]
  },
  {
   "cell_type": "markdown",
   "metadata": {},
   "source": [
    "### Model Evaluation with R2 Score"
   ]
  },
  {
   "cell_type": "code",
   "execution_count": 51,
   "metadata": {},
   "outputs": [],
   "source": [
    "final_param = {'num_of_iteration': 5000, 'learning_rate': 0.1}\n",
    "model_weights =  train_model(X_train,y_train,X_val,y_val,final_param) #Returns Weight, train_error and validation error"
   ]
  },
  {
   "cell_type": "code",
   "execution_count": 53,
   "metadata": {},
   "outputs": [
    {
     "data": {
      "text/plain": [
       "array([[  5.36414304],\n",
       "       [  3.18371006],\n",
       "       [816.93851357],\n",
       "       [799.06227046]])"
      ]
     },
     "execution_count": 53,
     "metadata": {},
     "output_type": "execute_result"
    }
   ],
   "source": [
    "model_weights=model_weights[0]\n",
    "# model_weights=model_weights[:4]\n",
    "model_weights"
   ]
  },
  {
   "cell_type": "code",
   "execution_count": 54,
   "metadata": {},
   "outputs": [
    {
     "name": "stdout",
     "output_type": "stream",
     "text": [
      "2549721.4641988277\n"
     ]
    },
    {
     "data": {
      "text/plain": [
       "0.9799403082692855"
      ]
     },
     "execution_count": 54,
     "metadata": {},
     "output_type": "execute_result"
    }
   ],
   "source": [
    "y_mean = np.mean(y_test)\n",
    "h_test = np.matmul(X_test, model_weights)\n",
    "n = X_test.shape[0]\n",
    "k = X_test.shape[1] - 1\n",
    "SST = np.sum(np.square(y_test - y_mean))\n",
    "SSR = np.sum(np.square(h_test- y_mean))\n",
    "SSE = SST - SSR\n",
    "print(SSE)\n",
    "R2 = 1 - (SSE/(n-k-1))/(SST/(n-1))\n",
    "R2"
   ]
  },
  {
   "cell_type": "code",
   "execution_count": 55,
   "metadata": {},
   "outputs": [
    {
     "data": {
      "text/plain": [
       "3097618.3744319645"
      ]
     },
     "execution_count": 55,
     "metadata": {},
     "output_type": "execute_result"
    }
   ],
   "source": [
    "sse = np.sum(np.square(h_test - y_test))\n",
    "sse"
   ]
  },
  {
   "cell_type": "code",
   "execution_count": 62,
   "metadata": {},
   "outputs": [
    {
     "name": "stdout",
     "output_type": "stream",
     "text": [
      "three million, ninety-seven thousand, six hundred and eighteen point three seven four four three one nine six four five\n"
     ]
    }
   ],
   "source": [
    "import inflect\n",
    "p = inflect.engine()\n",
    "words = p. number_to_words(sse)\n",
    "print(words)"
   ]
  },
  {
   "cell_type": "code",
   "execution_count": null,
   "metadata": {},
   "outputs": [],
   "source": []
  }
 ],
 "metadata": {
  "kernelspec": {
   "display_name": "Python 3",
   "language": "python",
   "name": "python3"
  },
  "language_info": {
   "codemirror_mode": {
    "name": "ipython",
    "version": 3
   },
   "file_extension": ".py",
   "mimetype": "text/x-python",
   "name": "python",
   "nbconvert_exporter": "python",
   "pygments_lexer": "ipython3",
   "version": "3.6.9"
  }
 },
 "nbformat": 4,
 "nbformat_minor": 4
}

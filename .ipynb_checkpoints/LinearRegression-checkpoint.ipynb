{
 "cells": [
  {
   "cell_type": "markdown",
   "metadata": {
    "colab_type": "text",
    "id": "ljyveZI8Yi-T"
   },
   "source": [
    "## First Step"
   ]
  },
  {
   "cell_type": "code",
   "execution_count": 136,
   "metadata": {
    "colab": {},
    "colab_type": "code",
    "id": "qZ9tTD6fLRkO"
   },
   "outputs": [],
   "source": [
    "import numpy as np\n",
    "import pandas as pd\n",
    "import matplotlib.pyplot as plt\n",
    "import seaborn as sns\n",
    "%matplotlib inline\n",
    "\n",
    "df = pd.read_csv('Price.csv')"
   ]
  },
  {
   "cell_type": "code",
   "execution_count": 137,
   "metadata": {
    "colab": {},
    "colab_type": "code",
    "id": "v3DP3GY2LjdP"
   },
   "outputs": [],
   "source": [
    "#Renaming title of columns\n",
    "df = df.rename(columns ={'कृषि उपज':'Name','ईकाइ':'Quantity','न्यूनतम':'Min','अधिकतम':'Max','औसत':'Avg'})\n",
    "\n",
    "df['Avg']=df['Avg'].apply(lambda x: int(x))"
   ]
  },
  {
   "cell_type": "code",
   "execution_count": 138,
   "metadata": {
    "colab": {
     "base_uri": "https://localhost:8080/",
     "height": 235
    },
    "colab_type": "code",
    "id": "brU4L7MMzBXN",
    "outputId": "e6cdc3c2-0a80-4d57-b758-199078431845"
   },
   "outputs": [],
   "source": [
    "import datetime\n",
    "df['cdate']=pd.to_datetime(df['cdate'])"
   ]
  },
  {
   "cell_type": "markdown",
   "metadata": {
    "colab_type": "text",
    "id": "LFwX-ItbYo81"
   },
   "source": [
    "## Second Step"
   ]
  },
  {
   "cell_type": "code",
   "execution_count": 139,
   "metadata": {
    "colab": {
     "base_uri": "https://localhost:8080/",
     "height": 204
    },
    "colab_type": "code",
    "id": "Fa2zH89QYE3w",
    "outputId": "520e8c06-ea1d-4f14-faed-41a6db47b397"
   },
   "outputs": [
    {
     "data": {
      "text/html": [
       "<div>\n",
       "<style scoped>\n",
       "    .dataframe tbody tr th:only-of-type {\n",
       "        vertical-align: middle;\n",
       "    }\n",
       "\n",
       "    .dataframe tbody tr th {\n",
       "        vertical-align: top;\n",
       "    }\n",
       "\n",
       "    .dataframe thead th {\n",
       "        text-align: right;\n",
       "    }\n",
       "</style>\n",
       "<table border=\"1\" class=\"dataframe\">\n",
       "  <thead>\n",
       "    <tr style=\"text-align: right;\">\n",
       "      <th></th>\n",
       "      <th>Name</th>\n",
       "      <th>Quantity</th>\n",
       "      <th>Min</th>\n",
       "      <th>Max</th>\n",
       "      <th>Avg</th>\n",
       "      <th>cdate</th>\n",
       "      <th>pricetype</th>\n",
       "    </tr>\n",
       "  </thead>\n",
       "  <tbody>\n",
       "    <tr>\n",
       "      <th>0</th>\n",
       "      <td>गोलभेडा ठूलो(नेपाली)</td>\n",
       "      <td>के.जी.</td>\n",
       "      <td>३०</td>\n",
       "      <td>३५</td>\n",
       "      <td>33</td>\n",
       "      <td>2018-02-25</td>\n",
       "      <td>W</td>\n",
       "    </tr>\n",
       "    <tr>\n",
       "      <th>1</th>\n",
       "      <td>गोलभेडा सानो</td>\n",
       "      <td>के.जी.</td>\n",
       "      <td>२५</td>\n",
       "      <td>३०</td>\n",
       "      <td>28</td>\n",
       "      <td>2018-02-25</td>\n",
       "      <td>W</td>\n",
       "    </tr>\n",
       "    <tr>\n",
       "      <th>2</th>\n",
       "      <td>अालु रातो</td>\n",
       "      <td>के.जी.</td>\n",
       "      <td>२०</td>\n",
       "      <td>२३</td>\n",
       "      <td>22</td>\n",
       "      <td>2018-02-25</td>\n",
       "      <td>W</td>\n",
       "    </tr>\n",
       "    <tr>\n",
       "      <th>3</th>\n",
       "      <td>अालु सेतो</td>\n",
       "      <td>के.जी.</td>\n",
       "      <td>१८</td>\n",
       "      <td>२०</td>\n",
       "      <td>19</td>\n",
       "      <td>2018-02-25</td>\n",
       "      <td>W</td>\n",
       "    </tr>\n",
       "    <tr>\n",
       "      <th>4</th>\n",
       "      <td>प्याज सुकेको भारतीय</td>\n",
       "      <td>के.जी.</td>\n",
       "      <td>४४</td>\n",
       "      <td>४६</td>\n",
       "      <td>45</td>\n",
       "      <td>2018-02-25</td>\n",
       "      <td>W</td>\n",
       "    </tr>\n",
       "  </tbody>\n",
       "</table>\n",
       "</div>"
      ],
      "text/plain": [
       "                   Name Quantity Min Max  Avg      cdate pricetype\n",
       "0  गोलभेडा ठूलो(नेपाली)   के.जी.  ३०  ३५   33 2018-02-25         W\n",
       "1          गोलभेडा सानो   के.जी.  २५  ३०   28 2018-02-25         W\n",
       "2             अालु रातो   के.जी.  २०  २३   22 2018-02-25         W\n",
       "3             अालु सेतो   के.जी.  १८  २०   19 2018-02-25         W\n",
       "4   प्याज सुकेको भारतीय   के.जी.  ४४  ४६   45 2018-02-25         W"
      ]
     },
     "execution_count": 139,
     "metadata": {},
     "output_type": "execute_result"
    }
   ],
   "source": [
    "df.head()"
   ]
  },
  {
   "cell_type": "code",
   "execution_count": 140,
   "metadata": {},
   "outputs": [
    {
     "data": {
      "text/plain": [
       "भुर्इ कटहर          1436\n",
       "मूला सेतो(लोकल)     1436\n",
       "खु्र्सानी सुकेको    1436\n",
       "काउली स्थानिय       1436\n",
       "केरा                1436\n",
       "                    ... \n",
       "अम्बा                 44\n",
       "अंगुर(कालो)           32\n",
       "सजिवन                 32\n",
       "लीच्ची(भारतीय)        28\n",
       "परवर(तराई)            16\n",
       "Name: Name, Length: 120, dtype: int64"
      ]
     },
     "execution_count": 140,
     "metadata": {},
     "output_type": "execute_result"
    }
   ],
   "source": [
    "df['Name'].value_counts()"
   ]
  },
  {
   "cell_type": "code",
   "execution_count": 141,
   "metadata": {},
   "outputs": [],
   "source": [
    "price=df"
   ]
  },
  {
   "cell_type": "code",
   "execution_count": 142,
   "metadata": {
    "colab": {},
    "colab_type": "code",
    "id": "E-I664JS65Fi"
   },
   "outputs": [],
   "source": [
    "vegetable = set(price['Name'].values) #taking all the unique vegetables\n",
    "len(vegetable)\n",
    "\n",
    "feature_df = [] #list\n",
    "\n",
    "for v in vegetable:\n",
    "    for p_type in ['W','R']:\n",
    "\n",
    "        df_v = price[(price['Name'] == v) & (price['pricetype']== p_type)] #taking a vegetable of only one pricetype\n",
    "        df_v = df_v.sort_values(by = ['cdate'], ascending = False) #sorting in descending order based on date. Recent date will be at first.\n",
    "\n",
    "        if p_type == 'W':\n",
    "            df_v['type'] = 1\n",
    "        else:\n",
    "            df_v['type'] = 0\n",
    "\n",
    "\n",
    "        df_v['t_1'] = df_v.shift(-1)['Avg']\n",
    "        df_v['t_2'] = df_v.shift(-2)['Avg']\n",
    "\n",
    "        feature_df.append(df_v)\n"
   ]
  },
  {
   "cell_type": "code",
   "execution_count": null,
   "metadata": {},
   "outputs": [],
   "source": []
  },
  {
   "cell_type": "code",
   "execution_count": null,
   "metadata": {},
   "outputs": [],
   "source": []
  },
  {
   "cell_type": "code",
   "execution_count": 143,
   "metadata": {
    "colab": {},
    "colab_type": "code",
    "id": "of8Q2v_mY8yf"
   },
   "outputs": [],
   "source": [
    "feature_df = pd.concat(feature_df)"
   ]
  },
  {
   "cell_type": "code",
   "execution_count": 144,
   "metadata": {
    "colab": {
     "base_uri": "https://localhost:8080/",
     "height": 204
    },
    "colab_type": "code",
    "id": "XqmMpONlZKRq",
    "outputId": "63a16759-8ae3-4815-dbd1-accd43646717"
   },
   "outputs": [
    {
     "data": {
      "text/html": [
       "<div>\n",
       "<style scoped>\n",
       "    .dataframe tbody tr th:only-of-type {\n",
       "        vertical-align: middle;\n",
       "    }\n",
       "\n",
       "    .dataframe tbody tr th {\n",
       "        vertical-align: top;\n",
       "    }\n",
       "\n",
       "    .dataframe thead th {\n",
       "        text-align: right;\n",
       "    }\n",
       "</style>\n",
       "<table border=\"1\" class=\"dataframe\">\n",
       "  <thead>\n",
       "    <tr style=\"text-align: right;\">\n",
       "      <th></th>\n",
       "      <th>Name</th>\n",
       "      <th>Quantity</th>\n",
       "      <th>Min</th>\n",
       "      <th>Max</th>\n",
       "      <th>Avg</th>\n",
       "      <th>cdate</th>\n",
       "      <th>pricetype</th>\n",
       "      <th>type</th>\n",
       "      <th>t_1</th>\n",
       "      <th>t_2</th>\n",
       "    </tr>\n",
       "  </thead>\n",
       "  <tbody>\n",
       "    <tr>\n",
       "      <th>920</th>\n",
       "      <td>कागती</td>\n",
       "      <td>के.जी.</td>\n",
       "      <td>४५०</td>\n",
       "      <td>५००</td>\n",
       "      <td>475</td>\n",
       "      <td>2018-03-03</td>\n",
       "      <td>R</td>\n",
       "      <td>0</td>\n",
       "      <td>475.0</td>\n",
       "      <td>475.0</td>\n",
       "    </tr>\n",
       "    <tr>\n",
       "      <th>786</th>\n",
       "      <td>कागती</td>\n",
       "      <td>के.जी.</td>\n",
       "      <td>४५०</td>\n",
       "      <td>५००</td>\n",
       "      <td>475</td>\n",
       "      <td>2018-03-02</td>\n",
       "      <td>R</td>\n",
       "      <td>0</td>\n",
       "      <td>475.0</td>\n",
       "      <td>475.0</td>\n",
       "    </tr>\n",
       "    <tr>\n",
       "      <th>652</th>\n",
       "      <td>कागती</td>\n",
       "      <td>के.जी.</td>\n",
       "      <td>४५०</td>\n",
       "      <td>५००</td>\n",
       "      <td>475</td>\n",
       "      <td>2018-03-01</td>\n",
       "      <td>R</td>\n",
       "      <td>0</td>\n",
       "      <td>475.0</td>\n",
       "      <td>475.0</td>\n",
       "    </tr>\n",
       "    <tr>\n",
       "      <th>518</th>\n",
       "      <td>कागती</td>\n",
       "      <td>के.जी.</td>\n",
       "      <td>४५०</td>\n",
       "      <td>५००</td>\n",
       "      <td>475</td>\n",
       "      <td>2018-02-28</td>\n",
       "      <td>R</td>\n",
       "      <td>0</td>\n",
       "      <td>475.0</td>\n",
       "      <td>475.0</td>\n",
       "    </tr>\n",
       "    <tr>\n",
       "      <th>384</th>\n",
       "      <td>कागती</td>\n",
       "      <td>के.जी.</td>\n",
       "      <td>४५०</td>\n",
       "      <td>५००</td>\n",
       "      <td>475</td>\n",
       "      <td>2018-02-27</td>\n",
       "      <td>R</td>\n",
       "      <td>0</td>\n",
       "      <td>475.0</td>\n",
       "      <td>475.0</td>\n",
       "    </tr>\n",
       "  </tbody>\n",
       "</table>\n",
       "</div>"
      ],
      "text/plain": [
       "      Name Quantity  Min  Max  Avg      cdate pricetype  type    t_1    t_2\n",
       "920  कागती   के.जी.  ४५०  ५००  475 2018-03-03         R     0  475.0  475.0\n",
       "786  कागती   के.जी.  ४५०  ५००  475 2018-03-02         R     0  475.0  475.0\n",
       "652  कागती   के.जी.  ४५०  ५००  475 2018-03-01         R     0  475.0  475.0\n",
       "518  कागती   के.जी.  ४५०  ५००  475 2018-02-28         R     0  475.0  475.0\n",
       "384  कागती   के.जी.  ४५०  ५००  475 2018-02-27         R     0  475.0  475.0"
      ]
     },
     "execution_count": 144,
     "metadata": {},
     "output_type": "execute_result"
    }
   ],
   "source": [
    "feature_df.dropna(inplace=True)\n",
    "feature_df.tail()"
   ]
  },
  {
   "cell_type": "code",
   "execution_count": null,
   "metadata": {},
   "outputs": [],
   "source": []
  },
  {
   "cell_type": "code",
   "execution_count": null,
   "metadata": {},
   "outputs": [],
   "source": []
  },
  {
   "cell_type": "code",
   "execution_count": null,
   "metadata": {},
   "outputs": [],
   "source": []
  },
  {
   "cell_type": "code",
   "execution_count": null,
   "metadata": {
    "scrolled": true
   },
   "outputs": [],
   "source": []
  },
  {
   "cell_type": "code",
   "execution_count": null,
   "metadata": {},
   "outputs": [],
   "source": []
  },
  {
   "cell_type": "code",
   "execution_count": null,
   "metadata": {},
   "outputs": [],
   "source": []
  },
  {
   "cell_type": "code",
   "execution_count": null,
   "metadata": {},
   "outputs": [],
   "source": []
  },
  {
   "cell_type": "code",
   "execution_count": null,
   "metadata": {},
   "outputs": [],
   "source": []
  },
  {
   "cell_type": "code",
   "execution_count": null,
   "metadata": {},
   "outputs": [],
   "source": []
  },
  {
   "cell_type": "code",
   "execution_count": null,
   "metadata": {},
   "outputs": [],
   "source": []
  },
  {
   "cell_type": "code",
   "execution_count": null,
   "metadata": {},
   "outputs": [],
   "source": []
  },
  {
   "cell_type": "code",
   "execution_count": null,
   "metadata": {},
   "outputs": [],
   "source": []
  },
  {
   "cell_type": "code",
   "execution_count": 146,
   "metadata": {
    "colab": {},
    "colab_type": "code",
    "id": "S5jTjqTmZM64"
   },
   "outputs": [],
   "source": [
    "feature_df = feature_df.sample(frac = 1, random_state= 1)"
   ]
  },
  {
   "cell_type": "code",
   "execution_count": 148,
   "metadata": {
    "colab": {
     "base_uri": "https://localhost:8080/",
     "height": 136
    },
    "colab_type": "code",
    "id": "GyiYVQbmZRvx",
    "outputId": "f4d8bd79-00a0-4e22-ef60-4d8156571434"
   },
   "outputs": [
    {
     "data": {
      "text/plain": [
       "array([[  0.,  65.,  65.],\n",
       "       [  0.,  55.,  55.],\n",
       "       [  0., 225., 245.],\n",
       "       ...,\n",
       "       [  0., 125., 125.],\n",
       "       [  0., 205., 205.],\n",
       "       [  0., 215., 225.]])"
      ]
     },
     "execution_count": 148,
     "metadata": {},
     "output_type": "execute_result"
    }
   ],
   "source": [
    "X = feature_df[['type','t_1', 't_2']].values #getting feature matrix\n",
    "X"
   ]
  },
  {
   "cell_type": "code",
   "execution_count": 149,
   "metadata": {
    "colab": {
     "base_uri": "https://localhost:8080/",
     "height": 34
    },
    "colab_type": "code",
    "id": "sRjQqBGBZUHV",
    "outputId": "52766c5a-4d3a-4fca-f6e2-2b0fc9e663f4"
   },
   "outputs": [
    {
     "data": {
      "text/plain": [
       "(98822, 3)"
      ]
     },
     "execution_count": 149,
     "metadata": {},
     "output_type": "execute_result"
    }
   ],
   "source": [
    "X.shape"
   ]
  },
  {
   "cell_type": "code",
   "execution_count": 150,
   "metadata": {
    "colab": {
     "base_uri": "https://localhost:8080/",
     "height": 136
    },
    "colab_type": "code",
    "id": "ljJxAmmsZYLV",
    "outputId": "017e69a5-f96b-4c0a-d2de-7454b40212d0"
   },
   "outputs": [
    {
     "data": {
      "text/plain": [
       "array([[  1.,   0.,  65.,  65.],\n",
       "       [  1.,   0.,  55.,  55.],\n",
       "       [  1.,   0., 225., 245.],\n",
       "       ...,\n",
       "       [  1.,   0., 125., 125.],\n",
       "       [  1.,   0., 205., 205.],\n",
       "       [  1.,   0., 215., 225.]])"
      ]
     },
     "execution_count": 150,
     "metadata": {},
     "output_type": "execute_result"
    }
   ],
   "source": [
    "X = np.insert(X, 0, values=1, axis = 1) #adding bias or intercept term\n",
    "X"
   ]
  },
  {
   "cell_type": "code",
   "execution_count": 151,
   "metadata": {
    "colab": {
     "base_uri": "https://localhost:8080/",
     "height": 34
    },
    "colab_type": "code",
    "id": "4vVmpJzEZauO",
    "outputId": "afade871-cc19-4bc6-af28-dc6098905336"
   },
   "outputs": [
    {
     "name": "stdout",
     "output_type": "stream",
     "text": [
      "(98822,)\n"
     ]
    }
   ],
   "source": [
    "y = feature_df['Avg'].values\n",
    "print(y.shape)"
   ]
  },
  {
   "cell_type": "markdown",
   "metadata": {
    "colab_type": "text",
    "id": "m4PLkvQuZian"
   },
   "source": [
    "## Dividing into train, test and validation datas"
   ]
  },
  {
   "cell_type": "code",
   "execution_count": 152,
   "metadata": {
    "colab": {
     "base_uri": "https://localhost:8080/",
     "height": 34
    },
    "colab_type": "code",
    "id": "rvzBjNt-HZUi",
    "outputId": "f29a739f-28ff-4a87-bec8-0057bf0a53ae"
   },
   "outputs": [
    {
     "name": "stdout",
     "output_type": "stream",
     "text": [
      "59293 19764 19765\n"
     ]
    }
   ],
   "source": [
    "total = len(X)\n",
    "train = int(0.6 * total)\n",
    "val = int(0.2*total)\n",
    "\n",
    "X_train = X[:train]\n",
    "y_train = y[:train].reshape(-1,1)\n",
    "\n",
    "X_val = X[train:train + val]\n",
    "y_val = y[train:train +val].reshape(-1,1)\n",
    "\n",
    "X_test = X[train + val:]\n",
    "y_test = y[train + val:].reshape(-1,1)\n",
    "\n",
    "print(len(X_train), len(X_val),len(X_test))"
   ]
  },
  {
   "cell_type": "markdown",
   "metadata": {
    "colab_type": "text",
    "id": "mI2PNPFyZwo4"
   },
   "source": [
    "## Normalization\n",
    "Min-max"
   ]
  },
  {
   "cell_type": "code",
   "execution_count": 153,
   "metadata": {
    "colab": {
     "base_uri": "https://localhost:8080/",
     "height": 136
    },
    "colab_type": "code",
    "id": "gFwElWdnZdvH",
    "outputId": "ca570893-f1df-4a5f-c265-a0f6628e8260"
   },
   "outputs": [
    {
     "data": {
      "text/plain": [
       "array([[  1.,   0.,  65.,  65.],\n",
       "       [  1.,   0.,  55.,  55.],\n",
       "       [  1.,   0., 225., 245.],\n",
       "       ...,\n",
       "       [  1.,   0.,  48.,  48.],\n",
       "       [  1.,   1.,  53.,  53.],\n",
       "       [  1.,   1.,  78.,  78.]])"
      ]
     },
     "execution_count": 153,
     "metadata": {},
     "output_type": "execute_result"
    }
   ],
   "source": [
    "#To cope with convergence problem during gradient descent, we take all our features into same range. \n",
    "X_train "
   ]
  },
  {
   "cell_type": "code",
   "execution_count": 154,
   "metadata": {
    "colab": {},
    "colab_type": "code",
    "id": "xlV3A01jZ3la"
   },
   "outputs": [],
   "source": [
    "price_X = X_train[:, 1:]\n",
    "\n",
    "min_v = np.min(price_X)\n",
    "max_v = np.max(price_X)\n",
    "diff = max_v - min_v"
   ]
  },
  {
   "cell_type": "code",
   "execution_count": 155,
   "metadata": {},
   "outputs": [
    {
     "data": {
      "text/plain": [
       "array([[  0.,  65.,  65.],\n",
       "       [  0.,  55.,  55.],\n",
       "       [  0., 225., 245.],\n",
       "       ...,\n",
       "       [  0.,  48.,  48.],\n",
       "       [  1.,  53.,  53.],\n",
       "       [  1.,  78.,  78.]])"
      ]
     },
     "execution_count": 155,
     "metadata": {},
     "output_type": "execute_result"
    }
   ],
   "source": [
    "price_X"
   ]
  },
  {
   "cell_type": "code",
   "execution_count": 156,
   "metadata": {
    "colab": {},
    "colab_type": "code",
    "id": "H8mU0YApZ6aa"
   },
   "outputs": [],
   "source": [
    "def min_max_normalization(dataset):\n",
    "    for i in range(0, dataset.shape[0]):\n",
    "        for j in range(0, dataset.shape[1]):\n",
    "            dataset[i][j] = (dataset[i][j]-min_v)/diff\n",
    "\n",
    "min_max_normalization(X_train)\n",
    "min_max_normalization(X_val)\n",
    "min_max_normalization(X_test)"
   ]
  },
  {
   "cell_type": "markdown",
   "metadata": {
    "colab_type": "text",
    "id": "vrNQhDeQaHTD"
   },
   "source": [
    "## Regression Model"
   ]
  },
  {
   "cell_type": "code",
   "execution_count": 157,
   "metadata": {
    "colab": {
     "base_uri": "https://localhost:8080/",
     "height": 136
    },
    "colab_type": "code",
    "id": "ZNDYPKtMxpIe",
    "outputId": "182896f1-0c02-4823-de5e-f2ca474c9322"
   },
   "outputs": [
    {
     "data": {
      "text/plain": [
       "array([[0.00061538, 0.        , 0.04      , 0.04      ],\n",
       "       [0.00061538, 0.        , 0.03384615, 0.03384615],\n",
       "       [0.00061538, 0.        , 0.13846154, 0.15076923],\n",
       "       ...,\n",
       "       [0.00061538, 0.        , 0.02953846, 0.02953846],\n",
       "       [0.00061538, 0.00061538, 0.03261538, 0.03261538],\n",
       "       [0.00061538, 0.00061538, 0.048     , 0.048     ]])"
      ]
     },
     "execution_count": 157,
     "metadata": {},
     "output_type": "execute_result"
    }
   ],
   "source": [
    "X_train"
   ]
  },
  {
   "cell_type": "code",
   "execution_count": 158,
   "metadata": {
    "colab": {
     "base_uri": "https://localhost:8080/",
     "height": 119
    },
    "colab_type": "code",
    "id": "7ccoH_QG_RBV",
    "outputId": "7734c955-d3db-44a5-fb2b-e83164f1d48e"
   },
   "outputs": [
    {
     "name": "stdout",
     "output_type": "stream",
     "text": [
      "(59293, 4)\n",
      "(59293, 1)\n",
      "(19764, 4)\n",
      "(19764, 1)\n",
      "(19765, 4)\n",
      "(19765, 1)\n"
     ]
    }
   ],
   "source": [
    "print(X_train.shape)\n",
    "print(y_train.shape)\n",
    "print(X_val.shape)\n",
    "print(y_val.shape)\n",
    "print(X_test.shape)\n",
    "print(y_test.shape)"
   ]
  },
  {
   "cell_type": "markdown",
   "metadata": {
    "colab_type": "text",
    "id": "jk1r4UBQDDcf"
   },
   "source": [
    "## Class ko Solution"
   ]
  },
  {
   "cell_type": "code",
   "execution_count": 159,
   "metadata": {
    "colab": {},
    "colab_type": "code",
    "id": "iwqeEcoGDH-p"
   },
   "outputs": [],
   "source": [
    "np.random.seed(42)\n",
    "#HyperParameter\n",
    "#Beautify Code by creating dictionary containing all hyperparameters\n",
    "\n",
    "train_error=[]\n",
    "\n",
    "param={\n",
    "    'num_of_iteration':1000,\n",
    "    'learning_rate':0.1\n",
    "}\n",
    "\n",
    "grid_param={\n",
    "    'num_of_iteration':[5000,2000],\n",
    "    'learning_rate':[0.1,0.9]\n",
    "}\n",
    "\n",
    "def MSE(h,y):\n",
    "    return 0.5*np.average((h-y)**2)\n"
   ]
  },
  {
   "cell_type": "code",
   "execution_count": 160,
   "metadata": {
    "colab": {
     "base_uri": "https://localhost:8080/",
     "height": 34
    },
    "colab_type": "code",
    "id": "Ak0Vf50iDpIJ",
    "outputId": "75b3e007-fe2b-478c-a765-1c59cc51564c"
   },
   "outputs": [
    {
     "name": "stdout",
     "output_type": "stream",
     "text": [
      "[(5000, 0.1), (5000, 0.9), (2000, 0.1), (2000, 0.9)]\n"
     ]
    }
   ],
   "source": [
    "#Now a grid is to be created which contains the combination of num_of_iteration and learning_rate. \n",
    "#Hyper Parameter Tuning\n",
    "#This combination is fed to the function and the combination with the best result is our final value of hyperparameters\n",
    "\n",
    "import itertools\n",
    "grid=list(itertools.product(grid_param['num_of_iteration'],grid_param['learning_rate']))\n",
    "print(grid)\n",
    "\n",
    "for g in grid:\n",
    "    p={\n",
    "    'num_of_iteration':g[0],\n",
    "    'learning_rate':g[1]\n",
    "    }"
   ]
  },
  {
   "cell_type": "code",
   "execution_count": 161,
   "metadata": {
    "colab": {
     "base_uri": "https://localhost:8080/",
     "height": 384
    },
    "colab_type": "code",
    "id": "kDaRuwo4DsVy",
    "outputId": "fc4ab933-6564-46a1-dfda-80a3777d5cf4"
   },
   "outputs": [],
   "source": [
    "def train_model(X_train,y_train,X_val,y_val,param):\n",
    "    np.random.seed(42)\n",
    "    W=np.random.rand(X_train.shape[1]).reshape(-1,1)    #We reshape the row vector(1*4) to column vector(4*1)\n",
    "    \n",
    "    train_error=[]\n",
    "    val_error=[]\n",
    "\n",
    "    #Run the loop num_of_iteration times \n",
    "    for i in range(1,param['num_of_iteration']):\n",
    "        h_train=np.matmul(X_train,W)        #h_train is matrix mul of X_train and W\n",
    "        train_loss=MSE(h_train,y_train)     #loss in training data is calculated by calling MSE function\n",
    "        train_error.append(train_loss)      #\n",
    "        \n",
    "        #Gradient-- Code form of the formula. shape[0] gives the number of rows\n",
    "        gradient=np.matmul(np.transpose(h_train-y_train),X_train)/X_train.shape[0]    \n",
    "            \n",
    "        #W is the updated weight\n",
    "        W=W-param['learning_rate']*gradient\n",
    "    \n",
    "    #Once training is done. We have to use Val set to tune hyper parameter. \n",
    "    #The p(combination) that gives least error is our final value for hyperparameters.\n",
    "    h_val=np.matmul(X_val,W)\n",
    "    val_loss=MSE(h_val,y_val)\n",
    "    val_error.append(val_loss)\n",
    "    return W, train_error, val_error\n",
    "# Weights, train_error, val_error = train_model(X_train,y_train,X_val,y_val,p)         \n"
   ]
  },
  {
   "cell_type": "code",
   "execution_count": 162,
   "metadata": {},
   "outputs": [
    {
     "name": "stdout",
     "output_type": "stream",
     "text": [
      "{'num_of_iteration': 5000, 'learning_rate': 0.1}\n",
      "[4413.696116911222]\n"
     ]
    },
    {
     "data": {
      "image/png": "[encoded data removed]",
      "text/plain": [
       "<Figure size 432x288 with 1 Axes>"
      ]
     },
     "metadata": {
      "needs_background": "light"
     },
     "output_type": "display_data"
    },
    {
     "name": "stdout",
     "output_type": "stream",
     "text": [
      "{'num_of_iteration': 5000, 'learning_rate': 0.9}\n",
      "[6841.919547339142]\n"
     ]
    },
    {
     "data": {
      "image/png": "[encoded data removed]",
      "text/plain": [
       "<Figure size 432x288 with 1 Axes>"
      ]
     },
     "metadata": {
      "needs_background": "light"
     },
     "output_type": "display_data"
    },
    {
     "name": "stdout",
     "output_type": "stream",
     "text": [
      "{'num_of_iteration': 2000, 'learning_rate': 0.1}\n",
      "[4428.0263008156835]\n"
     ]
    },
    {
     "data": {
      "image/png": "[encoded data removed]",
      "text/plain": [
       "<Figure size 432x288 with 1 Axes>"
      ]
     },
     "metadata": {
      "needs_background": "light"
     },
     "output_type": "display_data"
    },
    {
     "name": "stdout",
     "output_type": "stream",
     "text": [
      "{'num_of_iteration': 2000, 'learning_rate': 0.9}\n",
      "[4510.329074634642]\n"
     ]
    },
    {
     "data": {
      "image/png": "[encoded data removed]",
      "text/plain": [
       "<Figure size 432x288 with 1 Axes>"
      ]
     },
     "metadata": {
      "needs_background": "light"
     },
     "output_type": "display_data"
    }
   ],
   "source": [
    "i=0\n",
    "for g in grid:\n",
    "    p={\n",
    "    'num_of_iteration':g[0],\n",
    "    'learning_rate':g[1]\n",
    "    }\n",
    "    print(p)\n",
    "    Weights,train_error,val_error=train_model(X_train,y_train,X_val,y_val,p)\n",
    "    print(val_error)\n",
    "    plt.plot(np.arange(len(train_error)),train_error)\n",
    "    plt.xlabel(\"No. of iterations\")\n",
    "    plt.ylabel(\"Training Error\")   \n",
    "    plt.show()"
   ]
  },
  {
   "cell_type": "code",
   "execution_count": 163,
   "metadata": {
    "colab": {},
    "colab_type": "code",
    "id": "SYFE8rY0DxRW"
   },
   "outputs": [],
   "source": [
    "# def grid_search(X_train,y_train,X_val,y_val,grid_param):\n",
    "#     grid=list(itertools(product))"
   ]
  },
  {
   "cell_type": "code",
   "execution_count": 164,
   "metadata": {
    "colab": {},
    "colab_type": "code",
    "id": "ReaS-4qriXLR"
   },
   "outputs": [],
   "source": [
    "for param in grid:\n",
    "    def train_model(X_train,y_train,X_val,y_val,param):\n",
    "        np.random.seed(42)\n",
    "        W=np.random.rand(X_train.shape[1]).reshape(-1,1)    #We reshape the row vector(1*4) to column vector(4*1)\n",
    "        print(W.shape)\n",
    "        train_error=[]\n",
    "        val_error=[]\n",
    "\n",
    "      #Run the loop num_of_iteration times \n",
    "        for i in range(1,param['num_of_iteration']):\n",
    "            h_train=np.matmul(X_train,W)        #h_train is matrix mul of X_train and W\n",
    "            train_loss=MSE(h_train,y_train)     #loss in training data is calculated by calling MSE function\n",
    "            train_error.append(train_loss)      #\n",
    "\n",
    "            #Gradient-- Code form of the formula. shape[0] gives the number of rows\n",
    "            gradient=np.matmul(X_train.T,(h_train-y_train))/X_train.shape[0]    \n",
    "            #print(gradient.shape)\n",
    "            #break   \n",
    "            #W is the updated weight\n",
    "            W=W-param['learning_rate']*gradient\n",
    "            #print(gradient.shape)\n",
    "            #break\n",
    "        #Once training is done. We have to use Val set to tune hyper parameter. \n",
    "        #The p(combination) that gives least error is our final value for hyperparameters.\n",
    "        h_val=np.matmul(X_val,W)\n",
    "        val_loss=MSE(h_val,y_val)\n",
    "        val_error.append(val_loss)\n",
    "        return W #train_error, val_error\n"
   ]
  },
  {
   "cell_type": "markdown",
   "metadata": {
    "colab_type": "text",
    "id": "MW507Q0v-Pvm"
   },
   "source": [
    "## March 2nd : R2 score for model evaluation"
   ]
  },
  {
   "cell_type": "code",
   "execution_count": 165,
   "metadata": {
    "colab": {
     "base_uri": "https://localhost:8080/",
     "height": 34
    },
    "colab_type": "code",
    "id": "jp2e6NvcAG5e",
    "outputId": "cc789d91-709a-44a2-df97-0e35d3244469"
   },
   "outputs": [
    {
     "name": "stdout",
     "output_type": "stream",
     "text": [
      "(4, 1)\n"
     ]
    }
   ],
   "source": [
    "final_param = {'num_of_iteration' : 5000,'learning_rate': 0.1}\n",
    "model_weights =  train_model(X_train,y_train,X_val,y_val,final_param)"
   ]
  },
  {
   "cell_type": "code",
   "execution_count": 166,
   "metadata": {},
   "outputs": [
    {
     "data": {
      "text/plain": [
       "array([[  5.36269954],\n",
       "       [  3.1901112 ],\n",
       "       [818.79151919],\n",
       "       [798.12657937]])"
      ]
     },
     "execution_count": 166,
     "metadata": {},
     "output_type": "execute_result"
    }
   ],
   "source": [
    "model_weights"
   ]
  },
  {
   "cell_type": "code",
   "execution_count": 167,
   "metadata": {
    "colab": {
     "base_uri": "https://localhost:8080/",
     "height": 51
    },
    "colab_type": "code",
    "id": "OJghMvMxiiPe",
    "outputId": "5de0733f-12cc-451e-f8e3-7fadcbf82b34"
   },
   "outputs": [
    {
     "name": "stdout",
     "output_type": "stream",
     "text": [
      "2678791.79102394\n"
     ]
    },
    {
     "data": {
      "text/plain": [
       "0.9808026718015175"
      ]
     },
     "execution_count": 167,
     "metadata": {},
     "output_type": "execute_result"
    }
   ],
   "source": [
    "# weights = np.array(model_weights)\n",
    "y_mean = np.mean(y_test)\n",
    "h_test = np.matmul(X_test, model_weights)\n",
    "n = X_test.shape[0]\n",
    "k = X_test.shape[1] - 1\n",
    "SST = np.sum(np.square(y_test - y_mean))\n",
    "SSR = np.sum(np.square(h_test- y_mean))\n",
    "SSE = SST - SSR\n",
    "print(SSE)\n",
    "R2 = 1 - (SSE/(n-k-1))/(SST/(n-1))\n",
    "R2"
   ]
  },
  {
   "cell_type": "code",
   "execution_count": 168,
   "metadata": {
    "colab": {
     "base_uri": "https://localhost:8080/",
     "height": 34
    },
    "colab_type": "code",
    "id": "xbWOG7vAAq8G",
    "outputId": "28faf09e-9274-402f-8c31-50f0ea7b0237"
   },
   "outputs": [
    {
     "data": {
      "text/plain": [
       "((19765, 4), (4, 1), (19765, 1))"
      ]
     },
     "execution_count": 168,
     "metadata": {},
     "output_type": "execute_result"
    }
   ],
   "source": [
    "X_test.shape,model_weights.shape,h_test.shape"
   ]
  },
  {
   "cell_type": "code",
   "execution_count": 169,
   "metadata": {
    "colab": {
     "base_uri": "https://localhost:8080/",
     "height": 34
    },
    "colab_type": "code",
    "id": "FGPuGCbX_XjT",
    "outputId": "9003f2cd-54c8-4350-c872-d567cf7b7016"
   },
   "outputs": [
    {
     "data": {
      "text/plain": [
       "3202070.116557234"
      ]
     },
     "execution_count": 169,
     "metadata": {},
     "output_type": "execute_result"
    }
   ],
   "source": [
    "sse = np.sum(np.square(h_test - y_test))\n",
    "sse"
   ]
  },
  {
   "cell_type": "code",
   "execution_count": 170,
   "metadata": {
    "colab": {},
    "colab_type": "code",
    "id": "wPBdu8-A_hGz"
   },
   "outputs": [],
   "source": [
    "# #5000 and 0.1\n",
    "# SSE= 1100482.76069282\n",
    "\n",
    "# R2= 0.9912581329676198\n",
    "\n",
    "# sse= 4699303.15028573"
   ]
  },
  {
   "cell_type": "code",
   "execution_count": null,
   "metadata": {},
   "outputs": [],
   "source": []
  }
 ],
 "metadata": {
  "colab": {
   "collapsed_sections": [],
   "machine_shape": "hm",
   "name": "LinearRegression_28th_feb_absent.ipynb",
   "provenance": []
  },
  "kernelspec": {
   "display_name": "Python 3",
   "language": "python",
   "name": "python3"
  },
  "language_info": {
   "codemirror_mode": {
    "name": "ipython",
    "version": 3
   },
   "file_extension": ".py",
   "mimetype": "text/x-python",
   "name": "python",
   "nbconvert_exporter": "python",
   "pygments_lexer": "ipython3",
   "version": "3.6.9"
  }
 },
 "nbformat": 4,
 "nbformat_minor": 1
}

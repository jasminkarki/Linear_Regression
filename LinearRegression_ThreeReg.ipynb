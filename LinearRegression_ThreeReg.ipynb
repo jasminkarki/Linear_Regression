{
 "cells": [
  {
   "cell_type": "markdown",
   "metadata": {
    "colab_type": "text",
    "id": "ljyveZI8Yi-T"
   },
   "source": [
    "## Feature Extraction"
   ]
  },
  {
   "cell_type": "code",
   "execution_count": 1,
   "metadata": {
    "colab": {},
    "colab_type": "code",
    "id": "qZ9tTD6fLRkO"
   },
   "outputs": [],
   "source": [
    "import numpy as np\n",
    "import pandas as pd\n",
    "import matplotlib.pyplot as plt\n",
    "%matplotlib inline\n",
    "\n",
    "df = pd.read_csv('Price.csv')"
   ]
  },
  {
   "cell_type": "code",
   "execution_count": 2,
   "metadata": {
    "colab": {},
    "colab_type": "code",
    "id": "v3DP3GY2LjdP"
   },
   "outputs": [],
   "source": [
    "#Renaming title of columns\n",
    "df = df.rename(columns ={'कृषि उपज':'Name','ईकाइ':'Quantity','न्यूनतम':'Min','अधिकतम':'Max','औसत':'Avg'})\n",
    "\n",
    "#Converting column containing nepali numbers into int\n",
    "df['Avg']=df['Avg'].apply(lambda x: int(x))"
   ]
  },
  {
   "cell_type": "code",
   "execution_count": 3,
   "metadata": {
    "colab": {
     "base_uri": "https://localhost:8080/",
     "height": 235
    },
    "colab_type": "code",
    "id": "brU4L7MMzBXN",
    "outputId": "e6cdc3c2-0a80-4d57-b758-199078431845"
   },
   "outputs": [
    {
     "name": "stdout",
     "output_type": "stream",
     "text": [
      "Name                 object\n",
      "Quantity             object\n",
      "Min                  object\n",
      "Max                  object\n",
      "Avg                   int64\n",
      "cdate        datetime64[ns]\n",
      "pricetype            object\n",
      "dtype: object\n"
     ]
    }
   ],
   "source": [
    "#Converting date column to date\n",
    "import datetime\n",
    "df['cdate']=pd.to_datetime(df['cdate'])\n",
    "print(df.dtypes)      #Data types of the columns in df"
   ]
  },
  {
   "cell_type": "code",
   "execution_count": 4,
   "metadata": {
    "colab": {
     "base_uri": "https://localhost:8080/",
     "height": 204
    },
    "colab_type": "code",
    "id": "Fa2zH89QYE3w",
    "outputId": "520e8c06-ea1d-4f14-faed-41a6db47b397"
   },
   "outputs": [
    {
     "data": {
      "text/plain": [
       "काउली स्थानिय      1436\n",
       "भुर्इ कटहर         1436\n",
       "मूला सेतो(लोकल)    1436\n",
       "केरा               1436\n",
       "अदुवा              1436\n",
       "                   ... \n",
       "अम्बा                44\n",
       "सजिवन                32\n",
       "अंगुर(कालो)          32\n",
       "लीच्ची(भारतीय)       28\n",
       "परवर(तराई)           16\n",
       "Name: Name, Length: 120, dtype: int64"
      ]
     },
     "execution_count": 4,
     "metadata": {},
     "output_type": "execute_result"
    }
   ],
   "source": [
    "df['Name'].value_counts()"
   ]
  },
  {
   "cell_type": "code",
   "execution_count": 5,
   "metadata": {},
   "outputs": [
    {
     "data": {
      "text/html": [
       "<div>\n",
       "<style scoped>\n",
       "    .dataframe tbody tr th:only-of-type {\n",
       "        vertical-align: middle;\n",
       "    }\n",
       "\n",
       "    .dataframe tbody tr th {\n",
       "        vertical-align: top;\n",
       "    }\n",
       "\n",
       "    .dataframe thead th {\n",
       "        text-align: right;\n",
       "    }\n",
       "</style>\n",
       "<table border=\"1\" class=\"dataframe\">\n",
       "  <thead>\n",
       "    <tr style=\"text-align: right;\">\n",
       "      <th></th>\n",
       "      <th>Name</th>\n",
       "      <th>Quantity</th>\n",
       "      <th>Min</th>\n",
       "      <th>Max</th>\n",
       "      <th>Avg</th>\n",
       "      <th>cdate</th>\n",
       "      <th>pricetype</th>\n",
       "    </tr>\n",
       "  </thead>\n",
       "  <tbody>\n",
       "    <tr>\n",
       "      <th>0</th>\n",
       "      <td>गोलभेडा ठूलो(नेपाली)</td>\n",
       "      <td>के.जी.</td>\n",
       "      <td>३०</td>\n",
       "      <td>३५</td>\n",
       "      <td>33</td>\n",
       "      <td>2018-02-25</td>\n",
       "      <td>W</td>\n",
       "    </tr>\n",
       "    <tr>\n",
       "      <th>1</th>\n",
       "      <td>गोलभेडा सानो</td>\n",
       "      <td>के.जी.</td>\n",
       "      <td>२५</td>\n",
       "      <td>३०</td>\n",
       "      <td>28</td>\n",
       "      <td>2018-02-25</td>\n",
       "      <td>W</td>\n",
       "    </tr>\n",
       "    <tr>\n",
       "      <th>2</th>\n",
       "      <td>अालु रातो</td>\n",
       "      <td>के.जी.</td>\n",
       "      <td>२०</td>\n",
       "      <td>२३</td>\n",
       "      <td>22</td>\n",
       "      <td>2018-02-25</td>\n",
       "      <td>W</td>\n",
       "    </tr>\n",
       "    <tr>\n",
       "      <th>3</th>\n",
       "      <td>अालु सेतो</td>\n",
       "      <td>के.जी.</td>\n",
       "      <td>१८</td>\n",
       "      <td>२०</td>\n",
       "      <td>19</td>\n",
       "      <td>2018-02-25</td>\n",
       "      <td>W</td>\n",
       "    </tr>\n",
       "    <tr>\n",
       "      <th>4</th>\n",
       "      <td>प्याज सुकेको भारतीय</td>\n",
       "      <td>के.जी.</td>\n",
       "      <td>४४</td>\n",
       "      <td>४६</td>\n",
       "      <td>45</td>\n",
       "      <td>2018-02-25</td>\n",
       "      <td>W</td>\n",
       "    </tr>\n",
       "    <tr>\n",
       "      <th>5</th>\n",
       "      <td>गाजर(लोकल)</td>\n",
       "      <td>के.जी.</td>\n",
       "      <td>२५</td>\n",
       "      <td>३०</td>\n",
       "      <td>28</td>\n",
       "      <td>2018-02-25</td>\n",
       "      <td>W</td>\n",
       "    </tr>\n",
       "    <tr>\n",
       "      <th>6</th>\n",
       "      <td>बन्दा(लोकल)</td>\n",
       "      <td>के.जी.</td>\n",
       "      <td>२२</td>\n",
       "      <td>२८</td>\n",
       "      <td>25</td>\n",
       "      <td>2018-02-25</td>\n",
       "      <td>W</td>\n",
       "    </tr>\n",
       "    <tr>\n",
       "      <th>7</th>\n",
       "      <td>काउली स्थानिय</td>\n",
       "      <td>के.जी.</td>\n",
       "      <td>२५</td>\n",
       "      <td>३०</td>\n",
       "      <td>28</td>\n",
       "      <td>2018-02-25</td>\n",
       "      <td>W</td>\n",
       "    </tr>\n",
       "    <tr>\n",
       "      <th>8</th>\n",
       "      <td>काउली तरार्इ</td>\n",
       "      <td>के.जी.</td>\n",
       "      <td>२०</td>\n",
       "      <td>२५</td>\n",
       "      <td>23</td>\n",
       "      <td>2018-02-25</td>\n",
       "      <td>W</td>\n",
       "    </tr>\n",
       "    <tr>\n",
       "      <th>9</th>\n",
       "      <td>मूला रातो</td>\n",
       "      <td>के.जी.</td>\n",
       "      <td>३०</td>\n",
       "      <td>३५</td>\n",
       "      <td>33</td>\n",
       "      <td>2018-02-25</td>\n",
       "      <td>W</td>\n",
       "    </tr>\n",
       "  </tbody>\n",
       "</table>\n",
       "</div>"
      ],
      "text/plain": [
       "                   Name Quantity Min Max  Avg      cdate pricetype\n",
       "0  गोलभेडा ठूलो(नेपाली)   के.जी.  ३०  ३५   33 2018-02-25         W\n",
       "1          गोलभेडा सानो   के.जी.  २५  ३०   28 2018-02-25         W\n",
       "2             अालु रातो   के.जी.  २०  २३   22 2018-02-25         W\n",
       "3             अालु सेतो   के.जी.  १८  २०   19 2018-02-25         W\n",
       "4   प्याज सुकेको भारतीय   के.जी.  ४४  ४६   45 2018-02-25         W\n",
       "5            गाजर(लोकल)   के.जी.  २५  ३०   28 2018-02-25         W\n",
       "6           बन्दा(लोकल)   के.जी.  २२  २८   25 2018-02-25         W\n",
       "7         काउली स्थानिय   के.जी.  २५  ३०   28 2018-02-25         W\n",
       "8          काउली तरार्इ   के.जी.  २०  २५   23 2018-02-25         W\n",
       "9             मूला रातो   के.जी.  ३०  ३५   33 2018-02-25         W"
      ]
     },
     "execution_count": 5,
     "metadata": {},
     "output_type": "execute_result"
    }
   ],
   "source": [
    "df.head(10)"
   ]
  },
  {
   "cell_type": "markdown",
   "metadata": {},
   "source": [
    "### Adding two features: \n",
    "#### Price of yesterday and the day before yesterday"
   ]
  },
  {
   "cell_type": "code",
   "execution_count": 6,
   "metadata": {
    "colab": {},
    "colab_type": "code",
    "id": "E-I664JS65Fi"
   },
   "outputs": [],
   "source": [
    "vegetable = set(df['Name'].values)      #Creating a set of vegetable i.e taking all the unique vegetables\n",
    "len(vegetable)\n",
    "\n",
    "feature_df = []                         # Empty list for future use\n",
    "\n",
    "for v in vegetable:\n",
    "    for p_type in ['W','R']:\n",
    "\n",
    "        df_v = df[(df['Name'] == v) & (df['pricetype']== p_type)] #taking a vegetable of only one pricetype\n",
    "        df_v = df_v.sort_values(by = ['cdate'], ascending = False) #sorting in descending order based on date. Recent date will be at first.\n",
    "\n",
    "        if p_type == 'W':\n",
    "            df_v['type'] = 1\n",
    "        else:\n",
    "            df_v['type'] = 0\n",
    "\n",
    "\n",
    "        df_v['t_1'] = df_v.shift(-1)['Avg']\n",
    "        df_v['t_2'] = df_v.shift(-2)['Avg']\n",
    "#         df_v['t_7'] = df_v.shift(-7)['Avg']     #Could be a feature but data size decreases drastically\n",
    "\n",
    "        feature_df.append(df_v)\n"
   ]
  },
  {
   "cell_type": "code",
   "execution_count": null,
   "metadata": {},
   "outputs": [],
   "source": []
  },
  {
   "cell_type": "code",
   "execution_count": null,
   "metadata": {},
   "outputs": [],
   "source": []
  },
  {
   "cell_type": "code",
   "execution_count": 7,
   "metadata": {
    "colab": {},
    "colab_type": "code",
    "id": "of8Q2v_mY8yf"
   },
   "outputs": [],
   "source": [
    "feature_df = pd.concat(feature_df)"
   ]
  },
  {
   "cell_type": "code",
   "execution_count": 8,
   "metadata": {
    "colab": {
     "base_uri": "https://localhost:8080/",
     "height": 204
    },
    "colab_type": "code",
    "id": "XqmMpONlZKRq",
    "outputId": "63a16759-8ae3-4815-dbd1-accd43646717"
   },
   "outputs": [
    {
     "data": {
      "text/html": [
       "<div>\n",
       "<style scoped>\n",
       "    .dataframe tbody tr th:only-of-type {\n",
       "        vertical-align: middle;\n",
       "    }\n",
       "\n",
       "    .dataframe tbody tr th {\n",
       "        vertical-align: top;\n",
       "    }\n",
       "\n",
       "    .dataframe thead th {\n",
       "        text-align: right;\n",
       "    }\n",
       "</style>\n",
       "<table border=\"1\" class=\"dataframe\">\n",
       "  <thead>\n",
       "    <tr style=\"text-align: right;\">\n",
       "      <th></th>\n",
       "      <th>Name</th>\n",
       "      <th>Quantity</th>\n",
       "      <th>Min</th>\n",
       "      <th>Max</th>\n",
       "      <th>Avg</th>\n",
       "      <th>cdate</th>\n",
       "      <th>pricetype</th>\n",
       "      <th>type</th>\n",
       "      <th>t_1</th>\n",
       "      <th>t_2</th>\n",
       "    </tr>\n",
       "  </thead>\n",
       "  <tbody>\n",
       "    <tr>\n",
       "      <th>63788</th>\n",
       "      <td>ठूलो गोलभेडा(भारतीय)</td>\n",
       "      <td>केजी</td>\n",
       "      <td>१००</td>\n",
       "      <td>१२०</td>\n",
       "      <td>110</td>\n",
       "      <td>2019-07-01</td>\n",
       "      <td>R</td>\n",
       "      <td>0</td>\n",
       "      <td>115.0</td>\n",
       "      <td>115.0</td>\n",
       "    </tr>\n",
       "    <tr>\n",
       "      <th>63627</th>\n",
       "      <td>ठूलो गोलभेडा(भारतीय)</td>\n",
       "      <td>केजी</td>\n",
       "      <td>११०</td>\n",
       "      <td>१२०</td>\n",
       "      <td>115</td>\n",
       "      <td>2019-06-30</td>\n",
       "      <td>R</td>\n",
       "      <td>0</td>\n",
       "      <td>115.0</td>\n",
       "      <td>115.0</td>\n",
       "    </tr>\n",
       "    <tr>\n",
       "      <th>63467</th>\n",
       "      <td>ठूलो गोलभेडा(भारतीय)</td>\n",
       "      <td>केजी</td>\n",
       "      <td>११०</td>\n",
       "      <td>१२०</td>\n",
       "      <td>115</td>\n",
       "      <td>2019-06-29</td>\n",
       "      <td>R</td>\n",
       "      <td>0</td>\n",
       "      <td>115.0</td>\n",
       "      <td>115.0</td>\n",
       "    </tr>\n",
       "    <tr>\n",
       "      <th>63308</th>\n",
       "      <td>ठूलो गोलभेडा(भारतीय)</td>\n",
       "      <td>केजी</td>\n",
       "      <td>११०</td>\n",
       "      <td>१२०</td>\n",
       "      <td>115</td>\n",
       "      <td>2019-06-28</td>\n",
       "      <td>R</td>\n",
       "      <td>0</td>\n",
       "      <td>115.0</td>\n",
       "      <td>115.0</td>\n",
       "    </tr>\n",
       "    <tr>\n",
       "      <th>63150</th>\n",
       "      <td>ठूलो गोलभेडा(भारतीय)</td>\n",
       "      <td>केजी</td>\n",
       "      <td>११०</td>\n",
       "      <td>१२०</td>\n",
       "      <td>115</td>\n",
       "      <td>2019-06-27</td>\n",
       "      <td>R</td>\n",
       "      <td>0</td>\n",
       "      <td>115.0</td>\n",
       "      <td>105.0</td>\n",
       "    </tr>\n",
       "  </tbody>\n",
       "</table>\n",
       "</div>"
      ],
      "text/plain": [
       "                       Name Quantity  Min  Max  Avg      cdate pricetype  \\\n",
       "63788  ठूलो गोलभेडा(भारतीय)     केजी  १००  १२०  110 2019-07-01         R   \n",
       "63627  ठूलो गोलभेडा(भारतीय)     केजी  ११०  १२०  115 2019-06-30         R   \n",
       "63467  ठूलो गोलभेडा(भारतीय)     केजी  ११०  १२०  115 2019-06-29         R   \n",
       "63308  ठूलो गोलभेडा(भारतीय)     केजी  ११०  १२०  115 2019-06-28         R   \n",
       "63150  ठूलो गोलभेडा(भारतीय)     केजी  ११०  १२०  115 2019-06-27         R   \n",
       "\n",
       "       type    t_1    t_2  \n",
       "63788     0  115.0  115.0  \n",
       "63627     0  115.0  115.0  \n",
       "63467     0  115.0  115.0  \n",
       "63308     0  115.0  115.0  \n",
       "63150     0  115.0  105.0  "
      ]
     },
     "execution_count": 8,
     "metadata": {},
     "output_type": "execute_result"
    }
   ],
   "source": [
    "feature_df.dropna(inplace=True)\n",
    "feature_df.tail()"
   ]
  },
  {
   "cell_type": "code",
   "execution_count": 9,
   "metadata": {},
   "outputs": [],
   "source": [
    "#Making a copy of the dataframe to implement rolling mean\n",
    "feature_df_edit=feature_df"
   ]
  },
  {
   "cell_type": "code",
   "execution_count": 10,
   "metadata": {},
   "outputs": [
    {
     "data": {
      "text/html": [
       "<div>\n",
       "<style scoped>\n",
       "    .dataframe tbody tr th:only-of-type {\n",
       "        vertical-align: middle;\n",
       "    }\n",
       "\n",
       "    .dataframe tbody tr th {\n",
       "        vertical-align: top;\n",
       "    }\n",
       "\n",
       "    .dataframe thead th {\n",
       "        text-align: right;\n",
       "    }\n",
       "</style>\n",
       "<table border=\"1\" class=\"dataframe\">\n",
       "  <thead>\n",
       "    <tr style=\"text-align: right;\">\n",
       "      <th></th>\n",
       "      <th>Name</th>\n",
       "      <th>Quantity</th>\n",
       "      <th>Min</th>\n",
       "      <th>Max</th>\n",
       "      <th>Avg</th>\n",
       "      <th>cdate</th>\n",
       "      <th>pricetype</th>\n",
       "      <th>type</th>\n",
       "      <th>t_1</th>\n",
       "      <th>t_2</th>\n",
       "    </tr>\n",
       "  </thead>\n",
       "  <tbody>\n",
       "    <tr>\n",
       "      <th>76850</th>\n",
       "      <td>खुर्सानी हरियो(माछे)</td>\n",
       "      <td>के जी</td>\n",
       "      <td>९५</td>\n",
       "      <td>१००</td>\n",
       "      <td>98</td>\n",
       "      <td>2019-09-26</td>\n",
       "      <td>W</td>\n",
       "      <td>1</td>\n",
       "      <td>98.0</td>\n",
       "      <td>98.0</td>\n",
       "    </tr>\n",
       "    <tr>\n",
       "      <th>76708</th>\n",
       "      <td>खुर्सानी हरियो(माछे)</td>\n",
       "      <td>के जी</td>\n",
       "      <td>९५</td>\n",
       "      <td>१००</td>\n",
       "      <td>98</td>\n",
       "      <td>2019-09-25</td>\n",
       "      <td>W</td>\n",
       "      <td>1</td>\n",
       "      <td>98.0</td>\n",
       "      <td>65.0</td>\n",
       "    </tr>\n",
       "    <tr>\n",
       "      <th>76567</th>\n",
       "      <td>खुर्सानी हरियो(माछे)</td>\n",
       "      <td>के जी</td>\n",
       "      <td>९५</td>\n",
       "      <td>१००</td>\n",
       "      <td>98</td>\n",
       "      <td>2019-09-24</td>\n",
       "      <td>W</td>\n",
       "      <td>1</td>\n",
       "      <td>65.0</td>\n",
       "      <td>62.0</td>\n",
       "    </tr>\n",
       "    <tr>\n",
       "      <th>76285</th>\n",
       "      <td>खुर्सानी हरियो(माछे)</td>\n",
       "      <td>के जी</td>\n",
       "      <td>६०</td>\n",
       "      <td>७०</td>\n",
       "      <td>65</td>\n",
       "      <td>2019-09-22</td>\n",
       "      <td>W</td>\n",
       "      <td>1</td>\n",
       "      <td>62.0</td>\n",
       "      <td>58.0</td>\n",
       "    </tr>\n",
       "    <tr>\n",
       "      <th>75475</th>\n",
       "      <td>खुर्सानी हरियो(माछे)</td>\n",
       "      <td>के जी</td>\n",
       "      <td>६०</td>\n",
       "      <td>६५</td>\n",
       "      <td>62</td>\n",
       "      <td>2019-09-16</td>\n",
       "      <td>W</td>\n",
       "      <td>1</td>\n",
       "      <td>58.0</td>\n",
       "      <td>58.0</td>\n",
       "    </tr>\n",
       "    <tr>\n",
       "      <th>...</th>\n",
       "      <td>...</td>\n",
       "      <td>...</td>\n",
       "      <td>...</td>\n",
       "      <td>...</td>\n",
       "      <td>...</td>\n",
       "      <td>...</td>\n",
       "      <td>...</td>\n",
       "      <td>...</td>\n",
       "      <td>...</td>\n",
       "      <td>...</td>\n",
       "    </tr>\n",
       "    <tr>\n",
       "      <th>63788</th>\n",
       "      <td>ठूलो गोलभेडा(भारतीय)</td>\n",
       "      <td>केजी</td>\n",
       "      <td>१००</td>\n",
       "      <td>१२०</td>\n",
       "      <td>110</td>\n",
       "      <td>2019-07-01</td>\n",
       "      <td>R</td>\n",
       "      <td>0</td>\n",
       "      <td>115.0</td>\n",
       "      <td>115.0</td>\n",
       "    </tr>\n",
       "    <tr>\n",
       "      <th>63627</th>\n",
       "      <td>ठूलो गोलभेडा(भारतीय)</td>\n",
       "      <td>केजी</td>\n",
       "      <td>११०</td>\n",
       "      <td>१२०</td>\n",
       "      <td>115</td>\n",
       "      <td>2019-06-30</td>\n",
       "      <td>R</td>\n",
       "      <td>0</td>\n",
       "      <td>115.0</td>\n",
       "      <td>115.0</td>\n",
       "    </tr>\n",
       "    <tr>\n",
       "      <th>63467</th>\n",
       "      <td>ठूलो गोलभेडा(भारतीय)</td>\n",
       "      <td>केजी</td>\n",
       "      <td>११०</td>\n",
       "      <td>१२०</td>\n",
       "      <td>115</td>\n",
       "      <td>2019-06-29</td>\n",
       "      <td>R</td>\n",
       "      <td>0</td>\n",
       "      <td>115.0</td>\n",
       "      <td>115.0</td>\n",
       "    </tr>\n",
       "    <tr>\n",
       "      <th>63308</th>\n",
       "      <td>ठूलो गोलभेडा(भारतीय)</td>\n",
       "      <td>केजी</td>\n",
       "      <td>११०</td>\n",
       "      <td>१२०</td>\n",
       "      <td>115</td>\n",
       "      <td>2019-06-28</td>\n",
       "      <td>R</td>\n",
       "      <td>0</td>\n",
       "      <td>115.0</td>\n",
       "      <td>115.0</td>\n",
       "    </tr>\n",
       "    <tr>\n",
       "      <th>63150</th>\n",
       "      <td>ठूलो गोलभेडा(भारतीय)</td>\n",
       "      <td>केजी</td>\n",
       "      <td>११०</td>\n",
       "      <td>१२०</td>\n",
       "      <td>115</td>\n",
       "      <td>2019-06-27</td>\n",
       "      <td>R</td>\n",
       "      <td>0</td>\n",
       "      <td>115.0</td>\n",
       "      <td>105.0</td>\n",
       "    </tr>\n",
       "  </tbody>\n",
       "</table>\n",
       "<p>98822 rows × 10 columns</p>\n",
       "</div>"
      ],
      "text/plain": [
       "                       Name Quantity  Min  Max  Avg      cdate pricetype  \\\n",
       "76850  खुर्सानी हरियो(माछे)    के जी   ९५  १००   98 2019-09-26         W   \n",
       "76708  खुर्सानी हरियो(माछे)    के जी   ९५  १००   98 2019-09-25         W   \n",
       "76567  खुर्सानी हरियो(माछे)    के जी   ९५  १००   98 2019-09-24         W   \n",
       "76285  खुर्सानी हरियो(माछे)    के जी   ६०   ७०   65 2019-09-22         W   \n",
       "75475  खुर्सानी हरियो(माछे)    के जी   ६०   ६५   62 2019-09-16         W   \n",
       "...                     ...      ...  ...  ...  ...        ...       ...   \n",
       "63788  ठूलो गोलभेडा(भारतीय)     केजी  १००  १२०  110 2019-07-01         R   \n",
       "63627  ठूलो गोलभेडा(भारतीय)     केजी  ११०  १२०  115 2019-06-30         R   \n",
       "63467  ठूलो गोलभेडा(भारतीय)     केजी  ११०  १२०  115 2019-06-29         R   \n",
       "63308  ठूलो गोलभेडा(भारतीय)     केजी  ११०  १२०  115 2019-06-28         R   \n",
       "63150  ठूलो गोलभेडा(भारतीय)     केजी  ११०  १२०  115 2019-06-27         R   \n",
       "\n",
       "       type    t_1    t_2  \n",
       "76850     1   98.0   98.0  \n",
       "76708     1   98.0   65.0  \n",
       "76567     1   65.0   62.0  \n",
       "76285     1   62.0   58.0  \n",
       "75475     1   58.0   58.0  \n",
       "...     ...    ...    ...  \n",
       "63788     0  115.0  115.0  \n",
       "63627     0  115.0  115.0  \n",
       "63467     0  115.0  115.0  \n",
       "63308     0  115.0  115.0  \n",
       "63150     0  115.0  105.0  \n",
       "\n",
       "[98822 rows x 10 columns]"
      ]
     },
     "execution_count": 10,
     "metadata": {},
     "output_type": "execute_result"
    }
   ],
   "source": [
    "feature_df_edit"
   ]
  },
  {
   "cell_type": "code",
   "execution_count": 11,
   "metadata": {},
   "outputs": [
    {
     "data": {
      "text/html": [
       "<div>\n",
       "<style scoped>\n",
       "    .dataframe tbody tr th:only-of-type {\n",
       "        vertical-align: middle;\n",
       "    }\n",
       "\n",
       "    .dataframe tbody tr th {\n",
       "        vertical-align: top;\n",
       "    }\n",
       "\n",
       "    .dataframe thead th {\n",
       "        text-align: right;\n",
       "    }\n",
       "</style>\n",
       "<table border=\"1\" class=\"dataframe\">\n",
       "  <thead>\n",
       "    <tr style=\"text-align: right;\">\n",
       "      <th></th>\n",
       "      <th>Name</th>\n",
       "      <th>Quantity</th>\n",
       "      <th>Min</th>\n",
       "      <th>Max</th>\n",
       "      <th>Avg</th>\n",
       "      <th>cdate</th>\n",
       "      <th>pricetype</th>\n",
       "      <th>type</th>\n",
       "      <th>t_1</th>\n",
       "      <th>t_2</th>\n",
       "    </tr>\n",
       "  </thead>\n",
       "  <tbody>\n",
       "    <tr>\n",
       "      <th>76850</th>\n",
       "      <td>खुर्सानी हरियो(माछे)</td>\n",
       "      <td>के जी</td>\n",
       "      <td>९५</td>\n",
       "      <td>१००</td>\n",
       "      <td>98</td>\n",
       "      <td>2019-09-26</td>\n",
       "      <td>W</td>\n",
       "      <td>1</td>\n",
       "      <td>98.0</td>\n",
       "      <td>98.0</td>\n",
       "    </tr>\n",
       "    <tr>\n",
       "      <th>76708</th>\n",
       "      <td>खुर्सानी हरियो(माछे)</td>\n",
       "      <td>के जी</td>\n",
       "      <td>९५</td>\n",
       "      <td>१००</td>\n",
       "      <td>98</td>\n",
       "      <td>2019-09-25</td>\n",
       "      <td>W</td>\n",
       "      <td>1</td>\n",
       "      <td>98.0</td>\n",
       "      <td>65.0</td>\n",
       "    </tr>\n",
       "    <tr>\n",
       "      <th>76567</th>\n",
       "      <td>खुर्सानी हरियो(माछे)</td>\n",
       "      <td>के जी</td>\n",
       "      <td>९५</td>\n",
       "      <td>१००</td>\n",
       "      <td>98</td>\n",
       "      <td>2019-09-24</td>\n",
       "      <td>W</td>\n",
       "      <td>1</td>\n",
       "      <td>65.0</td>\n",
       "      <td>62.0</td>\n",
       "    </tr>\n",
       "    <tr>\n",
       "      <th>76285</th>\n",
       "      <td>खुर्सानी हरियो(माछे)</td>\n",
       "      <td>के जी</td>\n",
       "      <td>६०</td>\n",
       "      <td>७०</td>\n",
       "      <td>65</td>\n",
       "      <td>2019-09-22</td>\n",
       "      <td>W</td>\n",
       "      <td>1</td>\n",
       "      <td>62.0</td>\n",
       "      <td>58.0</td>\n",
       "    </tr>\n",
       "    <tr>\n",
       "      <th>75475</th>\n",
       "      <td>खुर्सानी हरियो(माछे)</td>\n",
       "      <td>के जी</td>\n",
       "      <td>६०</td>\n",
       "      <td>६५</td>\n",
       "      <td>62</td>\n",
       "      <td>2019-09-16</td>\n",
       "      <td>W</td>\n",
       "      <td>1</td>\n",
       "      <td>58.0</td>\n",
       "      <td>58.0</td>\n",
       "    </tr>\n",
       "    <tr>\n",
       "      <th>...</th>\n",
       "      <td>...</td>\n",
       "      <td>...</td>\n",
       "      <td>...</td>\n",
       "      <td>...</td>\n",
       "      <td>...</td>\n",
       "      <td>...</td>\n",
       "      <td>...</td>\n",
       "      <td>...</td>\n",
       "      <td>...</td>\n",
       "      <td>...</td>\n",
       "    </tr>\n",
       "    <tr>\n",
       "      <th>63788</th>\n",
       "      <td>ठूलो गोलभेडा(भारतीय)</td>\n",
       "      <td>केजी</td>\n",
       "      <td>१००</td>\n",
       "      <td>१२०</td>\n",
       "      <td>110</td>\n",
       "      <td>2019-07-01</td>\n",
       "      <td>R</td>\n",
       "      <td>0</td>\n",
       "      <td>115.0</td>\n",
       "      <td>115.0</td>\n",
       "    </tr>\n",
       "    <tr>\n",
       "      <th>63627</th>\n",
       "      <td>ठूलो गोलभेडा(भारतीय)</td>\n",
       "      <td>केजी</td>\n",
       "      <td>११०</td>\n",
       "      <td>१२०</td>\n",
       "      <td>115</td>\n",
       "      <td>2019-06-30</td>\n",
       "      <td>R</td>\n",
       "      <td>0</td>\n",
       "      <td>115.0</td>\n",
       "      <td>115.0</td>\n",
       "    </tr>\n",
       "    <tr>\n",
       "      <th>63467</th>\n",
       "      <td>ठूलो गोलभेडा(भारतीय)</td>\n",
       "      <td>केजी</td>\n",
       "      <td>११०</td>\n",
       "      <td>१२०</td>\n",
       "      <td>115</td>\n",
       "      <td>2019-06-29</td>\n",
       "      <td>R</td>\n",
       "      <td>0</td>\n",
       "      <td>115.0</td>\n",
       "      <td>115.0</td>\n",
       "    </tr>\n",
       "    <tr>\n",
       "      <th>63308</th>\n",
       "      <td>ठूलो गोलभेडा(भारतीय)</td>\n",
       "      <td>केजी</td>\n",
       "      <td>११०</td>\n",
       "      <td>१२०</td>\n",
       "      <td>115</td>\n",
       "      <td>2019-06-28</td>\n",
       "      <td>R</td>\n",
       "      <td>0</td>\n",
       "      <td>115.0</td>\n",
       "      <td>115.0</td>\n",
       "    </tr>\n",
       "    <tr>\n",
       "      <th>63150</th>\n",
       "      <td>ठूलो गोलभेडा(भारतीय)</td>\n",
       "      <td>केजी</td>\n",
       "      <td>११०</td>\n",
       "      <td>१२०</td>\n",
       "      <td>115</td>\n",
       "      <td>2019-06-27</td>\n",
       "      <td>R</td>\n",
       "      <td>0</td>\n",
       "      <td>115.0</td>\n",
       "      <td>105.0</td>\n",
       "    </tr>\n",
       "  </tbody>\n",
       "</table>\n",
       "<p>98822 rows × 10 columns</p>\n",
       "</div>"
      ],
      "text/plain": [
       "                       Name Quantity  Min  Max  Avg      cdate pricetype  \\\n",
       "76850  खुर्सानी हरियो(माछे)    के जी   ९५  १००   98 2019-09-26         W   \n",
       "76708  खुर्सानी हरियो(माछे)    के जी   ९५  १००   98 2019-09-25         W   \n",
       "76567  खुर्सानी हरियो(माछे)    के जी   ९५  १००   98 2019-09-24         W   \n",
       "76285  खुर्सानी हरियो(माछे)    के जी   ६०   ७०   65 2019-09-22         W   \n",
       "75475  खुर्सानी हरियो(माछे)    के जी   ६०   ६५   62 2019-09-16         W   \n",
       "...                     ...      ...  ...  ...  ...        ...       ...   \n",
       "63788  ठूलो गोलभेडा(भारतीय)     केजी  १००  १२०  110 2019-07-01         R   \n",
       "63627  ठूलो गोलभेडा(भारतीय)     केजी  ११०  १२०  115 2019-06-30         R   \n",
       "63467  ठूलो गोलभेडा(भारतीय)     केजी  ११०  १२०  115 2019-06-29         R   \n",
       "63308  ठूलो गोलभेडा(भारतीय)     केजी  ११०  १२०  115 2019-06-28         R   \n",
       "63150  ठूलो गोलभेडा(भारतीय)     केजी  ११०  १२०  115 2019-06-27         R   \n",
       "\n",
       "       type    t_1    t_2  \n",
       "76850     1   98.0   98.0  \n",
       "76708     1   98.0   65.0  \n",
       "76567     1   65.0   62.0  \n",
       "76285     1   62.0   58.0  \n",
       "75475     1   58.0   58.0  \n",
       "...     ...    ...    ...  \n",
       "63788     0  115.0  115.0  \n",
       "63627     0  115.0  115.0  \n",
       "63467     0  115.0  115.0  \n",
       "63308     0  115.0  115.0  \n",
       "63150     0  115.0  105.0  \n",
       "\n",
       "[98822 rows x 10 columns]"
      ]
     },
     "execution_count": 11,
     "metadata": {},
     "output_type": "execute_result"
    }
   ],
   "source": [
    "feature_df_1=feature_df.groupby('Name')\n",
    "feature_df"
   ]
  },
  {
   "cell_type": "code",
   "execution_count": 12,
   "metadata": {
    "scrolled": true
   },
   "outputs": [],
   "source": [
    "feature_df['cdate']=pd.to_datetime(feature_df['cdate'])\n",
    "\n",
    "#Grouped by Name in which we will apply rolling mean of past 7 days\n",
    "new_df=feature_df.groupby(['Name','type']).apply(lambda x: x.set_index('cdate').resample('1D').first())\n",
    "# new_df"
   ]
  },
  {
   "cell_type": "code",
   "execution_count": 13,
   "metadata": {},
   "outputs": [
    {
     "data": {
      "text/html": [
       "<div>\n",
       "<style scoped>\n",
       "    .dataframe tbody tr th:only-of-type {\n",
       "        vertical-align: middle;\n",
       "    }\n",
       "\n",
       "    .dataframe tbody tr th {\n",
       "        vertical-align: top;\n",
       "    }\n",
       "\n",
       "    .dataframe thead th {\n",
       "        text-align: right;\n",
       "    }\n",
       "</style>\n",
       "<table border=\"1\" class=\"dataframe\">\n",
       "  <thead>\n",
       "    <tr style=\"text-align: right;\">\n",
       "      <th></th>\n",
       "      <th></th>\n",
       "      <th></th>\n",
       "      <th>Name</th>\n",
       "      <th>Quantity</th>\n",
       "      <th>Min</th>\n",
       "      <th>Max</th>\n",
       "      <th>Avg</th>\n",
       "      <th>pricetype</th>\n",
       "      <th>type</th>\n",
       "      <th>t_1</th>\n",
       "      <th>t_2</th>\n",
       "    </tr>\n",
       "    <tr>\n",
       "      <th>Name</th>\n",
       "      <th>type</th>\n",
       "      <th>cdate</th>\n",
       "      <th></th>\n",
       "      <th></th>\n",
       "      <th></th>\n",
       "      <th></th>\n",
       "      <th></th>\n",
       "      <th></th>\n",
       "      <th></th>\n",
       "      <th></th>\n",
       "      <th></th>\n",
       "    </tr>\n",
       "  </thead>\n",
       "  <tbody>\n",
       "    <tr>\n",
       "      <th rowspan=\"5\" valign=\"top\">अंगुर(कालो)</th>\n",
       "      <th rowspan=\"5\" valign=\"top\">0</th>\n",
       "      <th>2020-02-02</th>\n",
       "      <td>अंगुर(कालो)</td>\n",
       "      <td>केजी</td>\n",
       "      <td>२८०</td>\n",
       "      <td>३००</td>\n",
       "      <td>290.0</td>\n",
       "      <td>R</td>\n",
       "      <td>0.0</td>\n",
       "      <td>305.0</td>\n",
       "      <td>295.0</td>\n",
       "    </tr>\n",
       "    <tr>\n",
       "      <th>2020-02-03</th>\n",
       "      <td>अंगुर(कालो)</td>\n",
       "      <td>केजी</td>\n",
       "      <td>२८०</td>\n",
       "      <td>३००</td>\n",
       "      <td>290.0</td>\n",
       "      <td>R</td>\n",
       "      <td>0.0</td>\n",
       "      <td>290.0</td>\n",
       "      <td>305.0</td>\n",
       "    </tr>\n",
       "    <tr>\n",
       "      <th>2020-02-04</th>\n",
       "      <td>अंगुर(कालो)</td>\n",
       "      <td>केजी</td>\n",
       "      <td>२८०</td>\n",
       "      <td>३००</td>\n",
       "      <td>290.0</td>\n",
       "      <td>R</td>\n",
       "      <td>0.0</td>\n",
       "      <td>290.0</td>\n",
       "      <td>290.0</td>\n",
       "    </tr>\n",
       "    <tr>\n",
       "      <th>2020-02-05</th>\n",
       "      <td>अंगुर(कालो)</td>\n",
       "      <td>केजी</td>\n",
       "      <td>२८०</td>\n",
       "      <td>३००</td>\n",
       "      <td>290.0</td>\n",
       "      <td>R</td>\n",
       "      <td>0.0</td>\n",
       "      <td>290.0</td>\n",
       "      <td>290.0</td>\n",
       "    </tr>\n",
       "    <tr>\n",
       "      <th>2020-02-06</th>\n",
       "      <td>अंगुर(कालो)</td>\n",
       "      <td>केजी</td>\n",
       "      <td>२८०</td>\n",
       "      <td>३००</td>\n",
       "      <td>290.0</td>\n",
       "      <td>R</td>\n",
       "      <td>0.0</td>\n",
       "      <td>290.0</td>\n",
       "      <td>290.0</td>\n",
       "    </tr>\n",
       "    <tr>\n",
       "      <th>...</th>\n",
       "      <th>...</th>\n",
       "      <th>...</th>\n",
       "      <td>...</td>\n",
       "      <td>...</td>\n",
       "      <td>...</td>\n",
       "      <td>...</td>\n",
       "      <td>...</td>\n",
       "      <td>...</td>\n",
       "      <td>...</td>\n",
       "      <td>...</td>\n",
       "      <td>...</td>\n",
       "    </tr>\n",
       "    <tr>\n",
       "      <th rowspan=\"5\" valign=\"top\">हरियो फर्सी(डल्लो)</th>\n",
       "      <th rowspan=\"5\" valign=\"top\">1</th>\n",
       "      <th>2020-02-11</th>\n",
       "      <td>हरियो फर्सी(डल्लो)</td>\n",
       "      <td>केजी</td>\n",
       "      <td>३५</td>\n",
       "      <td>४०</td>\n",
       "      <td>38.0</td>\n",
       "      <td>W</td>\n",
       "      <td>1.0</td>\n",
       "      <td>38.0</td>\n",
       "      <td>38.0</td>\n",
       "    </tr>\n",
       "    <tr>\n",
       "      <th>2020-02-12</th>\n",
       "      <td>हरियो फर्सी(डल्लो)</td>\n",
       "      <td>केजी</td>\n",
       "      <td>३५</td>\n",
       "      <td>४०</td>\n",
       "      <td>38.0</td>\n",
       "      <td>W</td>\n",
       "      <td>1.0</td>\n",
       "      <td>38.0</td>\n",
       "      <td>38.0</td>\n",
       "    </tr>\n",
       "    <tr>\n",
       "      <th>2020-02-13</th>\n",
       "      <td>हरियो फर्सी(डल्लो)</td>\n",
       "      <td>केजी</td>\n",
       "      <td>५०</td>\n",
       "      <td>६०</td>\n",
       "      <td>55.0</td>\n",
       "      <td>W</td>\n",
       "      <td>1.0</td>\n",
       "      <td>38.0</td>\n",
       "      <td>38.0</td>\n",
       "    </tr>\n",
       "    <tr>\n",
       "      <th>2020-02-14</th>\n",
       "      <td>हरियो फर्सी(डल्लो)</td>\n",
       "      <td>केजी</td>\n",
       "      <td>३०</td>\n",
       "      <td>४०</td>\n",
       "      <td>35.0</td>\n",
       "      <td>W</td>\n",
       "      <td>1.0</td>\n",
       "      <td>55.0</td>\n",
       "      <td>38.0</td>\n",
       "    </tr>\n",
       "    <tr>\n",
       "      <th>2020-02-15</th>\n",
       "      <td>हरियो फर्सी(डल्लो)</td>\n",
       "      <td>केजी</td>\n",
       "      <td>४५</td>\n",
       "      <td>५०</td>\n",
       "      <td>48.0</td>\n",
       "      <td>W</td>\n",
       "      <td>1.0</td>\n",
       "      <td>35.0</td>\n",
       "      <td>55.0</td>\n",
       "    </tr>\n",
       "  </tbody>\n",
       "</table>\n",
       "<p>98822 rows × 9 columns</p>\n",
       "</div>"
      ],
      "text/plain": [
       "                                                  Name Quantity  Min  Max  \\\n",
       "Name               type cdate                                               \n",
       "अंगुर(कालो)        0    2020-02-02         अंगुर(कालो)     केजी  २८०  ३००   \n",
       "                        2020-02-03         अंगुर(कालो)     केजी  २८०  ३००   \n",
       "                        2020-02-04         अंगुर(कालो)     केजी  २८०  ३००   \n",
       "                        2020-02-05         अंगुर(कालो)     केजी  २८०  ३००   \n",
       "                        2020-02-06         अंगुर(कालो)     केजी  २८०  ३००   \n",
       "...                                                ...      ...  ...  ...   \n",
       "हरियो फर्सी(डल्लो) 1    2020-02-11  हरियो फर्सी(डल्लो)     केजी   ३५   ४०   \n",
       "                        2020-02-12  हरियो फर्सी(डल्लो)     केजी   ३५   ४०   \n",
       "                        2020-02-13  हरियो फर्सी(डल्लो)     केजी   ५०   ६०   \n",
       "                        2020-02-14  हरियो फर्सी(डल्लो)     केजी   ३०   ४०   \n",
       "                        2020-02-15  हरियो फर्सी(डल्लो)     केजी   ४५   ५०   \n",
       "\n",
       "                                      Avg pricetype  type    t_1    t_2  \n",
       "Name               type cdate                                            \n",
       "अंगुर(कालो)        0    2020-02-02  290.0         R   0.0  305.0  295.0  \n",
       "                        2020-02-03  290.0         R   0.0  290.0  305.0  \n",
       "                        2020-02-04  290.0         R   0.0  290.0  290.0  \n",
       "                        2020-02-05  290.0         R   0.0  290.0  290.0  \n",
       "                        2020-02-06  290.0         R   0.0  290.0  290.0  \n",
       "...                                   ...       ...   ...    ...    ...  \n",
       "हरियो फर्सी(डल्लो) 1    2020-02-11   38.0         W   1.0   38.0   38.0  \n",
       "                        2020-02-12   38.0         W   1.0   38.0   38.0  \n",
       "                        2020-02-13   55.0         W   1.0   38.0   38.0  \n",
       "                        2020-02-14   35.0         W   1.0   55.0   38.0  \n",
       "                        2020-02-15   48.0         W   1.0   35.0   55.0  \n",
       "\n",
       "[98822 rows x 9 columns]"
      ]
     },
     "execution_count": 13,
     "metadata": {},
     "output_type": "execute_result"
    }
   ],
   "source": [
    "new_df.dropna(inplace=True)\n",
    "new_df"
   ]
  },
  {
   "cell_type": "code",
   "execution_count": 14,
   "metadata": {},
   "outputs": [],
   "source": [
    "#7 days average\n",
    "\n",
    "new1_df=new_df.groupby(level=0)['Avg'].apply(lambda x: x.shift().rolling(min_periods=1, window=7).mean()).reset_index(name='Avg_7days')\n",
    "# new1_df"
   ]
  },
  {
   "cell_type": "code",
   "execution_count": 15,
   "metadata": {},
   "outputs": [
    {
     "data": {
      "text/html": [
       "<div>\n",
       "<style scoped>\n",
       "    .dataframe tbody tr th:only-of-type {\n",
       "        vertical-align: middle;\n",
       "    }\n",
       "\n",
       "    .dataframe tbody tr th {\n",
       "        vertical-align: top;\n",
       "    }\n",
       "\n",
       "    .dataframe thead th {\n",
       "        text-align: right;\n",
       "    }\n",
       "</style>\n",
       "<table border=\"1\" class=\"dataframe\">\n",
       "  <thead>\n",
       "    <tr style=\"text-align: right;\">\n",
       "      <th></th>\n",
       "      <th>Name</th>\n",
       "      <th>type</th>\n",
       "      <th>cdate</th>\n",
       "      <th>Avg_7days</th>\n",
       "    </tr>\n",
       "  </thead>\n",
       "  <tbody>\n",
       "    <tr>\n",
       "      <th>1</th>\n",
       "      <td>अंगुर(कालो)</td>\n",
       "      <td>0</td>\n",
       "      <td>2020-02-03</td>\n",
       "      <td>290.000000</td>\n",
       "    </tr>\n",
       "    <tr>\n",
       "      <th>2</th>\n",
       "      <td>अंगुर(कालो)</td>\n",
       "      <td>0</td>\n",
       "      <td>2020-02-04</td>\n",
       "      <td>290.000000</td>\n",
       "    </tr>\n",
       "    <tr>\n",
       "      <th>3</th>\n",
       "      <td>अंगुर(कालो)</td>\n",
       "      <td>0</td>\n",
       "      <td>2020-02-05</td>\n",
       "      <td>290.000000</td>\n",
       "    </tr>\n",
       "    <tr>\n",
       "      <th>4</th>\n",
       "      <td>अंगुर(कालो)</td>\n",
       "      <td>0</td>\n",
       "      <td>2020-02-06</td>\n",
       "      <td>290.000000</td>\n",
       "    </tr>\n",
       "    <tr>\n",
       "      <th>5</th>\n",
       "      <td>अंगुर(कालो)</td>\n",
       "      <td>0</td>\n",
       "      <td>2020-02-07</td>\n",
       "      <td>290.000000</td>\n",
       "    </tr>\n",
       "    <tr>\n",
       "      <th>...</th>\n",
       "      <td>...</td>\n",
       "      <td>...</td>\n",
       "      <td>...</td>\n",
       "      <td>...</td>\n",
       "    </tr>\n",
       "    <tr>\n",
       "      <th>98817</th>\n",
       "      <td>हरियो फर्सी(डल्लो)</td>\n",
       "      <td>1</td>\n",
       "      <td>2020-02-11</td>\n",
       "      <td>40.142857</td>\n",
       "    </tr>\n",
       "    <tr>\n",
       "      <th>98818</th>\n",
       "      <td>हरियो फर्सी(डल्लो)</td>\n",
       "      <td>1</td>\n",
       "      <td>2020-02-12</td>\n",
       "      <td>39.142857</td>\n",
       "    </tr>\n",
       "    <tr>\n",
       "      <th>98819</th>\n",
       "      <td>हरियो फर्सी(डल्लो)</td>\n",
       "      <td>1</td>\n",
       "      <td>2020-02-13</td>\n",
       "      <td>38.571429</td>\n",
       "    </tr>\n",
       "    <tr>\n",
       "      <th>98820</th>\n",
       "      <td>हरियो फर्सी(डल्लो)</td>\n",
       "      <td>1</td>\n",
       "      <td>2020-02-14</td>\n",
       "      <td>40.000000</td>\n",
       "    </tr>\n",
       "    <tr>\n",
       "      <th>98821</th>\n",
       "      <td>हरियो फर्सी(डल्लो)</td>\n",
       "      <td>1</td>\n",
       "      <td>2020-02-15</td>\n",
       "      <td>39.571429</td>\n",
       "    </tr>\n",
       "  </tbody>\n",
       "</table>\n",
       "<p>98702 rows × 4 columns</p>\n",
       "</div>"
      ],
      "text/plain": [
       "                     Name  type      cdate   Avg_7days\n",
       "1             अंगुर(कालो)     0 2020-02-03  290.000000\n",
       "2             अंगुर(कालो)     0 2020-02-04  290.000000\n",
       "3             अंगुर(कालो)     0 2020-02-05  290.000000\n",
       "4             अंगुर(कालो)     0 2020-02-06  290.000000\n",
       "5             अंगुर(कालो)     0 2020-02-07  290.000000\n",
       "...                   ...   ...        ...         ...\n",
       "98817  हरियो फर्सी(डल्लो)     1 2020-02-11   40.142857\n",
       "98818  हरियो फर्सी(डल्लो)     1 2020-02-12   39.142857\n",
       "98819  हरियो फर्सी(डल्लो)     1 2020-02-13   38.571429\n",
       "98820  हरियो फर्सी(डल्लो)     1 2020-02-14   40.000000\n",
       "98821  हरियो फर्सी(डल्लो)     1 2020-02-15   39.571429\n",
       "\n",
       "[98702 rows x 4 columns]"
      ]
     },
     "execution_count": 15,
     "metadata": {},
     "output_type": "execute_result"
    }
   ],
   "source": [
    "new1_df.dropna(inplace=True)\n",
    "new1_df"
   ]
  },
  {
   "cell_type": "code",
   "execution_count": 16,
   "metadata": {},
   "outputs": [
    {
     "data": {
      "text/plain": [
       "काउली स्थानिय      1431\n",
       "भुर्इ कटहर         1431\n",
       "मूला सेतो(लोकल)    1431\n",
       "केरा               1431\n",
       "अदुवा              1431\n",
       "                   ... \n",
       "अम्बा                39\n",
       "सजिवन                27\n",
       "अंगुर(कालो)          27\n",
       "लीच्ची(भारतीय)       23\n",
       "परवर(तराई)           11\n",
       "Name: Name, Length: 120, dtype: int64"
      ]
     },
     "execution_count": 16,
     "metadata": {},
     "output_type": "execute_result"
    }
   ],
   "source": [
    "new1_df['Name'].value_counts()"
   ]
  },
  {
   "cell_type": "code",
   "execution_count": 17,
   "metadata": {},
   "outputs": [
    {
     "data": {
      "text/html": [
       "<div>\n",
       "<style scoped>\n",
       "    .dataframe tbody tr th:only-of-type {\n",
       "        vertical-align: middle;\n",
       "    }\n",
       "\n",
       "    .dataframe tbody tr th {\n",
       "        vertical-align: top;\n",
       "    }\n",
       "\n",
       "    .dataframe thead th {\n",
       "        text-align: right;\n",
       "    }\n",
       "</style>\n",
       "<table border=\"1\" class=\"dataframe\">\n",
       "  <thead>\n",
       "    <tr style=\"text-align: right;\">\n",
       "      <th></th>\n",
       "      <th>Name</th>\n",
       "      <th>type</th>\n",
       "      <th>cdate</th>\n",
       "      <th>Avg_7days</th>\n",
       "      <th>Quantity</th>\n",
       "      <th>Min</th>\n",
       "      <th>Max</th>\n",
       "      <th>Avg</th>\n",
       "      <th>pricetype</th>\n",
       "      <th>t_1</th>\n",
       "      <th>t_2</th>\n",
       "    </tr>\n",
       "  </thead>\n",
       "  <tbody>\n",
       "    <tr>\n",
       "      <th>0</th>\n",
       "      <td>अंगुर(कालो)</td>\n",
       "      <td>0</td>\n",
       "      <td>2020-02-03</td>\n",
       "      <td>290.000000</td>\n",
       "      <td>केजी</td>\n",
       "      <td>२८०</td>\n",
       "      <td>३००</td>\n",
       "      <td>290</td>\n",
       "      <td>R</td>\n",
       "      <td>290.0</td>\n",
       "      <td>305.0</td>\n",
       "    </tr>\n",
       "    <tr>\n",
       "      <th>1</th>\n",
       "      <td>अंगुर(कालो)</td>\n",
       "      <td>0</td>\n",
       "      <td>2020-02-04</td>\n",
       "      <td>290.000000</td>\n",
       "      <td>केजी</td>\n",
       "      <td>२८०</td>\n",
       "      <td>३००</td>\n",
       "      <td>290</td>\n",
       "      <td>R</td>\n",
       "      <td>290.0</td>\n",
       "      <td>290.0</td>\n",
       "    </tr>\n",
       "    <tr>\n",
       "      <th>2</th>\n",
       "      <td>अंगुर(कालो)</td>\n",
       "      <td>0</td>\n",
       "      <td>2020-02-05</td>\n",
       "      <td>290.000000</td>\n",
       "      <td>केजी</td>\n",
       "      <td>२८०</td>\n",
       "      <td>३००</td>\n",
       "      <td>290</td>\n",
       "      <td>R</td>\n",
       "      <td>290.0</td>\n",
       "      <td>290.0</td>\n",
       "    </tr>\n",
       "    <tr>\n",
       "      <th>3</th>\n",
       "      <td>अंगुर(कालो)</td>\n",
       "      <td>0</td>\n",
       "      <td>2020-02-06</td>\n",
       "      <td>290.000000</td>\n",
       "      <td>केजी</td>\n",
       "      <td>२८०</td>\n",
       "      <td>३००</td>\n",
       "      <td>290</td>\n",
       "      <td>R</td>\n",
       "      <td>290.0</td>\n",
       "      <td>290.0</td>\n",
       "    </tr>\n",
       "    <tr>\n",
       "      <th>4</th>\n",
       "      <td>अंगुर(कालो)</td>\n",
       "      <td>0</td>\n",
       "      <td>2020-02-07</td>\n",
       "      <td>290.000000</td>\n",
       "      <td>केजी</td>\n",
       "      <td>२८०</td>\n",
       "      <td>३००</td>\n",
       "      <td>290</td>\n",
       "      <td>R</td>\n",
       "      <td>290.0</td>\n",
       "      <td>290.0</td>\n",
       "    </tr>\n",
       "    <tr>\n",
       "      <th>...</th>\n",
       "      <td>...</td>\n",
       "      <td>...</td>\n",
       "      <td>...</td>\n",
       "      <td>...</td>\n",
       "      <td>...</td>\n",
       "      <td>...</td>\n",
       "      <td>...</td>\n",
       "      <td>...</td>\n",
       "      <td>...</td>\n",
       "      <td>...</td>\n",
       "      <td>...</td>\n",
       "    </tr>\n",
       "    <tr>\n",
       "      <th>98697</th>\n",
       "      <td>हरियो फर्सी(डल्लो)</td>\n",
       "      <td>1</td>\n",
       "      <td>2020-02-11</td>\n",
       "      <td>40.142857</td>\n",
       "      <td>केजी</td>\n",
       "      <td>३५</td>\n",
       "      <td>४०</td>\n",
       "      <td>38</td>\n",
       "      <td>W</td>\n",
       "      <td>38.0</td>\n",
       "      <td>38.0</td>\n",
       "    </tr>\n",
       "    <tr>\n",
       "      <th>98698</th>\n",
       "      <td>हरियो फर्सी(डल्लो)</td>\n",
       "      <td>1</td>\n",
       "      <td>2020-02-12</td>\n",
       "      <td>39.142857</td>\n",
       "      <td>केजी</td>\n",
       "      <td>३५</td>\n",
       "      <td>४०</td>\n",
       "      <td>38</td>\n",
       "      <td>W</td>\n",
       "      <td>38.0</td>\n",
       "      <td>38.0</td>\n",
       "    </tr>\n",
       "    <tr>\n",
       "      <th>98699</th>\n",
       "      <td>हरियो फर्सी(डल्लो)</td>\n",
       "      <td>1</td>\n",
       "      <td>2020-02-13</td>\n",
       "      <td>38.571429</td>\n",
       "      <td>केजी</td>\n",
       "      <td>५०</td>\n",
       "      <td>६०</td>\n",
       "      <td>55</td>\n",
       "      <td>W</td>\n",
       "      <td>38.0</td>\n",
       "      <td>38.0</td>\n",
       "    </tr>\n",
       "    <tr>\n",
       "      <th>98700</th>\n",
       "      <td>हरियो फर्सी(डल्लो)</td>\n",
       "      <td>1</td>\n",
       "      <td>2020-02-14</td>\n",
       "      <td>40.000000</td>\n",
       "      <td>केजी</td>\n",
       "      <td>३०</td>\n",
       "      <td>४०</td>\n",
       "      <td>35</td>\n",
       "      <td>W</td>\n",
       "      <td>55.0</td>\n",
       "      <td>38.0</td>\n",
       "    </tr>\n",
       "    <tr>\n",
       "      <th>98701</th>\n",
       "      <td>हरियो फर्सी(डल्लो)</td>\n",
       "      <td>1</td>\n",
       "      <td>2020-02-15</td>\n",
       "      <td>39.571429</td>\n",
       "      <td>केजी</td>\n",
       "      <td>४५</td>\n",
       "      <td>५०</td>\n",
       "      <td>48</td>\n",
       "      <td>W</td>\n",
       "      <td>35.0</td>\n",
       "      <td>55.0</td>\n",
       "    </tr>\n",
       "  </tbody>\n",
       "</table>\n",
       "<p>98702 rows × 11 columns</p>\n",
       "</div>"
      ],
      "text/plain": [
       "                     Name  type      cdate   Avg_7days Quantity  Min  Max  \\\n",
       "0             अंगुर(कालो)     0 2020-02-03  290.000000     केजी  २८०  ३००   \n",
       "1             अंगुर(कालो)     0 2020-02-04  290.000000     केजी  २८०  ३००   \n",
       "2             अंगुर(कालो)     0 2020-02-05  290.000000     केजी  २८०  ३००   \n",
       "3             अंगुर(कालो)     0 2020-02-06  290.000000     केजी  २८०  ३००   \n",
       "4             अंगुर(कालो)     0 2020-02-07  290.000000     केजी  २८०  ३००   \n",
       "...                   ...   ...        ...         ...      ...  ...  ...   \n",
       "98697  हरियो फर्सी(डल्लो)     1 2020-02-11   40.142857     केजी   ३५   ४०   \n",
       "98698  हरियो फर्सी(डल्लो)     1 2020-02-12   39.142857     केजी   ३५   ४०   \n",
       "98699  हरियो फर्सी(डल्लो)     1 2020-02-13   38.571429     केजी   ५०   ६०   \n",
       "98700  हरियो फर्सी(डल्लो)     1 2020-02-14   40.000000     केजी   ३०   ४०   \n",
       "98701  हरियो फर्सी(डल्लो)     1 2020-02-15   39.571429     केजी   ४५   ५०   \n",
       "\n",
       "       Avg pricetype    t_1    t_2  \n",
       "0      290         R  290.0  305.0  \n",
       "1      290         R  290.0  290.0  \n",
       "2      290         R  290.0  290.0  \n",
       "3      290         R  290.0  290.0  \n",
       "4      290         R  290.0  290.0  \n",
       "...    ...       ...    ...    ...  \n",
       "98697   38         W   38.0   38.0  \n",
       "98698   38         W   38.0   38.0  \n",
       "98699   55         W   38.0   38.0  \n",
       "98700   35         W   55.0   38.0  \n",
       "98701   48         W   35.0   55.0  \n",
       "\n",
       "[98702 rows x 11 columns]"
      ]
     },
     "execution_count": 17,
     "metadata": {},
     "output_type": "execute_result"
    }
   ],
   "source": [
    "final_df=new1_df.merge(feature_df,on=['Name','cdate','type'])\n",
    "final_df"
   ]
  },
  {
   "cell_type": "code",
   "execution_count": 18,
   "metadata": {},
   "outputs": [
    {
     "data": {
      "text/html": [
       "<div>\n",
       "<style scoped>\n",
       "    .dataframe tbody tr th:only-of-type {\n",
       "        vertical-align: middle;\n",
       "    }\n",
       "\n",
       "    .dataframe tbody tr th {\n",
       "        vertical-align: top;\n",
       "    }\n",
       "\n",
       "    .dataframe thead th {\n",
       "        text-align: right;\n",
       "    }\n",
       "</style>\n",
       "<table border=\"1\" class=\"dataframe\">\n",
       "  <thead>\n",
       "    <tr style=\"text-align: right;\">\n",
       "      <th></th>\n",
       "      <th>Name</th>\n",
       "      <th>type</th>\n",
       "      <th>cdate</th>\n",
       "      <th>Avg_7days</th>\n",
       "      <th>Quantity</th>\n",
       "      <th>Min</th>\n",
       "      <th>Max</th>\n",
       "      <th>Avg</th>\n",
       "      <th>pricetype</th>\n",
       "      <th>t_1</th>\n",
       "      <th>t_2</th>\n",
       "    </tr>\n",
       "  </thead>\n",
       "  <tbody>\n",
       "    <tr>\n",
       "      <th>0</th>\n",
       "      <td>अंगुर(कालो)</td>\n",
       "      <td>0</td>\n",
       "      <td>2020-02-03</td>\n",
       "      <td>290.000000</td>\n",
       "      <td>केजी</td>\n",
       "      <td>२८०</td>\n",
       "      <td>३००</td>\n",
       "      <td>290</td>\n",
       "      <td>R</td>\n",
       "      <td>290.0</td>\n",
       "      <td>305.0</td>\n",
       "    </tr>\n",
       "    <tr>\n",
       "      <th>1</th>\n",
       "      <td>अंगुर(कालो)</td>\n",
       "      <td>0</td>\n",
       "      <td>2020-02-04</td>\n",
       "      <td>290.000000</td>\n",
       "      <td>केजी</td>\n",
       "      <td>२८०</td>\n",
       "      <td>३००</td>\n",
       "      <td>290</td>\n",
       "      <td>R</td>\n",
       "      <td>290.0</td>\n",
       "      <td>290.0</td>\n",
       "    </tr>\n",
       "    <tr>\n",
       "      <th>2</th>\n",
       "      <td>अंगुर(कालो)</td>\n",
       "      <td>0</td>\n",
       "      <td>2020-02-05</td>\n",
       "      <td>290.000000</td>\n",
       "      <td>केजी</td>\n",
       "      <td>२८०</td>\n",
       "      <td>३००</td>\n",
       "      <td>290</td>\n",
       "      <td>R</td>\n",
       "      <td>290.0</td>\n",
       "      <td>290.0</td>\n",
       "    </tr>\n",
       "    <tr>\n",
       "      <th>3</th>\n",
       "      <td>अंगुर(कालो)</td>\n",
       "      <td>0</td>\n",
       "      <td>2020-02-06</td>\n",
       "      <td>290.000000</td>\n",
       "      <td>केजी</td>\n",
       "      <td>२८०</td>\n",
       "      <td>३००</td>\n",
       "      <td>290</td>\n",
       "      <td>R</td>\n",
       "      <td>290.0</td>\n",
       "      <td>290.0</td>\n",
       "    </tr>\n",
       "    <tr>\n",
       "      <th>4</th>\n",
       "      <td>अंगुर(कालो)</td>\n",
       "      <td>0</td>\n",
       "      <td>2020-02-07</td>\n",
       "      <td>290.000000</td>\n",
       "      <td>केजी</td>\n",
       "      <td>२८०</td>\n",
       "      <td>३००</td>\n",
       "      <td>290</td>\n",
       "      <td>R</td>\n",
       "      <td>290.0</td>\n",
       "      <td>290.0</td>\n",
       "    </tr>\n",
       "    <tr>\n",
       "      <th>...</th>\n",
       "      <td>...</td>\n",
       "      <td>...</td>\n",
       "      <td>...</td>\n",
       "      <td>...</td>\n",
       "      <td>...</td>\n",
       "      <td>...</td>\n",
       "      <td>...</td>\n",
       "      <td>...</td>\n",
       "      <td>...</td>\n",
       "      <td>...</td>\n",
       "      <td>...</td>\n",
       "    </tr>\n",
       "    <tr>\n",
       "      <th>98697</th>\n",
       "      <td>हरियो फर्सी(डल्लो)</td>\n",
       "      <td>1</td>\n",
       "      <td>2020-02-11</td>\n",
       "      <td>40.142857</td>\n",
       "      <td>केजी</td>\n",
       "      <td>३५</td>\n",
       "      <td>४०</td>\n",
       "      <td>38</td>\n",
       "      <td>W</td>\n",
       "      <td>38.0</td>\n",
       "      <td>38.0</td>\n",
       "    </tr>\n",
       "    <tr>\n",
       "      <th>98698</th>\n",
       "      <td>हरियो फर्सी(डल्लो)</td>\n",
       "      <td>1</td>\n",
       "      <td>2020-02-12</td>\n",
       "      <td>39.142857</td>\n",
       "      <td>केजी</td>\n",
       "      <td>३५</td>\n",
       "      <td>४०</td>\n",
       "      <td>38</td>\n",
       "      <td>W</td>\n",
       "      <td>38.0</td>\n",
       "      <td>38.0</td>\n",
       "    </tr>\n",
       "    <tr>\n",
       "      <th>98699</th>\n",
       "      <td>हरियो फर्सी(डल्लो)</td>\n",
       "      <td>1</td>\n",
       "      <td>2020-02-13</td>\n",
       "      <td>38.571429</td>\n",
       "      <td>केजी</td>\n",
       "      <td>५०</td>\n",
       "      <td>६०</td>\n",
       "      <td>55</td>\n",
       "      <td>W</td>\n",
       "      <td>38.0</td>\n",
       "      <td>38.0</td>\n",
       "    </tr>\n",
       "    <tr>\n",
       "      <th>98700</th>\n",
       "      <td>हरियो फर्सी(डल्लो)</td>\n",
       "      <td>1</td>\n",
       "      <td>2020-02-14</td>\n",
       "      <td>40.000000</td>\n",
       "      <td>केजी</td>\n",
       "      <td>३०</td>\n",
       "      <td>४०</td>\n",
       "      <td>35</td>\n",
       "      <td>W</td>\n",
       "      <td>55.0</td>\n",
       "      <td>38.0</td>\n",
       "    </tr>\n",
       "    <tr>\n",
       "      <th>98701</th>\n",
       "      <td>हरियो फर्सी(डल्लो)</td>\n",
       "      <td>1</td>\n",
       "      <td>2020-02-15</td>\n",
       "      <td>39.571429</td>\n",
       "      <td>केजी</td>\n",
       "      <td>४५</td>\n",
       "      <td>५०</td>\n",
       "      <td>48</td>\n",
       "      <td>W</td>\n",
       "      <td>35.0</td>\n",
       "      <td>55.0</td>\n",
       "    </tr>\n",
       "  </tbody>\n",
       "</table>\n",
       "<p>98702 rows × 11 columns</p>\n",
       "</div>"
      ],
      "text/plain": [
       "                     Name  type      cdate   Avg_7days Quantity  Min  Max  \\\n",
       "0             अंगुर(कालो)     0 2020-02-03  290.000000     केजी  २८०  ३००   \n",
       "1             अंगुर(कालो)     0 2020-02-04  290.000000     केजी  २८०  ३००   \n",
       "2             अंगुर(कालो)     0 2020-02-05  290.000000     केजी  २८०  ३००   \n",
       "3             अंगुर(कालो)     0 2020-02-06  290.000000     केजी  २८०  ३००   \n",
       "4             अंगुर(कालो)     0 2020-02-07  290.000000     केजी  २८०  ३००   \n",
       "...                   ...   ...        ...         ...      ...  ...  ...   \n",
       "98697  हरियो फर्सी(डल्लो)     1 2020-02-11   40.142857     केजी   ३५   ४०   \n",
       "98698  हरियो फर्सी(डल्लो)     1 2020-02-12   39.142857     केजी   ३५   ४०   \n",
       "98699  हरियो फर्सी(डल्लो)     1 2020-02-13   38.571429     केजी   ५०   ६०   \n",
       "98700  हरियो फर्सी(डल्लो)     1 2020-02-14   40.000000     केजी   ३०   ४०   \n",
       "98701  हरियो फर्सी(डल्लो)     1 2020-02-15   39.571429     केजी   ४५   ५०   \n",
       "\n",
       "       Avg pricetype    t_1    t_2  \n",
       "0      290         R  290.0  305.0  \n",
       "1      290         R  290.0  290.0  \n",
       "2      290         R  290.0  290.0  \n",
       "3      290         R  290.0  290.0  \n",
       "4      290         R  290.0  290.0  \n",
       "...    ...       ...    ...    ...  \n",
       "98697   38         W   38.0   38.0  \n",
       "98698   38         W   38.0   38.0  \n",
       "98699   55         W   38.0   38.0  \n",
       "98700   35         W   55.0   38.0  \n",
       "98701   48         W   35.0   55.0  \n",
       "\n",
       "[98702 rows x 11 columns]"
      ]
     },
     "execution_count": 18,
     "metadata": {},
     "output_type": "execute_result"
    }
   ],
   "source": [
    "final_df.dropna(inplace=True)\n",
    "final_df"
   ]
  },
  {
   "cell_type": "code",
   "execution_count": 19,
   "metadata": {},
   "outputs": [
    {
     "name": "stdout",
     "output_type": "stream",
     "text": [
      "98822\n",
      "98702\n",
      "98822\n",
      "98702\n"
     ]
    }
   ],
   "source": [
    "print(len(new_df))\n",
    "print(len(new1_df))\n",
    "print(len(feature_df_edit))\n",
    "print(len(final_df))\n",
    "\n",
    "feature_df=final_df"
   ]
  },
  {
   "cell_type": "code",
   "execution_count": null,
   "metadata": {},
   "outputs": [],
   "source": []
  },
  {
   "cell_type": "code",
   "execution_count": 20,
   "metadata": {
    "colab": {},
    "colab_type": "code",
    "id": "S5jTjqTmZM64"
   },
   "outputs": [],
   "source": [
    "feature_df = feature_df.sample(frac = 1, random_state= 1)"
   ]
  },
  {
   "cell_type": "code",
   "execution_count": 21,
   "metadata": {
    "colab": {
     "base_uri": "https://localhost:8080/",
     "height": 136
    },
    "colab_type": "code",
    "id": "GyiYVQbmZRvx",
    "outputId": "f4d8bd79-00a0-4e22-ef60-4d8156571434"
   },
   "outputs": [
    {
     "data": {
      "text/plain": [
       "array([[  1.        , 145.        , 145.        , 140.71428571],\n",
       "       [  0.        , 145.        , 145.        , 145.        ],\n",
       "       [  0.        , 390.        , 390.        , 390.        ],\n",
       "       ...,\n",
       "       [  0.        ,  55.        ,  55.        ,  55.        ],\n",
       "       [  0.        , 115.        , 135.        ,  96.42857143],\n",
       "       [  1.        ,  38.        ,  45.        ,  45.28571429]])"
      ]
     },
     "execution_count": 21,
     "metadata": {},
     "output_type": "execute_result"
    }
   ],
   "source": [
    "X = feature_df[['type','t_1', 't_2','Avg_7days']].values #getting feature matrix\n",
    "X"
   ]
  },
  {
   "cell_type": "code",
   "execution_count": 22,
   "metadata": {
    "colab": {
     "base_uri": "https://localhost:8080/",
     "height": 34
    },
    "colab_type": "code",
    "id": "sRjQqBGBZUHV",
    "outputId": "52766c5a-4d3a-4fca-f6e2-2b0fc9e663f4"
   },
   "outputs": [
    {
     "data": {
      "text/plain": [
       "(98702, 4)"
      ]
     },
     "execution_count": 22,
     "metadata": {},
     "output_type": "execute_result"
    }
   ],
   "source": [
    "X.shape"
   ]
  },
  {
   "cell_type": "code",
   "execution_count": 23,
   "metadata": {
    "colab": {
     "base_uri": "https://localhost:8080/",
     "height": 136
    },
    "colab_type": "code",
    "id": "ljJxAmmsZYLV",
    "outputId": "017e69a5-f96b-4c0a-d2de-7454b40212d0"
   },
   "outputs": [
    {
     "data": {
      "text/plain": [
       "array([[  1.        ,   1.        , 145.        , 145.        ,\n",
       "        140.71428571],\n",
       "       [  1.        ,   0.        , 145.        , 145.        ,\n",
       "        145.        ],\n",
       "       [  1.        ,   0.        , 390.        , 390.        ,\n",
       "        390.        ],\n",
       "       ...,\n",
       "       [  1.        ,   0.        ,  55.        ,  55.        ,\n",
       "         55.        ],\n",
       "       [  1.        ,   0.        , 115.        , 135.        ,\n",
       "         96.42857143],\n",
       "       [  1.        ,   1.        ,  38.        ,  45.        ,\n",
       "         45.28571429]])"
      ]
     },
     "execution_count": 23,
     "metadata": {},
     "output_type": "execute_result"
    }
   ],
   "source": [
    "X = np.insert(X, 0, values=1, axis = 1) #adding bias or intercept term\n",
    "X"
   ]
  },
  {
   "cell_type": "code",
   "execution_count": 24,
   "metadata": {
    "colab": {
     "base_uri": "https://localhost:8080/",
     "height": 34
    },
    "colab_type": "code",
    "id": "4vVmpJzEZauO",
    "outputId": "afade871-cc19-4bc6-af28-dc6098905336"
   },
   "outputs": [
    {
     "name": "stdout",
     "output_type": "stream",
     "text": [
      "(98702,)\n"
     ]
    }
   ],
   "source": [
    "y = feature_df['Avg'].values\n",
    "print(y.shape)"
   ]
  },
  {
   "cell_type": "markdown",
   "metadata": {
    "colab_type": "text",
    "id": "m4PLkvQuZian"
   },
   "source": [
    "## Dividing into train, test and validation datas\n",
    "\n",
    "### 60% Train 20% Validation and Test each"
   ]
  },
  {
   "cell_type": "code",
   "execution_count": 25,
   "metadata": {
    "colab": {
     "base_uri": "https://localhost:8080/",
     "height": 34
    },
    "colab_type": "code",
    "id": "rvzBjNt-HZUi",
    "outputId": "f29a739f-28ff-4a87-bec8-0057bf0a53ae"
   },
   "outputs": [
    {
     "name": "stdout",
     "output_type": "stream",
     "text": [
      "59221 19740 19741\n"
     ]
    }
   ],
   "source": [
    "total = len(X)\n",
    "train = int(0.6 * total)\n",
    "val = int(0.2*total)\n",
    "\n",
    "X_train = X[:train]\n",
    "y_train = y[:train].reshape(-1,1)\n",
    "\n",
    "X_val = X[train:train + val]\n",
    "y_val = y[train:train +val].reshape(-1,1)\n",
    "\n",
    "X_test = X[train + val:]\n",
    "y_test = y[train + val:].reshape(-1,1)\n",
    "\n",
    "print(len(X_train), len(X_val),len(X_test))"
   ]
  },
  {
   "cell_type": "markdown",
   "metadata": {
    "colab_type": "text",
    "id": "mI2PNPFyZwo4"
   },
   "source": [
    "### Normalization\n",
    "####  Min-max"
   ]
  },
  {
   "cell_type": "code",
   "execution_count": 26,
   "metadata": {
    "colab": {
     "base_uri": "https://localhost:8080/",
     "height": 136
    },
    "colab_type": "code",
    "id": "gFwElWdnZdvH",
    "outputId": "ca570893-f1df-4a5f-c265-a0f6628e8260"
   },
   "outputs": [
    {
     "data": {
      "text/plain": [
       "array([[  1.        ,   1.        , 145.        , 145.        ,\n",
       "        140.71428571],\n",
       "       [  1.        ,   0.        , 145.        , 145.        ,\n",
       "        145.        ],\n",
       "       [  1.        ,   0.        , 390.        , 390.        ,\n",
       "        390.        ],\n",
       "       ...,\n",
       "       [  1.        ,   1.        , 105.        , 105.        ,\n",
       "         86.28571429],\n",
       "       [  1.        ,   1.        , 125.        , 125.        ,\n",
       "        125.        ],\n",
       "       [  1.        ,   0.        , 190.        , 190.        ,\n",
       "        190.        ]])"
      ]
     },
     "execution_count": 26,
     "metadata": {},
     "output_type": "execute_result"
    }
   ],
   "source": [
    "#To cope with convergence problem during gradient descent, we take all our features into same range. \n",
    "X_train "
   ]
  },
  {
   "cell_type": "code",
   "execution_count": 27,
   "metadata": {
    "colab": {},
    "colab_type": "code",
    "id": "xlV3A01jZ3la"
   },
   "outputs": [],
   "source": [
    "price_X = X_train[:, 1:]\n",
    "\n",
    "min_v = np.min(price_X)\n",
    "max_v = np.max(price_X)\n",
    "diff = max_v - min_v"
   ]
  },
  {
   "cell_type": "code",
   "execution_count": 28,
   "metadata": {},
   "outputs": [
    {
     "data": {
      "text/plain": [
       "array([[  1.        , 145.        , 145.        , 140.71428571],\n",
       "       [  0.        , 145.        , 145.        , 145.        ],\n",
       "       [  0.        , 390.        , 390.        , 390.        ],\n",
       "       ...,\n",
       "       [  1.        , 105.        , 105.        ,  86.28571429],\n",
       "       [  1.        , 125.        , 125.        , 125.        ],\n",
       "       [  0.        , 190.        , 190.        , 190.        ]])"
      ]
     },
     "execution_count": 28,
     "metadata": {},
     "output_type": "execute_result"
    }
   ],
   "source": [
    "price_X"
   ]
  },
  {
   "cell_type": "code",
   "execution_count": 29,
   "metadata": {
    "colab": {},
    "colab_type": "code",
    "id": "H8mU0YApZ6aa"
   },
   "outputs": [],
   "source": [
    "def min_max_normalization(dataset):\n",
    "    for i in range(0, dataset.shape[0]):\n",
    "        for j in range(0, dataset.shape[1]):\n",
    "            dataset[i][j] = (dataset[i][j]-min_v)/diff\n",
    "\n",
    "min_max_normalization(X_train)\n",
    "min_max_normalization(X_val)\n",
    "min_max_normalization(X_test)"
   ]
  },
  {
   "cell_type": "code",
   "execution_count": 30,
   "metadata": {
    "colab": {
     "base_uri": "https://localhost:8080/",
     "height": 136
    },
    "colab_type": "code",
    "id": "ZNDYPKtMxpIe",
    "outputId": "182896f1-0c02-4823-de5e-f2ca474c9322"
   },
   "outputs": [
    {
     "data": {
      "text/plain": [
       "array([[0.00061538, 0.00061538, 0.08923077, 0.08923077, 0.08659341],\n",
       "       [0.00061538, 0.        , 0.08923077, 0.08923077, 0.08923077],\n",
       "       [0.00061538, 0.        , 0.24      , 0.24      , 0.24      ],\n",
       "       ...,\n",
       "       [0.00061538, 0.00061538, 0.06461538, 0.06461538, 0.0530989 ],\n",
       "       [0.00061538, 0.00061538, 0.07692308, 0.07692308, 0.07692308],\n",
       "       [0.00061538, 0.        , 0.11692308, 0.11692308, 0.11692308]])"
      ]
     },
     "execution_count": 30,
     "metadata": {},
     "output_type": "execute_result"
    }
   ],
   "source": [
    "X_train"
   ]
  },
  {
   "cell_type": "code",
   "execution_count": 31,
   "metadata": {
    "colab": {
     "base_uri": "https://localhost:8080/",
     "height": 119
    },
    "colab_type": "code",
    "id": "7ccoH_QG_RBV",
    "outputId": "7734c955-d3db-44a5-fb2b-e83164f1d48e"
   },
   "outputs": [
    {
     "name": "stdout",
     "output_type": "stream",
     "text": [
      "(59221, 5)\n",
      "(59221, 1)\n",
      "(19740, 5)\n",
      "(19740, 1)\n",
      "(19741, 5)\n",
      "(19741, 1)\n"
     ]
    }
   ],
   "source": [
    "print(X_train.shape)\n",
    "print(y_train.shape)\n",
    "print(X_val.shape)\n",
    "print(y_val.shape)\n",
    "print(X_test.shape)\n",
    "print(y_test.shape)"
   ]
  },
  {
   "cell_type": "markdown",
   "metadata": {
    "colab_type": "text",
    "id": "jk1r4UBQDDcf"
   },
   "source": [
    "### Hyperparameter Tuning"
   ]
  },
  {
   "cell_type": "code",
   "execution_count": 32,
   "metadata": {
    "colab": {},
    "colab_type": "code",
    "id": "iwqeEcoGDH-p"
   },
   "outputs": [],
   "source": [
    "np.random.seed(42)\n",
    "#HyperParameter\n",
    "#Beautify Code by creating dictionary containing all hyperparameters\n",
    "\n",
    "train_error=[]\n",
    "\n",
    "param={\n",
    "    'num_of_iteration':1000,\n",
    "    'learning_rate':0.1,\n",
    "    'regularization':0.1\n",
    "}\n",
    "\n",
    "grid_param={\n",
    "    'num_of_iteration':[2000,5000],\n",
    "    'learning_rate':[0.1,0.9],\n",
    "    'regularization':[0.1,0.01,0.001]\n",
    "}\n",
    "\n",
    "def MSE(h,y):\n",
    "    return 0.5*np.average((h-y)**2)\n"
   ]
  },
  {
   "cell_type": "code",
   "execution_count": 33,
   "metadata": {
    "colab": {
     "base_uri": "https://localhost:8080/",
     "height": 34
    },
    "colab_type": "code",
    "id": "Ak0Vf50iDpIJ",
    "outputId": "75b3e007-fe2b-478c-a765-1c59cc51564c"
   },
   "outputs": [
    {
     "name": "stdout",
     "output_type": "stream",
     "text": [
      "[(2000, 0.1, 0.1), (2000, 0.1, 0.01), (2000, 0.1, 0.001), (2000, 0.9, 0.1), (2000, 0.9, 0.01), (2000, 0.9, 0.001), (5000, 0.1, 0.1), (5000, 0.1, 0.01), (5000, 0.1, 0.001), (5000, 0.9, 0.1), (5000, 0.9, 0.01), (5000, 0.9, 0.001)]\n"
     ]
    }
   ],
   "source": [
    "#Now a grid is to be created which contains the combination of num_of_iteration and learning_rate. \n",
    "#Hyper Parameter Tuning\n",
    "#This combination is fed to the function and the combination with the best result is our final value of hyperparameters\n",
    "\n",
    "import itertools\n",
    "grid=list(itertools.product(grid_param['num_of_iteration'],grid_param['learning_rate'],grid_param['regularization']))\n",
    "print(grid)\n",
    "\n",
    "for g in grid:\n",
    "    p={\n",
    "    'num_of_iteration':g[0],\n",
    "    'learning_rate':g[1],\n",
    "    'regularization':g[2],\n",
    "    }"
   ]
  },
  {
   "cell_type": "code",
   "execution_count": null,
   "metadata": {},
   "outputs": [],
   "source": []
  },
  {
   "cell_type": "code",
   "execution_count": 34,
   "metadata": {
    "colab": {
     "base_uri": "https://localhost:8080/",
     "height": 384
    },
    "colab_type": "code",
    "id": "kDaRuwo4DsVy",
    "outputId": "fc4ab933-6564-46a1-dfda-80a3777d5cf4"
   },
   "outputs": [],
   "source": [
    "def train_model(X_train,y_train,X_val,y_val,param):\n",
    "    np.random.seed(42)\n",
    "    W=np.random.rand(X_train.shape[1]).reshape(-1,1)    #We reshape the row vector(1*4) to column vector(4*1)\n",
    "    \n",
    "    train_error=[]\n",
    "    val_error=[]\n",
    "    \n",
    "\n",
    "    #Run the loop num_of_iteration times \n",
    "    for i in range(1,param['num_of_iteration']):\n",
    "        h_train=np.matmul(X_train,W)        #h_train is matrix mul of X_train and W\n",
    "        R=param['regularization']*sum(W**2) \n",
    "        train_loss=MSE(h_train,y_train)+R   #loss in training data is calculated by calling MSE function\n",
    "        train_error.append(train_loss)      \n",
    "        \n",
    "        #Gradient-- Code form of the formula. shape[0] gives the number of rows\n",
    "        gradient_main=(np.matmul(np.transpose(h_train-y_train),X_train)/X_train.shape[0]).reshape(-1,1)   \n",
    "        \n",
    "        #Regularized Gradient\n",
    "        gradient_reg=2*param['regularization']*W\n",
    "#         print(gradient_main.shape)\n",
    "        gradient_reg[0]=0\n",
    "        gradient=gradient_main+gradient_reg\n",
    "        \n",
    "        #W is the updated weight\n",
    "#         W=W-param['learning_rate']*gradient\n",
    "        W=W-param['learning_rate']*gradient\n",
    "    \n",
    "    #Once training is done. We have to use Val set to tune hyper parameter. \n",
    "    #The p(combination) that gives least error is our final value for hyperparameters.\n",
    "    h_val=np.matmul(X_val,W)\n",
    "    val_loss=MSE(h_val,y_val)\n",
    "    val_error.append(val_loss)\n",
    "    return W, train_error, val_error\n",
    "# Weights, train_error, val_error = train_model(X_train,y_train,X_val,y_val,p)         \n"
   ]
  },
  {
   "cell_type": "code",
   "execution_count": 35,
   "metadata": {},
   "outputs": [],
   "source": [
    "Weights,train_error,val_error=train_model(X_train,y_train,X_val,y_val,param)"
   ]
  },
  {
   "cell_type": "code",
   "execution_count": 36,
   "metadata": {},
   "outputs": [
    {
     "name": "stdout",
     "output_type": "stream",
     "text": [
      "{'num_of_iteration': 2000, 'learning_rate': 0.1, 'regularization': 0.1}\n",
      "[7302.894501467857]\n"
     ]
    },
    {
     "data": {
      "image/png": "[encoded data removed]",
      "text/plain": [
       "<Figure size 432x288 with 1 Axes>"
      ]
     },
     "metadata": {
      "needs_background": "light"
     },
     "output_type": "display_data"
    },
    {
     "name": "stdout",
     "output_type": "stream",
     "text": [
      "{'num_of_iteration': 2000, 'learning_rate': 0.1, 'regularization': 0.01}\n",
      "[2269.866923824004]\n"
     ]
    },
    {
     "data": {
      "image/png": "[encoded data removed]",
      "text/plain": [
       "<Figure size 432x288 with 1 Axes>"
      ]
     },
     "metadata": {
      "needs_background": "light"
     },
     "output_type": "display_data"
    },
    {
     "name": "stdout",
     "output_type": "stream",
     "text": [
      "{'num_of_iteration': 2000, 'learning_rate': 0.1, 'regularization': 0.001}\n",
      "[190.07289523144618]\n"
     ]
    },
    {
     "data": {
      "image/png": "[encoded data removed]",
      "text/plain": [
       "<Figure size 432x288 with 1 Axes>"
      ]
     },
     "metadata": {
      "needs_background": "light"
     },
     "output_type": "display_data"
    },
    {
     "name": "stdout",
     "output_type": "stream",
     "text": [
      "{'num_of_iteration': 2000, 'learning_rate': 0.9, 'regularization': 0.1}\n",
      "[7297.754449017538]\n"
     ]
    },
    {
     "data": {
      "image/png": "[encoded data removed]",
      "text/plain": [
       "<Figure size 432x288 with 1 Axes>"
      ]
     },
     "metadata": {
      "needs_background": "light"
     },
     "output_type": "display_data"
    },
    {
     "name": "stdout",
     "output_type": "stream",
     "text": [
      "{'num_of_iteration': 2000, 'learning_rate': 0.9, 'regularization': 0.01}\n",
      "[2267.6555224871017]\n"
     ]
    },
    {
     "data": {
      "image/png": "[encoded data removed]",
      "text/plain": [
       "<Figure size 432x288 with 1 Axes>"
      ]
     },
     "metadata": {
      "needs_background": "light"
     },
     "output_type": "display_data"
    },
    {
     "name": "stdout",
     "output_type": "stream",
     "text": [
      "{'num_of_iteration': 2000, 'learning_rate': 0.9, 'regularization': 0.001}\n",
      "[171.45699183095272]\n"
     ]
    },
    {
     "data": {
      "image/png": "[encoded data removed]",
      "text/plain": [
       "<Figure size 432x288 with 1 Axes>"
      ]
     },
     "metadata": {
      "needs_background": "light"
     },
     "output_type": "display_data"
    },
    {
     "name": "stdout",
     "output_type": "stream",
     "text": [
      "{'num_of_iteration': 5000, 'learning_rate': 0.1, 'regularization': 0.1}\n",
      "[7301.929801199758]\n"
     ]
    },
    {
     "data": {
      "image/png": "[encoded data removed]",
      "text/plain": [
       "<Figure size 432x288 with 1 Axes>"
      ]
     },
     "metadata": {
      "needs_background": "light"
     },
     "output_type": "display_data"
    },
    {
     "name": "stdout",
     "output_type": "stream",
     "text": [
      "{'num_of_iteration': 5000, 'learning_rate': 0.1, 'regularization': 0.01}\n",
      "[2268.3465484773]\n"
     ]
    },
    {
     "data": {
      "image/png": "[encoded data removed]",
      "text/plain": [
       "<Figure size 432x288 with 1 Axes>"
      ]
     },
     "metadata": {
      "needs_background": "light"
     },
     "output_type": "display_data"
    },
    {
     "name": "stdout",
     "output_type": "stream",
     "text": [
      "{'num_of_iteration': 5000, 'learning_rate': 0.1, 'regularization': 0.001}\n",
      "[171.72867728327813]\n"
     ]
    },
    {
     "data": {
      "image/png": "[encoded data removed]",
      "text/plain": [
       "<Figure size 432x288 with 1 Axes>"
      ]
     },
     "metadata": {
      "needs_background": "light"
     },
     "output_type": "display_data"
    },
    {
     "name": "stdout",
     "output_type": "stream",
     "text": [
      "{'num_of_iteration': 5000, 'learning_rate': 0.9, 'regularization': 0.1}\n",
      "[7289.089912524342]\n"
     ]
    },
    {
     "data": {
      "image/png": "[encoded data removed]",
      "text/plain": [
       "<Figure size 432x288 with 1 Axes>"
      ]
     },
     "metadata": {
      "needs_background": "light"
     },
     "output_type": "display_data"
    },
    {
     "name": "stdout",
     "output_type": "stream",
     "text": [
      "{'num_of_iteration': 5000, 'learning_rate': 0.9, 'regularization': 0.01}\n",
      "[2266.221334615383]\n"
     ]
    },
    {
     "data": {
      "image/png": "[encoded data removed]",
      "text/plain": [
       "<Figure size 432x288 with 1 Axes>"
      ]
     },
     "metadata": {
      "needs_background": "light"
     },
     "output_type": "display_data"
    },
    {
     "name": "stdout",
     "output_type": "stream",
     "text": [
      "{'num_of_iteration': 5000, 'learning_rate': 0.9, 'regularization': 0.001}\n",
      "[171.4300851201357]\n"
     ]
    },
    {
     "data": {
      "image/png": "[encoded data removed]",
      "text/plain": [
       "<Figure size 432x288 with 1 Axes>"
      ]
     },
     "metadata": {
      "needs_background": "light"
     },
     "output_type": "display_data"
    }
   ],
   "source": [
    "for g in grid:\n",
    "    p={\n",
    "    'num_of_iteration':g[0],\n",
    "    'learning_rate':g[1],\n",
    "    'regularization':g[2]\n",
    "    }\n",
    "    print(p)\n",
    "    Weights,train_error,val_error=train_model(X_train,y_train,X_val,y_val,p)\n",
    "    print(val_error)\n",
    "    plt.plot(np.arange(len(train_error)),train_error)\n",
    "    plt.xlabel(\"No. of iterations\")\n",
    "    plt.ylabel(\"Training Error\")   \n",
    "    plt.show()"
   ]
  },
  {
   "cell_type": "code",
   "execution_count": 37,
   "metadata": {
    "colab": {},
    "colab_type": "code",
    "id": "SYFE8rY0DxRW"
   },
   "outputs": [],
   "source": [
    "# def grid_search(X_train,y_train,X_val,y_val,grid_param):\n",
    "#     grid=list(itertools(product))"
   ]
  },
  {
   "cell_type": "markdown",
   "metadata": {
    "colab_type": "text",
    "id": "MW507Q0v-Pvm"
   },
   "source": [
    "### Model Evaluation with R2 Score"
   ]
  },
  {
   "cell_type": "code",
   "execution_count": 38,
   "metadata": {
    "colab": {
     "base_uri": "https://localhost:8080/",
     "height": 34
    },
    "colab_type": "code",
    "id": "jp2e6NvcAG5e",
    "outputId": "cc789d91-709a-44a2-df97-0e35d3244469"
   },
   "outputs": [],
   "source": [
    "final_param = {'num_of_iteration': 5000, 'learning_rate': 0.1, 'regularization': 0.001}\n",
    "model_weights =  train_model(X_train,y_train,X_val,y_val,final_param) #Returns Weight, train_error and validation error\n"
   ]
  },
  {
   "cell_type": "code",
   "execution_count": 39,
   "metadata": {},
   "outputs": [],
   "source": [
    "#Select weight only as\n",
    "model_weights=model_weights[0]"
   ]
  },
  {
   "cell_type": "code",
   "execution_count": 40,
   "metadata": {},
   "outputs": [
    {
     "data": {
      "text/plain": [
       "array([[  6.0887768 ],\n",
       "       [  1.69477483],\n",
       "       [501.86136439],\n",
       "       [489.08758163],\n",
       "       [484.16963987]])"
      ]
     },
     "execution_count": 40,
     "metadata": {},
     "output_type": "execute_result"
    }
   ],
   "source": [
    "# model_weights=model_weights[:4]\n",
    "model_weights"
   ]
  },
  {
   "cell_type": "code",
   "execution_count": null,
   "metadata": {},
   "outputs": [],
   "source": []
  },
  {
   "cell_type": "code",
   "execution_count": 41,
   "metadata": {
    "colab": {
     "base_uri": "https://localhost:8080/",
     "height": 51
    },
    "colab_type": "code",
    "id": "OJghMvMxiiPe",
    "outputId": "5de0733f-12cc-451e-f8e3-7fadcbf82b34"
   },
   "outputs": [
    {
     "name": "stdout",
     "output_type": "stream",
     "text": [
      "24034552.25639555\n"
     ]
    },
    {
     "data": {
      "text/plain": [
       "0.817267297780813"
      ]
     },
     "execution_count": 41,
     "metadata": {},
     "output_type": "execute_result"
    }
   ],
   "source": [
    "y_mean = np.mean(y_test)\n",
    "h_test = np.matmul(X_test, model_weights)\n",
    "n = X_test.shape[0]\n",
    "k = X_test.shape[1] - 1\n",
    "SST = np.sum(np.square(y_test - y_mean))\n",
    "SSR = np.sum(np.square(h_test- y_mean))\n",
    "SSE = SST - SSR\n",
    "print(SSE)\n",
    "R2 = 1 - (SSE/(n-k-1))/(SST/(n-1))\n",
    "R2"
   ]
  },
  {
   "cell_type": "code",
   "execution_count": 42,
   "metadata": {
    "colab": {
     "base_uri": "https://localhost:8080/",
     "height": 34
    },
    "colab_type": "code",
    "id": "xbWOG7vAAq8G",
    "outputId": "28faf09e-9274-402f-8c31-50f0ea7b0237"
   },
   "outputs": [
    {
     "data": {
      "text/plain": [
       "((19741, 5), (5, 1), (19741, 1))"
      ]
     },
     "execution_count": 42,
     "metadata": {},
     "output_type": "execute_result"
    }
   ],
   "source": [
    "X_test.shape,model_weights.shape,h_test.shape"
   ]
  },
  {
   "cell_type": "code",
   "execution_count": 43,
   "metadata": {
    "colab": {
     "base_uri": "https://localhost:8080/",
     "height": 34
    },
    "colab_type": "code",
    "id": "FGPuGCbX_XjT",
    "outputId": "9003f2cd-54c8-4350-c872-d567cf7b7016"
   },
   "outputs": [
    {
     "data": {
      "text/plain": [
       "9720075.717789806"
      ]
     },
     "execution_count": 43,
     "metadata": {},
     "output_type": "execute_result"
    }
   ],
   "source": [
    "sse = np.sum(np.square(h_test - y_test))\n",
    "sse"
   ]
  },
  {
   "cell_type": "code",
   "execution_count": 44,
   "metadata": {
    "colab": {},
    "colab_type": "code",
    "id": "wPBdu8-A_hGz"
   },
   "outputs": [],
   "source": [
    "# #5000 and 0.1\n",
    "# SSE= 1100482.76069282\n",
    "\n",
    "# R2= 0.9912581329676198\n",
    "\n",
    "# sse= 4699303.15028573"
   ]
  },
  {
   "cell_type": "code",
   "execution_count": null,
   "metadata": {},
   "outputs": [],
   "source": []
  }
 ],
 "metadata": {
  "colab": {
   "collapsed_sections": [],
   "machine_shape": "hm",
   "name": "LinearRegression_28th_feb_absent.ipynb",
   "provenance": []
  },
  "kernelspec": {
   "display_name": "Python 3",
   "language": "python",
   "name": "python3"
  },
  "language_info": {
   "codemirror_mode": {
    "name": "ipython",
    "version": 3
   },
   "file_extension": ".py",
   "mimetype": "text/x-python",
   "name": "python",
   "nbconvert_exporter": "python",
   "pygments_lexer": "ipython3",
   "version": "3.6.9"
  }
 },
 "nbformat": 4,
 "nbformat_minor": 1
}

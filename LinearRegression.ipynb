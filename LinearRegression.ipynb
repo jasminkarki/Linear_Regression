{
 "cells": [
  {
   "cell_type": "markdown",
   "metadata": {
    "colab_type": "text",
    "id": "ljyveZI8Yi-T"
   },
   "source": [
    "## Feature Extraction"
   ]
  },
  {
   "cell_type": "code",
   "execution_count": 72,
   "metadata": {
    "colab": {},
    "colab_type": "code",
    "id": "qZ9tTD6fLRkO"
   },
   "outputs": [],
   "source": [
    "import numpy as np\n",
    "import pandas as pd\n",
    "import matplotlib.pyplot as plt\n",
    "%matplotlib inline\n",
    "\n",
    "df = pd.read_csv('Price.csv')"
   ]
  },
  {
   "cell_type": "code",
   "execution_count": 29,
   "metadata": {
    "colab": {},
    "colab_type": "code",
    "id": "v3DP3GY2LjdP"
   },
   "outputs": [],
   "source": [
    "#Renaming title of columns\n",
    "df = df.rename(columns ={'कृषि उपज':'Name','ईकाइ':'Quantity','न्यूनतम':'Min','अधिकतम':'Max','औसत':'Avg'})\n",
    "\n",
    "#Converting column containing nepali numbers into int\n",
    "df['Avg']=df['Avg'].apply(lambda x: int(x))"
   ]
  },
  {
   "cell_type": "code",
   "execution_count": 30,
   "metadata": {
    "colab": {
     "base_uri": "https://localhost:8080/",
     "height": 235
    },
    "colab_type": "code",
    "id": "brU4L7MMzBXN",
    "outputId": "e6cdc3c2-0a80-4d57-b758-199078431845"
   },
   "outputs": [
    {
     "name": "stdout",
     "output_type": "stream",
     "text": [
      "Name                 object\n",
      "Quantity             object\n",
      "Min                  object\n",
      "Max                  object\n",
      "Avg                   int64\n",
      "cdate        datetime64[ns]\n",
      "pricetype            object\n",
      "dtype: object\n"
     ]
    }
   ],
   "source": [
    "#Converting date column to date\n",
    "import datetime\n",
    "df['cdate']=pd.to_datetime(df['cdate'])\n",
    "print(df.dtypes)      #Data types of the columns in df"
   ]
  },
  {
   "cell_type": "code",
   "execution_count": 31,
   "metadata": {
    "colab": {
     "base_uri": "https://localhost:8080/",
     "height": 204
    },
    "colab_type": "code",
    "id": "Fa2zH89QYE3w",
    "outputId": "520e8c06-ea1d-4f14-faed-41a6db47b397"
   },
   "outputs": [
    {
     "data": {
      "text/plain": [
       "मूला सेतो(लोकल)    1436\n",
       "काउली स्थानिय      1436\n",
       "भुर्इ कटहर         1436\n",
       "बन्दा(लोकल)        1436\n",
       "अदुवा              1436\n",
       "                   ... \n",
       "अम्बा                44\n",
       "सजिवन                32\n",
       "अंगुर(कालो)          32\n",
       "लीच्ची(भारतीय)       28\n",
       "परवर(तराई)           16\n",
       "Name: Name, Length: 120, dtype: int64"
      ]
     },
     "execution_count": 31,
     "metadata": {},
     "output_type": "execute_result"
    }
   ],
   "source": [
    "df['Name'].value_counts()"
   ]
  },
  {
   "cell_type": "code",
   "execution_count": 32,
   "metadata": {},
   "outputs": [
    {
     "data": {
      "text/html": [
       "<div>\n",
       "<style scoped>\n",
       "    .dataframe tbody tr th:only-of-type {\n",
       "        vertical-align: middle;\n",
       "    }\n",
       "\n",
       "    .dataframe tbody tr th {\n",
       "        vertical-align: top;\n",
       "    }\n",
       "\n",
       "    .dataframe thead th {\n",
       "        text-align: right;\n",
       "    }\n",
       "</style>\n",
       "<table border=\"1\" class=\"dataframe\">\n",
       "  <thead>\n",
       "    <tr style=\"text-align: right;\">\n",
       "      <th></th>\n",
       "      <th>Name</th>\n",
       "      <th>Quantity</th>\n",
       "      <th>Min</th>\n",
       "      <th>Max</th>\n",
       "      <th>Avg</th>\n",
       "      <th>cdate</th>\n",
       "      <th>pricetype</th>\n",
       "    </tr>\n",
       "  </thead>\n",
       "  <tbody>\n",
       "    <tr>\n",
       "      <th>0</th>\n",
       "      <td>गोलभेडा ठूलो(नेपाली)</td>\n",
       "      <td>के.जी.</td>\n",
       "      <td>३०</td>\n",
       "      <td>३५</td>\n",
       "      <td>33</td>\n",
       "      <td>2018-02-25</td>\n",
       "      <td>W</td>\n",
       "    </tr>\n",
       "    <tr>\n",
       "      <th>1</th>\n",
       "      <td>गोलभेडा सानो</td>\n",
       "      <td>के.जी.</td>\n",
       "      <td>२५</td>\n",
       "      <td>३०</td>\n",
       "      <td>28</td>\n",
       "      <td>2018-02-25</td>\n",
       "      <td>W</td>\n",
       "    </tr>\n",
       "    <tr>\n",
       "      <th>2</th>\n",
       "      <td>अालु रातो</td>\n",
       "      <td>के.जी.</td>\n",
       "      <td>२०</td>\n",
       "      <td>२३</td>\n",
       "      <td>22</td>\n",
       "      <td>2018-02-25</td>\n",
       "      <td>W</td>\n",
       "    </tr>\n",
       "    <tr>\n",
       "      <th>3</th>\n",
       "      <td>अालु सेतो</td>\n",
       "      <td>के.जी.</td>\n",
       "      <td>१८</td>\n",
       "      <td>२०</td>\n",
       "      <td>19</td>\n",
       "      <td>2018-02-25</td>\n",
       "      <td>W</td>\n",
       "    </tr>\n",
       "    <tr>\n",
       "      <th>4</th>\n",
       "      <td>प्याज सुकेको भारतीय</td>\n",
       "      <td>के.जी.</td>\n",
       "      <td>४४</td>\n",
       "      <td>४६</td>\n",
       "      <td>45</td>\n",
       "      <td>2018-02-25</td>\n",
       "      <td>W</td>\n",
       "    </tr>\n",
       "    <tr>\n",
       "      <th>5</th>\n",
       "      <td>गाजर(लोकल)</td>\n",
       "      <td>के.जी.</td>\n",
       "      <td>२५</td>\n",
       "      <td>३०</td>\n",
       "      <td>28</td>\n",
       "      <td>2018-02-25</td>\n",
       "      <td>W</td>\n",
       "    </tr>\n",
       "    <tr>\n",
       "      <th>6</th>\n",
       "      <td>बन्दा(लोकल)</td>\n",
       "      <td>के.जी.</td>\n",
       "      <td>२२</td>\n",
       "      <td>२८</td>\n",
       "      <td>25</td>\n",
       "      <td>2018-02-25</td>\n",
       "      <td>W</td>\n",
       "    </tr>\n",
       "    <tr>\n",
       "      <th>7</th>\n",
       "      <td>काउली स्थानिय</td>\n",
       "      <td>के.जी.</td>\n",
       "      <td>२५</td>\n",
       "      <td>३०</td>\n",
       "      <td>28</td>\n",
       "      <td>2018-02-25</td>\n",
       "      <td>W</td>\n",
       "    </tr>\n",
       "    <tr>\n",
       "      <th>8</th>\n",
       "      <td>काउली तरार्इ</td>\n",
       "      <td>के.जी.</td>\n",
       "      <td>२०</td>\n",
       "      <td>२५</td>\n",
       "      <td>23</td>\n",
       "      <td>2018-02-25</td>\n",
       "      <td>W</td>\n",
       "    </tr>\n",
       "    <tr>\n",
       "      <th>9</th>\n",
       "      <td>मूला रातो</td>\n",
       "      <td>के.जी.</td>\n",
       "      <td>३०</td>\n",
       "      <td>३५</td>\n",
       "      <td>33</td>\n",
       "      <td>2018-02-25</td>\n",
       "      <td>W</td>\n",
       "    </tr>\n",
       "  </tbody>\n",
       "</table>\n",
       "</div>"
      ],
      "text/plain": [
       "                   Name Quantity Min Max  Avg      cdate pricetype\n",
       "0  गोलभेडा ठूलो(नेपाली)   के.जी.  ३०  ३५   33 2018-02-25         W\n",
       "1          गोलभेडा सानो   के.जी.  २५  ३०   28 2018-02-25         W\n",
       "2             अालु रातो   के.जी.  २०  २३   22 2018-02-25         W\n",
       "3             अालु सेतो   के.जी.  १८  २०   19 2018-02-25         W\n",
       "4   प्याज सुकेको भारतीय   के.जी.  ४४  ४६   45 2018-02-25         W\n",
       "5            गाजर(लोकल)   के.जी.  २५  ३०   28 2018-02-25         W\n",
       "6           बन्दा(लोकल)   के.जी.  २२  २८   25 2018-02-25         W\n",
       "7         काउली स्थानिय   के.जी.  २५  ३०   28 2018-02-25         W\n",
       "8          काउली तरार्इ   के.जी.  २०  २५   23 2018-02-25         W\n",
       "9             मूला रातो   के.जी.  ३०  ३५   33 2018-02-25         W"
      ]
     },
     "execution_count": 32,
     "metadata": {},
     "output_type": "execute_result"
    }
   ],
   "source": [
    "df.head(10)"
   ]
  },
  {
   "cell_type": "markdown",
   "metadata": {},
   "source": [
    "### Adding two features: \n",
    "#### Price of yesterday and the day before yesterday"
   ]
  },
  {
   "cell_type": "code",
   "execution_count": 33,
   "metadata": {
    "colab": {},
    "colab_type": "code",
    "id": "E-I664JS65Fi"
   },
   "outputs": [],
   "source": [
    "vegetable = set(df['Name'].values)      #Creating a set of vegetable i.e taking all the unique vegetables\n",
    "len(vegetable)\n",
    "\n",
    "feature_df = []                         # Empty list for future use\n",
    "\n",
    "for v in vegetable:\n",
    "    for p_type in ['W','R']:\n",
    "\n",
    "        df_v = df[(df['Name'] == v) & (df['pricetype']== p_type)] #taking a vegetable of only one pricetype\n",
    "        df_v = df_v.sort_values(by = ['cdate'], ascending = False) #sorting in descending order based on date. Recent date will be at first.\n",
    "\n",
    "        if p_type == 'W':\n",
    "            df_v['type'] = 1\n",
    "        else:\n",
    "            df_v['type'] = 0\n",
    "\n",
    "\n",
    "        df_v['t_1'] = df_v.shift(-1)['Avg']\n",
    "        df_v['t_2'] = df_v.shift(-2)['Avg']\n",
    "#         df_v['t_7'] = df_v.shift(-7)['Avg']     #Could be a feature but data size decreases drastically\n",
    "\n",
    "        feature_df.append(df_v)\n"
   ]
  },
  {
   "cell_type": "code",
   "execution_count": null,
   "metadata": {},
   "outputs": [],
   "source": []
  },
  {
   "cell_type": "code",
   "execution_count": null,
   "metadata": {},
   "outputs": [],
   "source": []
  },
  {
   "cell_type": "code",
   "execution_count": 34,
   "metadata": {
    "colab": {},
    "colab_type": "code",
    "id": "of8Q2v_mY8yf"
   },
   "outputs": [],
   "source": [
    "feature_df = pd.concat(feature_df)"
   ]
  },
  {
   "cell_type": "code",
   "execution_count": 35,
   "metadata": {
    "colab": {
     "base_uri": "https://localhost:8080/",
     "height": 204
    },
    "colab_type": "code",
    "id": "XqmMpONlZKRq",
    "outputId": "63a16759-8ae3-4815-dbd1-accd43646717"
   },
   "outputs": [
    {
     "data": {
      "text/html": [
       "<div>\n",
       "<style scoped>\n",
       "    .dataframe tbody tr th:only-of-type {\n",
       "        vertical-align: middle;\n",
       "    }\n",
       "\n",
       "    .dataframe tbody tr th {\n",
       "        vertical-align: top;\n",
       "    }\n",
       "\n",
       "    .dataframe thead th {\n",
       "        text-align: right;\n",
       "    }\n",
       "</style>\n",
       "<table border=\"1\" class=\"dataframe\">\n",
       "  <thead>\n",
       "    <tr style=\"text-align: right;\">\n",
       "      <th></th>\n",
       "      <th>Name</th>\n",
       "      <th>Quantity</th>\n",
       "      <th>Min</th>\n",
       "      <th>Max</th>\n",
       "      <th>Avg</th>\n",
       "      <th>cdate</th>\n",
       "      <th>pricetype</th>\n",
       "      <th>type</th>\n",
       "      <th>t_1</th>\n",
       "      <th>t_2</th>\n",
       "    </tr>\n",
       "  </thead>\n",
       "  <tbody>\n",
       "    <tr>\n",
       "      <th>3733</th>\n",
       "      <td>सजिवन</td>\n",
       "      <td>के.जी.</td>\n",
       "      <td>२१०</td>\n",
       "      <td>२२०</td>\n",
       "      <td>215</td>\n",
       "      <td>2018-03-25</td>\n",
       "      <td>R</td>\n",
       "      <td>0</td>\n",
       "      <td>215.0</td>\n",
       "      <td>215.0</td>\n",
       "    </tr>\n",
       "    <tr>\n",
       "      <th>3592</th>\n",
       "      <td>सजिवन</td>\n",
       "      <td>के.जी.</td>\n",
       "      <td>२१०</td>\n",
       "      <td>२२०</td>\n",
       "      <td>215</td>\n",
       "      <td>2018-03-24</td>\n",
       "      <td>R</td>\n",
       "      <td>0</td>\n",
       "      <td>215.0</td>\n",
       "      <td>215.0</td>\n",
       "    </tr>\n",
       "    <tr>\n",
       "      <th>3450</th>\n",
       "      <td>सजिवन</td>\n",
       "      <td>के.जी.</td>\n",
       "      <td>२१०</td>\n",
       "      <td>२२०</td>\n",
       "      <td>215</td>\n",
       "      <td>2018-03-23</td>\n",
       "      <td>R</td>\n",
       "      <td>0</td>\n",
       "      <td>215.0</td>\n",
       "      <td>215.0</td>\n",
       "    </tr>\n",
       "    <tr>\n",
       "      <th>3308</th>\n",
       "      <td>सजिवन</td>\n",
       "      <td>के.जी.</td>\n",
       "      <td>२१०</td>\n",
       "      <td>२२०</td>\n",
       "      <td>215</td>\n",
       "      <td>2018-03-22</td>\n",
       "      <td>R</td>\n",
       "      <td>0</td>\n",
       "      <td>215.0</td>\n",
       "      <td>215.0</td>\n",
       "    </tr>\n",
       "    <tr>\n",
       "      <th>3168</th>\n",
       "      <td>सजिवन</td>\n",
       "      <td>के.जी.</td>\n",
       "      <td>२१०</td>\n",
       "      <td>२२०</td>\n",
       "      <td>215</td>\n",
       "      <td>2018-03-21</td>\n",
       "      <td>R</td>\n",
       "      <td>0</td>\n",
       "      <td>215.0</td>\n",
       "      <td>125.0</td>\n",
       "    </tr>\n",
       "  </tbody>\n",
       "</table>\n",
       "</div>"
      ],
      "text/plain": [
       "       Name Quantity  Min  Max  Avg      cdate pricetype  type    t_1    t_2\n",
       "3733  सजिवन   के.जी.  २१०  २२०  215 2018-03-25         R     0  215.0  215.0\n",
       "3592  सजिवन   के.जी.  २१०  २२०  215 2018-03-24         R     0  215.0  215.0\n",
       "3450  सजिवन   के.जी.  २१०  २२०  215 2018-03-23         R     0  215.0  215.0\n",
       "3308  सजिवन   के.जी.  २१०  २२०  215 2018-03-22         R     0  215.0  215.0\n",
       "3168  सजिवन   के.जी.  २१०  २२०  215 2018-03-21         R     0  215.0  125.0"
      ]
     },
     "execution_count": 35,
     "metadata": {},
     "output_type": "execute_result"
    }
   ],
   "source": [
    "feature_df.dropna(inplace=True)\n",
    "feature_df.tail()"
   ]
  },
  {
   "cell_type": "code",
   "execution_count": null,
   "metadata": {},
   "outputs": [],
   "source": []
  },
  {
   "cell_type": "code",
   "execution_count": null,
   "metadata": {},
   "outputs": [],
   "source": []
  },
  {
   "cell_type": "code",
   "execution_count": null,
   "metadata": {},
   "outputs": [],
   "source": []
  },
  {
   "cell_type": "code",
   "execution_count": null,
   "metadata": {
    "scrolled": true
   },
   "outputs": [],
   "source": []
  },
  {
   "cell_type": "code",
   "execution_count": null,
   "metadata": {},
   "outputs": [],
   "source": []
  },
  {
   "cell_type": "code",
   "execution_count": null,
   "metadata": {},
   "outputs": [],
   "source": []
  },
  {
   "cell_type": "code",
   "execution_count": null,
   "metadata": {},
   "outputs": [],
   "source": []
  },
  {
   "cell_type": "code",
   "execution_count": null,
   "metadata": {},
   "outputs": [],
   "source": []
  },
  {
   "cell_type": "code",
   "execution_count": null,
   "metadata": {},
   "outputs": [],
   "source": []
  },
  {
   "cell_type": "code",
   "execution_count": null,
   "metadata": {},
   "outputs": [],
   "source": []
  },
  {
   "cell_type": "code",
   "execution_count": null,
   "metadata": {},
   "outputs": [],
   "source": []
  },
  {
   "cell_type": "code",
   "execution_count": null,
   "metadata": {},
   "outputs": [],
   "source": []
  },
  {
   "cell_type": "code",
   "execution_count": 36,
   "metadata": {
    "colab": {},
    "colab_type": "code",
    "id": "S5jTjqTmZM64"
   },
   "outputs": [],
   "source": [
    "feature_df = feature_df.sample(frac = 1, random_state= 1)"
   ]
  },
  {
   "cell_type": "code",
   "execution_count": 37,
   "metadata": {
    "colab": {
     "base_uri": "https://localhost:8080/",
     "height": 136
    },
    "colab_type": "code",
    "id": "GyiYVQbmZRvx",
    "outputId": "f4d8bd79-00a0-4e22-ef60-4d8156571434"
   },
   "outputs": [
    {
     "data": {
      "text/plain": [
       "array([[ 1., 38., 36.],\n",
       "       [ 0., 85., 85.],\n",
       "       [ 0., 55., 55.],\n",
       "       ...,\n",
       "       [ 1., 33., 33.],\n",
       "       [ 0., 45., 45.],\n",
       "       [ 1., 85., 75.]])"
      ]
     },
     "execution_count": 37,
     "metadata": {},
     "output_type": "execute_result"
    }
   ],
   "source": [
    "X = feature_df[['type','t_1', 't_2']].values #getting feature matrix\n",
    "X"
   ]
  },
  {
   "cell_type": "code",
   "execution_count": 38,
   "metadata": {
    "colab": {
     "base_uri": "https://localhost:8080/",
     "height": 34
    },
    "colab_type": "code",
    "id": "sRjQqBGBZUHV",
    "outputId": "52766c5a-4d3a-4fca-f6e2-2b0fc9e663f4"
   },
   "outputs": [
    {
     "data": {
      "text/plain": [
       "(98822, 3)"
      ]
     },
     "execution_count": 38,
     "metadata": {},
     "output_type": "execute_result"
    }
   ],
   "source": [
    "X.shape"
   ]
  },
  {
   "cell_type": "code",
   "execution_count": 39,
   "metadata": {
    "colab": {
     "base_uri": "https://localhost:8080/",
     "height": 136
    },
    "colab_type": "code",
    "id": "ljJxAmmsZYLV",
    "outputId": "017e69a5-f96b-4c0a-d2de-7454b40212d0"
   },
   "outputs": [
    {
     "data": {
      "text/plain": [
       "array([[ 1.,  1., 38., 36.],\n",
       "       [ 1.,  0., 85., 85.],\n",
       "       [ 1.,  0., 55., 55.],\n",
       "       ...,\n",
       "       [ 1.,  1., 33., 33.],\n",
       "       [ 1.,  0., 45., 45.],\n",
       "       [ 1.,  1., 85., 75.]])"
      ]
     },
     "execution_count": 39,
     "metadata": {},
     "output_type": "execute_result"
    }
   ],
   "source": [
    "X = np.insert(X, 0, values=1, axis = 1) #adding bias or intercept term\n",
    "X"
   ]
  },
  {
   "cell_type": "code",
   "execution_count": 40,
   "metadata": {
    "colab": {
     "base_uri": "https://localhost:8080/",
     "height": 34
    },
    "colab_type": "code",
    "id": "4vVmpJzEZauO",
    "outputId": "afade871-cc19-4bc6-af28-dc6098905336"
   },
   "outputs": [
    {
     "name": "stdout",
     "output_type": "stream",
     "text": [
      "(98822,)\n"
     ]
    }
   ],
   "source": [
    "y = feature_df['Avg'].values\n",
    "print(y.shape)"
   ]
  },
  {
   "cell_type": "markdown",
   "metadata": {
    "colab_type": "text",
    "id": "m4PLkvQuZian"
   },
   "source": [
    "## Dividing into train, test and validation datas\n",
    "\n",
    "### 60% Train 20% Validation and Test each"
   ]
  },
  {
   "cell_type": "code",
   "execution_count": 41,
   "metadata": {
    "colab": {
     "base_uri": "https://localhost:8080/",
     "height": 34
    },
    "colab_type": "code",
    "id": "rvzBjNt-HZUi",
    "outputId": "f29a739f-28ff-4a87-bec8-0057bf0a53ae"
   },
   "outputs": [
    {
     "name": "stdout",
     "output_type": "stream",
     "text": [
      "59293 19764 19765\n"
     ]
    }
   ],
   "source": [
    "total = len(X)\n",
    "train = int(0.6 * total)\n",
    "val = int(0.2*total)\n",
    "\n",
    "X_train = X[:train]\n",
    "y_train = y[:train].reshape(-1,1)\n",
    "\n",
    "X_val = X[train:train + val]\n",
    "y_val = y[train:train +val].reshape(-1,1)\n",
    "\n",
    "X_test = X[train + val:]\n",
    "y_test = y[train + val:].reshape(-1,1)\n",
    "\n",
    "print(len(X_train), len(X_val),len(X_test))"
   ]
  },
  {
   "cell_type": "markdown",
   "metadata": {
    "colab_type": "text",
    "id": "mI2PNPFyZwo4"
   },
   "source": [
    "### Normalization\n",
    "####  Min-max"
   ]
  },
  {
   "cell_type": "code",
   "execution_count": 42,
   "metadata": {
    "colab": {
     "base_uri": "https://localhost:8080/",
     "height": 136
    },
    "colab_type": "code",
    "id": "gFwElWdnZdvH",
    "outputId": "ca570893-f1df-4a5f-c265-a0f6628e8260"
   },
   "outputs": [
    {
     "data": {
      "text/plain": [
       "array([[  1.,   1.,  38.,  36.],\n",
       "       [  1.,   0.,  85.,  85.],\n",
       "       [  1.,   0.,  55.,  55.],\n",
       "       ...,\n",
       "       [  1.,   0.,  45.,  45.],\n",
       "       [  1.,   0., 155., 155.],\n",
       "       [  1.,   0.,  75.,  75.]])"
      ]
     },
     "execution_count": 42,
     "metadata": {},
     "output_type": "execute_result"
    }
   ],
   "source": [
    "#To cope with convergence problem during gradient descent, we take all our features into same range. \n",
    "X_train "
   ]
  },
  {
   "cell_type": "code",
   "execution_count": 43,
   "metadata": {
    "colab": {},
    "colab_type": "code",
    "id": "xlV3A01jZ3la"
   },
   "outputs": [],
   "source": [
    "price_X = X_train[:, 1:]\n",
    "\n",
    "min_v = np.min(price_X)\n",
    "max_v = np.max(price_X)\n",
    "diff = max_v - min_v"
   ]
  },
  {
   "cell_type": "code",
   "execution_count": 44,
   "metadata": {},
   "outputs": [
    {
     "data": {
      "text/plain": [
       "array([[  1.,  38.,  36.],\n",
       "       [  0.,  85.,  85.],\n",
       "       [  0.,  55.,  55.],\n",
       "       ...,\n",
       "       [  0.,  45.,  45.],\n",
       "       [  0., 155., 155.],\n",
       "       [  0.,  75.,  75.]])"
      ]
     },
     "execution_count": 44,
     "metadata": {},
     "output_type": "execute_result"
    }
   ],
   "source": [
    "price_X"
   ]
  },
  {
   "cell_type": "code",
   "execution_count": 45,
   "metadata": {
    "colab": {},
    "colab_type": "code",
    "id": "H8mU0YApZ6aa"
   },
   "outputs": [],
   "source": [
    "def min_max_normalization(dataset):\n",
    "    for i in range(0, dataset.shape[0]):\n",
    "        for j in range(0, dataset.shape[1]):\n",
    "            dataset[i][j] = (dataset[i][j]-min_v)/diff\n",
    "\n",
    "min_max_normalization(X_train)\n",
    "min_max_normalization(X_val)\n",
    "min_max_normalization(X_test)"
   ]
  },
  {
   "cell_type": "code",
   "execution_count": 46,
   "metadata": {
    "colab": {
     "base_uri": "https://localhost:8080/",
     "height": 136
    },
    "colab_type": "code",
    "id": "ZNDYPKtMxpIe",
    "outputId": "182896f1-0c02-4823-de5e-f2ca474c9322"
   },
   "outputs": [
    {
     "data": {
      "text/plain": [
       "array([[0.00061538, 0.00061538, 0.02338462, 0.02215385],\n",
       "       [0.00061538, 0.        , 0.05230769, 0.05230769],\n",
       "       [0.00061538, 0.        , 0.03384615, 0.03384615],\n",
       "       ...,\n",
       "       [0.00061538, 0.        , 0.02769231, 0.02769231],\n",
       "       [0.00061538, 0.        , 0.09538462, 0.09538462],\n",
       "       [0.00061538, 0.        , 0.04615385, 0.04615385]])"
      ]
     },
     "execution_count": 46,
     "metadata": {},
     "output_type": "execute_result"
    }
   ],
   "source": [
    "X_train"
   ]
  },
  {
   "cell_type": "code",
   "execution_count": 47,
   "metadata": {
    "colab": {
     "base_uri": "https://localhost:8080/",
     "height": 119
    },
    "colab_type": "code",
    "id": "7ccoH_QG_RBV",
    "outputId": "7734c955-d3db-44a5-fb2b-e83164f1d48e"
   },
   "outputs": [
    {
     "name": "stdout",
     "output_type": "stream",
     "text": [
      "(59293, 4)\n",
      "(59293, 1)\n",
      "(19764, 4)\n",
      "(19764, 1)\n",
      "(19765, 4)\n",
      "(19765, 1)\n"
     ]
    }
   ],
   "source": [
    "print(X_train.shape)\n",
    "print(y_train.shape)\n",
    "print(X_val.shape)\n",
    "print(y_val.shape)\n",
    "print(X_test.shape)\n",
    "print(y_test.shape)"
   ]
  },
  {
   "cell_type": "markdown",
   "metadata": {
    "colab_type": "text",
    "id": "jk1r4UBQDDcf"
   },
   "source": [
    "### Hyperparameter Tuning"
   ]
  },
  {
   "cell_type": "code",
   "execution_count": 62,
   "metadata": {
    "colab": {},
    "colab_type": "code",
    "id": "iwqeEcoGDH-p"
   },
   "outputs": [],
   "source": [
    "np.random.seed(42)\n",
    "#HyperParameter\n",
    "#Beautify Code by creating dictionary containing all hyperparameters\n",
    "\n",
    "train_error=[]\n",
    "\n",
    "param={\n",
    "    'num_of_iteration':1000,\n",
    "    'learning_rate':0.1,\n",
    "    'regularization':0.1\n",
    "}\n",
    "\n",
    "grid_param={\n",
    "    'num_of_iteration':[2000,5000],\n",
    "    'learning_rate':[0.1,0.9],\n",
    "    'regularization':[0.1,0.01,0.001]\n",
    "}\n",
    "\n",
    "def MSE(h,y):\n",
    "    return 0.5*np.average((h-y)**2)\n"
   ]
  },
  {
   "cell_type": "code",
   "execution_count": 63,
   "metadata": {
    "colab": {
     "base_uri": "https://localhost:8080/",
     "height": 34
    },
    "colab_type": "code",
    "id": "Ak0Vf50iDpIJ",
    "outputId": "75b3e007-fe2b-478c-a765-1c59cc51564c"
   },
   "outputs": [
    {
     "name": "stdout",
     "output_type": "stream",
     "text": [
      "[(2000, 0.1, 0.1), (2000, 0.1, 0.01), (2000, 0.1, 0.001), (2000, 0.9, 0.1), (2000, 0.9, 0.01), (2000, 0.9, 0.001), (5000, 0.1, 0.1), (5000, 0.1, 0.01), (5000, 0.1, 0.001), (5000, 0.9, 0.1), (5000, 0.9, 0.01), (5000, 0.9, 0.001)]\n"
     ]
    }
   ],
   "source": [
    "#Now a grid is to be created which contains the combination of num_of_iteration and learning_rate. \n",
    "#Hyper Parameter Tuning\n",
    "#This combination is fed to the function and the combination with the best result is our final value of hyperparameters\n",
    "\n",
    "import itertools\n",
    "grid=list(itertools.product(grid_param['num_of_iteration'],grid_param['learning_rate'],grid_param['regularization']))\n",
    "print(grid)\n",
    "\n",
    "for g in grid:\n",
    "    p={\n",
    "    'num_of_iteration':g[0],\n",
    "    'learning_rate':g[1],\n",
    "    'regularization':g[2],\n",
    "    }"
   ]
  },
  {
   "cell_type": "code",
   "execution_count": null,
   "metadata": {},
   "outputs": [],
   "source": []
  },
  {
   "cell_type": "code",
   "execution_count": 68,
   "metadata": {
    "colab": {
     "base_uri": "https://localhost:8080/",
     "height": 384
    },
    "colab_type": "code",
    "id": "kDaRuwo4DsVy",
    "outputId": "fc4ab933-6564-46a1-dfda-80a3777d5cf4"
   },
   "outputs": [],
   "source": [
    "def train_model(X_train,y_train,X_val,y_val,param):\n",
    "    np.random.seed(42)\n",
    "    W=np.random.rand(X_train.shape[1]).reshape(-1,1)    #We reshape the row vector(1*4) to column vector(4*1)\n",
    "    \n",
    "    train_error=[]\n",
    "    val_error=[]\n",
    "    \n",
    "\n",
    "    #Run the loop num_of_iteration times \n",
    "    for i in range(1,param['num_of_iteration']):\n",
    "        h_train=np.matmul(X_train,W)        #h_train is matrix mul of X_train and W\n",
    "        R=param['regularization']*sum(W**2) \n",
    "        train_loss=MSE(h_train,y_train)+R   #loss in training data is calculated by calling MSE function\n",
    "        train_error.append(train_loss)      \n",
    "        \n",
    "        #Gradient-- Code form of the formula. shape[0] gives the number of rows\n",
    "        gradient_main=(np.matmul(np.transpose(h_train-y_train),X_train)/X_train.shape[0]).reshape(-1,1)   \n",
    "        \n",
    "        #Regularized Gradient\n",
    "        gradient_reg=2*param['regularization']*W\n",
    "#         print(gradient_main.shape)\n",
    "        gradient_reg[0]=0\n",
    "        gradient=gradient_main+gradient_reg\n",
    "        \n",
    "        #W is the updated weight\n",
    "#         W=W-param['learning_rate']*gradient\n",
    "        W=W-param['learning_rate']*gradient\n",
    "    \n",
    "    #Once training is done. We have to use Val set to tune hyper parameter. \n",
    "    #The p(combination) that gives least error is our final value for hyperparameters.\n",
    "    h_val=np.matmul(X_val,W)\n",
    "    val_loss=MSE(h_val,y_val)\n",
    "    val_error.append(val_loss)\n",
    "    return W, train_error, val_error\n",
    "# Weights, train_error, val_error = train_model(X_train,y_train,X_val,y_val,p)         \n"
   ]
  },
  {
   "cell_type": "code",
   "execution_count": 69,
   "metadata": {},
   "outputs": [],
   "source": [
    "Weights,train_error,val_error=train_model(X_train,y_train,X_val,y_val,param)"
   ]
  },
  {
   "cell_type": "code",
   "execution_count": 110,
   "metadata": {},
   "outputs": [
    {
     "name": "stdout",
     "output_type": "stream",
     "text": [
      "{'num_of_iteration': 2000, 'learning_rate': 0.1, 'regularization': 0.1}\n",
      "[7669.9212373703085]\n"
     ]
    },
    {
     "data": {
      "image/png": "[encoded data removed]",
      "text/plain": [
       "<Figure size 432x288 with 1 Axes>"
      ]
     },
     "metadata": {
      "needs_background": "light"
     },
     "output_type": "display_data"
    },
    {
     "name": "stdout",
     "output_type": "stream",
     "text": [
      "{'num_of_iteration': 2000, 'learning_rate': 0.1, 'regularization': 0.01}\n",
      "[3161.5807675813626]\n"
     ]
    },
    {
     "data": {
      "image/png": "[encoded data removed]",
      "text/plain": [
       "<Figure size 432x288 with 1 Axes>"
      ]
     },
     "metadata": {
      "needs_background": "light"
     },
     "output_type": "display_data"
    },
    {
     "name": "stdout",
     "output_type": "stream",
     "text": [
      "{'num_of_iteration': 2000, 'learning_rate': 0.1, 'regularization': 0.001}\n",
      "[347.6946333162724]\n"
     ]
    },
    {
     "data": {
      "image/png": "[encoded data removed]",
      "text/plain": [
       "<Figure size 432x288 with 1 Axes>"
      ]
     },
     "metadata": {
      "needs_background": "light"
     },
     "output_type": "display_data"
    },
    {
     "name": "stdout",
     "output_type": "stream",
     "text": [
      "{'num_of_iteration': 2000, 'learning_rate': 0.9, 'regularization': 0.1}\n",
      "[7664.227432227719]\n"
     ]
    },
    {
     "data": {
      "image/png": "[encoded data removed]",
      "text/plain": [
       "<Figure size 432x288 with 1 Axes>"
      ]
     },
     "metadata": {
      "needs_background": "light"
     },
     "output_type": "display_data"
    },
    {
     "name": "stdout",
     "output_type": "stream",
     "text": [
      "{'num_of_iteration': 2000, 'learning_rate': 0.9, 'regularization': 0.01}\n",
      "[3155.1312780160183]\n"
     ]
    },
    {
     "data": {
      "image/png": "[encoded data removed]",
      "text/plain": [
       "<Figure size 432x288 with 1 Axes>"
      ]
     },
     "metadata": {
      "needs_background": "light"
     },
     "output_type": "display_data"
    },
    {
     "name": "stdout",
     "output_type": "stream",
     "text": [
      "{'num_of_iteration': 2000, 'learning_rate': 0.9, 'regularization': 0.001}\n",
      "[251.42768895625164]\n"
     ]
    },
    {
     "data": {
      "image/png": "[encoded data removed]",
      "text/plain": [
       "<Figure size 432x288 with 1 Axes>"
      ]
     },
     "metadata": {
      "needs_background": "light"
     },
     "output_type": "display_data"
    },
    {
     "name": "stdout",
     "output_type": "stream",
     "text": [
      "{'num_of_iteration': 5000, 'learning_rate': 0.1, 'regularization': 0.1}\n",
      "[7668.852603484854]\n"
     ]
    },
    {
     "data": {
      "image/png": "[encoded data removed]",
      "text/plain": [
       "<Figure size 432x288 with 1 Axes>"
      ]
     },
     "metadata": {
      "needs_background": "light"
     },
     "output_type": "display_data"
    },
    {
     "name": "stdout",
     "output_type": "stream",
     "text": [
      "{'num_of_iteration': 5000, 'learning_rate': 0.1, 'regularization': 0.01}\n",
      "[3156.34960679901]\n"
     ]
    },
    {
     "data": {
      "image/png": "[encoded data removed]",
      "text/plain": [
       "<Figure size 432x288 with 1 Axes>"
      ]
     },
     "metadata": {
      "needs_background": "light"
     },
     "output_type": "display_data"
    },
    {
     "name": "stdout",
     "output_type": "stream",
     "text": [
      "{'num_of_iteration': 5000, 'learning_rate': 0.1, 'regularization': 0.001}\n",
      "[252.27511892236998]\n"
     ]
    },
    {
     "data": {
      "image/png": "[encoded data removed]",
      "text/plain": [
       "<Figure size 432x288 with 1 Axes>"
      ]
     },
     "metadata": {
      "needs_background": "light"
     },
     "output_type": "display_data"
    },
    {
     "name": "stdout",
     "output_type": "stream",
     "text": [
      "{'num_of_iteration': 5000, 'learning_rate': 0.9, 'regularization': 0.1}\n",
      "[7654.629549355428]\n"
     ]
    },
    {
     "data": {
      "image/png": "[encoded data removed]",
      "text/plain": [
       "<Figure size 432x288 with 1 Axes>"
      ]
     },
     "metadata": {
      "needs_background": "light"
     },
     "output_type": "display_data"
    },
    {
     "name": "stdout",
     "output_type": "stream",
     "text": [
      "{'num_of_iteration': 5000, 'learning_rate': 0.9, 'regularization': 0.01}\n",
      "[3152.6030437755508]\n"
     ]
    },
    {
     "data": {
      "image/png": "[encoded data removed]",
      "text/plain": [
       "<Figure size 432x288 with 1 Axes>"
      ]
     },
     "metadata": {
      "needs_background": "light"
     },
     "output_type": "display_data"
    },
    {
     "name": "stdout",
     "output_type": "stream",
     "text": [
      "{'num_of_iteration': 5000, 'learning_rate': 0.9, 'regularization': 0.001}\n",
      "[251.38499071145137]\n"
     ]
    },
    {
     "data": {
      "image/png": "[encoded data removed]",
      "text/plain": [
       "<Figure size 432x288 with 1 Axes>"
      ]
     },
     "metadata": {
      "needs_background": "light"
     },
     "output_type": "display_data"
    }
   ],
   "source": [
    "for g in grid:\n",
    "    p={\n",
    "    'num_of_iteration':g[0],\n",
    "    'learning_rate':g[1],\n",
    "    'regularization':g[2]\n",
    "    }\n",
    "    print(p)\n",
    "    Weights,train_error,val_error=train_model(X_train,y_train,X_val,y_val,p)\n",
    "    print(val_error)\n",
    "    plt.plot(np.arange(len(train_error)),train_error)\n",
    "    plt.xlabel(\"No. of iterations\")\n",
    "    plt.ylabel(\"Training Error\")   \n",
    "    plt.show()"
   ]
  },
  {
   "cell_type": "code",
   "execution_count": null,
   "metadata": {
    "colab": {},
    "colab_type": "code",
    "id": "SYFE8rY0DxRW"
   },
   "outputs": [],
   "source": [
    "# def grid_search(X_train,y_train,X_val,y_val,grid_param):\n",
    "#     grid=list(itertools(product))"
   ]
  },
  {
   "cell_type": "markdown",
   "metadata": {
    "colab_type": "text",
    "id": "MW507Q0v-Pvm"
   },
   "source": [
    "### Model Evaluation with R2 Score"
   ]
  },
  {
   "cell_type": "code",
   "execution_count": 109,
   "metadata": {
    "colab": {
     "base_uri": "https://localhost:8080/",
     "height": 34
    },
    "colab_type": "code",
    "id": "jp2e6NvcAG5e",
    "outputId": "cc789d91-709a-44a2-df97-0e35d3244469"
   },
   "outputs": [],
   "source": [
    "final_param = {'num_of_iteration': 5000, 'learning_rate': 0.1, 'regularization': 0.001}\n",
    "model_weights =  train_model(X_train,y_train,X_val,y_val,final_param) #Returns Weight, train_error and validation error\n"
   ]
  },
  {
   "cell_type": "code",
   "execution_count": 104,
   "metadata": {},
   "outputs": [],
   "source": [
    "#Select weight only as\n",
    "model_weights=model_weights[0]"
   ]
  },
  {
   "cell_type": "code",
   "execution_count": 105,
   "metadata": {},
   "outputs": [
    {
     "data": {
      "text/plain": [
       "array([[ 43.06863221],\n",
       "       [  1.94835727],\n",
       "       [714.33249749],\n",
       "       [697.40929342]])"
      ]
     },
     "execution_count": 105,
     "metadata": {},
     "output_type": "execute_result"
    }
   ],
   "source": [
    "# model_weights=model_weights[:4]\n",
    "model_weights"
   ]
  },
  {
   "cell_type": "code",
   "execution_count": null,
   "metadata": {},
   "outputs": [],
   "source": []
  },
  {
   "cell_type": "code",
   "execution_count": 106,
   "metadata": {
    "colab": {
     "base_uri": "https://localhost:8080/",
     "height": 51
    },
    "colab_type": "code",
    "id": "OJghMvMxiiPe",
    "outputId": "5de0733f-12cc-451e-f8e3-7fadcbf82b34"
   },
   "outputs": [
    {
     "name": "stdout",
     "output_type": "stream",
     "text": [
      "30980276.58839631\n"
     ]
    },
    {
     "data": {
      "text/plain": [
       "0.769081755631585"
      ]
     },
     "execution_count": 106,
     "metadata": {},
     "output_type": "execute_result"
    }
   ],
   "source": [
    "y_mean = np.mean(y_test)\n",
    "h_test = np.matmul(X_test, model_weights)\n",
    "n = X_test.shape[0]\n",
    "k = X_test.shape[1] - 1\n",
    "SST = np.sum(np.square(y_test - y_mean))\n",
    "SSR = np.sum(np.square(h_test- y_mean))\n",
    "SSE = SST - SSR\n",
    "print(SSE)\n",
    "R2 = 1 - (SSE/(n-k-1))/(SST/(n-1))\n",
    "R2"
   ]
  },
  {
   "cell_type": "code",
   "execution_count": 107,
   "metadata": {
    "colab": {
     "base_uri": "https://localhost:8080/",
     "height": 34
    },
    "colab_type": "code",
    "id": "xbWOG7vAAq8G",
    "outputId": "28faf09e-9274-402f-8c31-50f0ea7b0237"
   },
   "outputs": [
    {
     "data": {
      "text/plain": [
       "((19765, 4), (4, 1), (19765, 1))"
      ]
     },
     "execution_count": 107,
     "metadata": {},
     "output_type": "execute_result"
    }
   ],
   "source": [
    "X_test.shape,model_weights.shape,h_test.shape"
   ]
  },
  {
   "cell_type": "code",
   "execution_count": 108,
   "metadata": {
    "colab": {
     "base_uri": "https://localhost:8080/",
     "height": 34
    },
    "colab_type": "code",
    "id": "FGPuGCbX_XjT",
    "outputId": "9003f2cd-54c8-4350-c872-d567cf7b7016"
   },
   "outputs": [
    {
     "data": {
      "text/plain": [
       "10275063.558307843"
      ]
     },
     "execution_count": 108,
     "metadata": {},
     "output_type": "execute_result"
    }
   ],
   "source": [
    "sse = np.sum(np.square(h_test - y_test))\n",
    "sse"
   ]
  },
  {
   "cell_type": "code",
   "execution_count": 170,
   "metadata": {
    "colab": {},
    "colab_type": "code",
    "id": "wPBdu8-A_hGz"
   },
   "outputs": [],
   "source": [
    "# #5000 and 0.1\n",
    "# SSE= 1100482.76069282\n",
    "\n",
    "# R2= 0.9912581329676198\n",
    "\n",
    "# sse= 4699303.15028573"
   ]
  },
  {
   "cell_type": "code",
   "execution_count": null,
   "metadata": {},
   "outputs": [],
   "source": []
  }
 ],
 "metadata": {
  "colab": {
   "collapsed_sections": [],
   "machine_shape": "hm",
   "name": "LinearRegression_28th_feb_absent.ipynb",
   "provenance": []
  },
  "kernelspec": {
   "display_name": "Python 3",
   "language": "python",
   "name": "python3"
  },
  "language_info": {
   "codemirror_mode": {
    "name": "ipython",
    "version": 3
   },
   "file_extension": ".py",
   "mimetype": "text/x-python",
   "name": "python",
   "nbconvert_exporter": "python",
   "pygments_lexer": "ipython3",
   "version": "3.6.9"
  }
 },
 "nbformat": 4,
 "nbformat_minor": 1
}
